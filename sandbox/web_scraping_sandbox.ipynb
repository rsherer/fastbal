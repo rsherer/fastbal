{
 "cells": [
  {
   "cell_type": "markdown",
   "metadata": {},
   "source": [
    "# Exploration sandbox of MLS Fantasy stats page"
   ]
  },
  {
   "cell_type": "code",
   "execution_count": 1,
   "metadata": {},
   "outputs": [],
   "source": [
    "import pandas as pd\n",
    "import numpy as np\n",
    "import time\n",
    "import requests\n",
    "from bs4 import BeautifulSoup\n",
    "from selenium.webdriver import Chrome\n",
    "from typing import List, Tuple\n",
    "\n",
    "import matplotlib.pyplot as plt\n",
    "%matplotlib inline"
   ]
  },
  {
   "cell_type": "markdown",
   "metadata": {},
   "source": [
    "### Exploration of the mls fantasy pages.\n",
    "\n",
    "#### Pages needed:\n",
    "    1. Player pages - ex. for Christian Roldan: https://fantasy.mlssoccer.com/#stats-center/player-profile/172762\n",
    "    2. All players page - https://fantasy.mlssoccer.com/#stats-center\n",
    "        - Will need to use Selenium to navigate team by team to their pages, and then to pick each player\n",
    "    3. Standing page? - https://www.mlssoccer.com/standings\n",
    "    4. Expected goals/expected assists page (potentially from American Soccer Analysis)? https://www.americansocceranalysis.com/player-xg-2019"
   ]
  },
  {
   "cell_type": "code",
   "execution_count": 2,
   "metadata": {},
   "outputs": [],
   "source": [
    "def clean_data(text: str) -> List[str]:\n",
    "    \"\"\"Will receive a string and convert to a list of strings with the totals for each category \n",
    "    for the specific game.\n",
    "    \"\"\"\n",
    "    word = ''\n",
    "    dont_want = ['\\t', '\\n', '\\\\']\n",
    "    row = []\n",
    "    for char in text:\n",
    "        if char not in dont_want:\n",
    "            word += char\n",
    "            if word == '-':\n",
    "                row.append(word)\n",
    "                word = ''\n",
    "        elif word:\n",
    "            row.append(word)\n",
    "            word = ''\n",
    "    return row"
   ]
  },
  {
   "cell_type": "code",
   "execution_count": 3,
   "metadata": {},
   "outputs": [],
   "source": [
    "def get_weekly_info(page_table_obj, week: int) -> List[str]:\n",
    "    pass\n",
    "    #return clean_data(page_table_obj[week]) + [int(entry) for entry in clean_data(page_table_obj[week + 37])[0::2]]"
   ]
  },
  {
   "cell_type": "markdown",
   "metadata": {},
   "source": [
    "## NEED TO FIX, I THINK I'M PASSING IN A LIST, NOT A STRING"
   ]
  },
  {
   "cell_type": "code",
   "execution_count": 4,
   "metadata": {},
   "outputs": [],
   "source": [
    "def get_player_salary(player_info: str) -> float:\n",
    "    '''Method will receive the raw string from the player's info and return the salary as a float\n",
    "    '''\n",
    "    \n",
    "    assert type(player_info[2]) == str, \"input needs to be a string\"\n",
    "    assert len(player_info[2]) > 3, \"input is not the salary text \"\n",
    "    \n",
    "    sal = ''\n",
    "    for char in player_info[2][-2::-1]:\n",
    "        if char != \" \":\n",
    "            sal = char + sal\n",
    "        else:\n",
    "            return float(sal)\n",
    "    return float(sal)"
   ]
  },
  {
   "cell_type": "code",
   "execution_count": 5,
   "metadata": {},
   "outputs": [],
   "source": [
    "def get_player_team(player_info: str) -> str:\n",
    "    '''Method will receive the raw string from the player's info and return the team as a str\n",
    "    '''\n",
    "    \n",
    "    assert type(player_info[0]) == str, \"input needs to be a string\"\n",
    "    assert len(player_info[0]) > 0, \"input cannot be empty\"\n",
    "    \n",
    "    return player_info[0]"
   ]
  },
  {
   "cell_type": "code",
   "execution_count": 6,
   "metadata": {},
   "outputs": [],
   "source": [
    "def get_player_position(player_info: str) -> str:\n",
    "    '''Method will receive the raw string from the player's info and return their position as an initial.\n",
    "    G is for Goalkeeper\n",
    "    D is for Defender\n",
    "    M is for Midfielder\n",
    "    F is for Forward\n",
    "    '''\n",
    "    \n",
    "    assert type(player_info[1]) == str, \"input needs to be a string\"\n",
    "    assert len(player_info[1]) > 0, \"input cannot be empty\"\n",
    "    \n",
    "    return player_info[1][0]"
   ]
  },
  {
   "cell_type": "code",
   "execution_count": null,
   "metadata": {},
   "outputs": [],
   "source": []
  },
  {
   "cell_type": "code",
   "execution_count": null,
   "metadata": {},
   "outputs": [],
   "source": []
  },
  {
   "cell_type": "markdown",
   "metadata": {},
   "source": [
    "#### Start player page exploration using Christian Roldan\n",
    "https://fantasy.mlssoccer.com/#stats-center/player-profile/172762"
   ]
  },
  {
   "cell_type": "markdown",
   "metadata": {},
   "source": [
    "Using Selenium, per advice from Miles"
   ]
  },
  {
   "cell_type": "code",
   "execution_count": 23,
   "metadata": {},
   "outputs": [],
   "source": [
    "browser = Chrome()"
   ]
  },
  {
   "cell_type": "code",
   "execution_count": 24,
   "metadata": {},
   "outputs": [],
   "source": [
    "page_link = 'https://fantasy.mlssoccer.com/#stats-center/player-profile/172762'"
   ]
  },
  {
   "cell_type": "code",
   "execution_count": 25,
   "metadata": {},
   "outputs": [],
   "source": [
    "browser.get(page_link)\n",
    "time.sleep(5)"
   ]
  },
  {
   "cell_type": "code",
   "execution_count": 26,
   "metadata": {},
   "outputs": [],
   "source": [
    "html = browser.page_source"
   ]
  },
  {
   "cell_type": "code",
   "execution_count": 27,
   "metadata": {},
   "outputs": [],
   "source": [
    "# create the soup object that holds the text from the page\n",
    "soup = BeautifulSoup(html, 'html.parser')"
   ]
  },
  {
   "cell_type": "code",
   "execution_count": 28,
   "metadata": {},
   "outputs": [],
   "source": [
    "# select code from the page that describes info about the player, store in a list\n",
    "players = soup.select('div.player-info-wrapper')"
   ]
  },
  {
   "cell_type": "code",
   "execution_count": 29,
   "metadata": {},
   "outputs": [],
   "source": [
    "# create a list of text from players object\n",
    "player_text = [player.text for player in players]"
   ]
  },
  {
   "cell_type": "code",
   "execution_count": 30,
   "metadata": {},
   "outputs": [
    {
     "data": {
      "text/plain": [
       "['\\n\\n\\n\\n\\nSeattle Sounders FC\\n\\n\\t\\t\\t\\t\\tMidfielder\\n\\t\\t\\t\\t\\t\\n\\xa0|\\xa0$ 9.5m\\n\\n\\nWeek change: -\\nSeason change: -\\n\\n\\n More info\\n\\n\\n']"
      ]
     },
     "execution_count": 30,
     "metadata": {},
     "output_type": "execute_result"
    }
   ],
   "source": [
    "player_text"
   ]
  },
  {
   "cell_type": "code",
   "execution_count": 31,
   "metadata": {},
   "outputs": [
    {
     "data": {
      "text/plain": [
       "['Seattle Sounders FC',\n",
       " 'Midfielder',\n",
       " '\\xa0|\\xa0$ 9.5m',\n",
       " 'Week change: -',\n",
       " 'Season change: -',\n",
       " ' More info']"
      ]
     },
     "execution_count": 31,
     "metadata": {},
     "output_type": "execute_result"
    }
   ],
   "source": [
    "# when processing the player_text list, output is a list with 6 strings: team, position, playing\n",
    "# status, weekly salary change, season salary change, and a button for more info, which is not useful\n",
    "# for the purpose of this project \n",
    "clean_data(player_text[0])"
   ]
  },
  {
   "cell_type": "code",
   "execution_count": 17,
   "metadata": {},
   "outputs": [
    {
     "name": "stdout",
     "output_type": "stream",
     "text": [
      "index 0 --> Seattle Sounders FC\n",
      "\n",
      "index 1 --> Midfielder\n",
      "\n",
      "index 2 -->  | $ 9.5m\n",
      "\n",
      "index 3 --> Week change: -\n",
      "\n",
      "index 4 --> Season change: -\n",
      "\n",
      "index 5 -->  More info\n",
      "\n"
     ]
    }
   ],
   "source": [
    "for i, info in enumerate(clean_data(player_text[0])):\n",
    "    print(f\"index {i} --> \" + info + \"\\n\")"
   ]
  },
  {
   "cell_type": "code",
   "execution_count": 240,
   "metadata": {},
   "outputs": [
    {
     "data": {
      "text/plain": [
       "(9.8, float)"
      ]
     },
     "execution_count": 240,
     "metadata": {},
     "output_type": "execute_result"
    }
   ],
   "source": [
    "get_player_salary(clean_data(player_text[0])), type(get_player_salary(clean_data(player_text[0])))"
   ]
  },
  {
   "cell_type": "code",
   "execution_count": 18,
   "metadata": {},
   "outputs": [
    {
     "data": {
      "text/plain": [
       "'Seattle Sounders FC'"
      ]
     },
     "execution_count": 18,
     "metadata": {},
     "output_type": "execute_result"
    }
   ],
   "source": [
    "get_player_team(clean_data(player_text[0]))"
   ]
  },
  {
   "cell_type": "code",
   "execution_count": 19,
   "metadata": {},
   "outputs": [
    {
     "data": {
      "text/plain": [
       "'M'"
      ]
     },
     "execution_count": 19,
     "metadata": {},
     "output_type": "execute_result"
    }
   ],
   "source": [
    "get_player_position(clean_data(player_text[0]))"
   ]
  },
  {
   "cell_type": "code",
   "execution_count": 20,
   "metadata": {},
   "outputs": [
    {
     "data": {
      "text/plain": [
       "'Seattle Sounders FC'"
      ]
     },
     "execution_count": 20,
     "metadata": {},
     "output_type": "execute_result"
    }
   ],
   "source": [
    "clean_data(player_text[0])[0]"
   ]
  },
  {
   "cell_type": "code",
   "execution_count": null,
   "metadata": {},
   "outputs": [],
   "source": []
  },
  {
   "cell_type": "code",
   "execution_count": null,
   "metadata": {},
   "outputs": [],
   "source": [
    "def get_player_info(raw_player_data: List[str]) -> Tuple[str, float]:\n",
    "    '''Will receive a string and break out the team position, player salary, weekly salary change, and season\n",
    "    salary change\n",
    "    '''\n",
    "    pass"
   ]
  },
  {
   "cell_type": "code",
   "execution_count": 21,
   "metadata": {},
   "outputs": [],
   "source": [
    "# select code from the page that gives the players first initial and last name\n",
    "# will likely use the ID from the page URL as the identifier for the player, rather than the name\n",
    "names = soup.select('div.profile-name-wrapper')"
   ]
  },
  {
   "cell_type": "code",
   "execution_count": 22,
   "metadata": {},
   "outputs": [],
   "source": [
    "name_text = [name.text for name in names]"
   ]
  },
  {
   "cell_type": "code",
   "execution_count": 23,
   "metadata": {},
   "outputs": [
    {
     "data": {
      "text/plain": [
       "['C. Roldan']"
      ]
     },
     "execution_count": 23,
     "metadata": {},
     "output_type": "execute_result"
    }
   ],
   "source": [
    "clean_data(name_text[0])"
   ]
  },
  {
   "cell_type": "code",
   "execution_count": 24,
   "metadata": {},
   "outputs": [],
   "source": [
    "# table grabs all the data by row/game in the table of how points are calculated\n",
    "table = soup.select('div.row-table')"
   ]
  },
  {
   "cell_type": "code",
   "execution_count": 25,
   "metadata": {},
   "outputs": [],
   "source": [
    "# table_text is converting the beautifulsoup object of each row into a list of texts for later cleaning\n",
    "table_text = [stats.text for stats in table]"
   ]
  },
  {
   "cell_type": "code",
   "execution_count": 29,
   "metadata": {},
   "outputs": [
    {
     "data": {
      "text/plain": [
       "'\\n\\n\\n\\t\\t\\t\\t\\t\\t\\t\\t2538\\n\\t\\t\\t\\t\\t\\t\\t\\n\\n\\t\\t\\t\\t\\t\\t\\t\\t(57)\\n\\t\\t\\t\\t\\t\\t\\t\\n\\n\\n\\n\\t\\t\\t\\t\\t\\t\\t\\t6\\n\\t\\t\\t\\t\\t\\t\\t\\n\\n\\t\\t\\t\\t\\t\\t\\t\\t(30)\\n\\t\\t\\t\\t\\t\\t\\t\\n\\n\\n\\n\\t\\t\\t\\t\\t\\t\\t\\t5\\n\\t\\t\\t\\t\\t\\t\\t\\n\\n\\t\\t\\t\\t\\t\\t\\t\\t(15)\\n\\t\\t\\t\\t\\t\\t\\t\\n\\n\\n\\n\\t\\t\\t\\t\\t\\t\\t\\t9\\n\\t\\t\\t\\t\\t\\t\\t\\n\\n\\t\\t\\t\\t\\t\\t\\t\\t(9)\\n\\t\\t\\t\\t\\t\\t\\t\\n\\n\\n\\n\\t\\t\\t\\t\\t\\t\\t\\t0\\n\\t\\t\\t\\t\\t\\t\\t\\n\\n\\t\\t\\t\\t\\t\\t\\t\\t-\\n\\t\\t\\t\\t\\t\\t\\t\\n\\n\\n\\n\\t\\t\\t\\t\\t\\t\\t\\t0\\n\\t\\t\\t\\t\\t\\t\\t\\n\\n\\t\\t\\t\\t\\t\\t\\t\\t-\\n\\t\\t\\t\\t\\t\\t\\t\\n\\n\\n\\n\\t\\t\\t\\t\\t\\t\\t\\t0\\n\\t\\t\\t\\t\\t\\t\\t\\n\\n\\t\\t\\t\\t\\t\\t\\t\\t-\\n\\t\\t\\t\\t\\t\\t\\t\\n\\n\\n\\n\\t\\t\\t\\t\\t\\t\\t\\t41\\n\\t\\t\\t\\t\\t\\t\\t\\n\\n\\t\\t\\t\\t\\t\\t\\t\\t-\\n\\t\\t\\t\\t\\t\\t\\t\\n\\n\\n\\n\\t\\t\\t\\t\\t\\t\\t\\t0\\n\\t\\t\\t\\t\\t\\t\\t\\n\\n\\t\\t\\t\\t\\t\\t\\t\\t-\\n\\t\\t\\t\\t\\t\\t\\t\\n\\n\\n\\n\\t\\t\\t\\t\\t\\t\\t\\t4\\n\\t\\t\\t\\t\\t\\t\\t\\n\\n\\t\\t\\t\\t\\t\\t\\t\\t(-4)\\n\\t\\t\\t\\t\\t\\t\\t\\n\\n\\n\\n\\t\\t\\t\\t\\t\\t\\t\\t1\\n\\t\\t\\t\\t\\t\\t\\t\\n\\n\\t\\t\\t\\t\\t\\t\\t\\t(-3)\\n\\t\\t\\t\\t\\t\\t\\t\\n\\n\\n\\n\\t\\t\\t\\t\\t\\t\\t\\t0\\n\\t\\t\\t\\t\\t\\t\\t\\n\\n\\t\\t\\t\\t\\t\\t\\t\\t-\\n\\t\\t\\t\\t\\t\\t\\t\\n\\n\\n\\n\\t\\t\\t\\t\\t\\t\\t\\t49\\n\\t\\t\\t\\t\\t\\t\\t\\n\\n\\t\\t\\t\\t\\t\\t\\t\\t(3)\\n\\t\\t\\t\\t\\t\\t\\t\\n\\n\\n\\n\\t\\t\\t\\t\\t\\t\\t\\t1583\\n\\t\\t\\t\\t\\t\\t\\t\\n\\n\\t\\t\\t\\t\\t\\t\\t\\t(19)\\n\\t\\t\\t\\t\\t\\t\\t\\n\\n\\n\\n\\t\\t\\t\\t\\t\\t\\t\\t33\\n\\t\\t\\t\\t\\t\\t\\t\\n\\n\\t\\t\\t\\t\\t\\t\\t\\t(5)\\n\\t\\t\\t\\t\\t\\t\\t\\n\\n\\n\\n\\t\\t\\t\\t\\t\\t\\t\\t12\\n\\t\\t\\t\\t\\t\\t\\t\\n\\n\\t\\t\\t\\t\\t\\t\\t\\t-\\n\\t\\t\\t\\t\\t\\t\\t\\n\\n\\n\\n\\t\\t\\t\\t\\t\\t\\t\\t5\\n\\t\\t\\t\\t\\t\\t\\t\\n\\n\\t\\t\\t\\t\\t\\t\\t\\t(5)\\n\\t\\t\\t\\t\\t\\t\\t\\n\\n\\n\\n\\t\\t\\t\\t\\t\\t\\t\\t37\\n\\t\\t\\t\\t\\t\\t\\t\\n\\n\\t\\t\\t\\t\\t\\t\\t\\t(1)\\n\\t\\t\\t\\t\\t\\t\\t\\n\\n\\n\\n\\t\\t\\t\\t\\t\\t\\t\\t17\\n\\t\\t\\t\\t\\t\\t\\t\\n\\n\\t\\t\\t\\t\\t\\t\\t\\t(4)\\n\\t\\t\\t\\t\\t\\t\\t\\n\\n\\n\\n\\t\\t\\t\\t\\t\\t\\t\\t19\\n\\t\\t\\t\\t\\t\\t\\t\\n\\n\\t\\t\\t\\t\\t\\t\\t\\t-\\n\\t\\t\\t\\t\\t\\t\\t\\n\\n\\n\\n\\t\\t\\t\\t\\t\\t\\t\\t198\\n\\t\\t\\t\\t\\t\\t\\t\\n\\n\\t\\t\\t\\t\\t\\t\\t\\t(19)\\n\\t\\t\\t\\t\\t\\t\\t\\n\\n\\n\\n\\t\\t\\t\\t\\t\\t\\t\\t0\\n\\t\\t\\t\\t\\t\\t\\t\\n\\n\\t\\t\\t\\t\\t\\t\\t\\t-\\n\\t\\t\\t\\t\\t\\t\\t\\n\\n\\n\\n\\t\\t\\t\\t\\t\\t\\t\\t0\\n\\t\\t\\t\\t\\t\\t\\t\\n\\n\\t\\t\\t\\t\\t\\t\\t\\t-\\n\\t\\t\\t\\t\\t\\t\\t\\n\\n\\n\\n\\t\\t\\t\\t\\t\\t\\t\\t31\\n\\t\\t\\t\\t\\t\\t\\t\\n\\n\\t\\t\\t\\t\\t\\t\\t\\t-\\n\\t\\t\\t\\t\\t\\t\\t\\n\\n\\n\\n\\t\\t\\t\\t\\t\\t\\t\\t62\\n\\t\\t\\t\\t\\t\\t\\t\\n\\n\\t\\t\\t\\t\\t\\t\\t\\t(5)\\n\\t\\t\\t\\t\\t\\t\\t\\n\\n'"
      ]
     },
     "execution_count": 29,
     "metadata": {},
     "output_type": "execute_result"
    }
   ],
   "source": [
    "# table_text is all the table of fantasy data. On the page it looks like two tables, with row 1 lining up with\n",
    "# row 38, and the remainder rows lining up row n with row (n + 37)\n",
    "# the 0th index of table_text is the column header for all the team games\n",
    "# it appears first half of table_text are the column headers. \n",
    "# index 1 through 34 is the game info: game week, @ or vs reflecting away or home game, the opposing team, and\n",
    "# total fantasy points for the week\n",
    "# index 35 is the left table 'all'\n",
    "# index 36 is the right table header hover view of the column categories\n",
    "# index 37 is the right table header initials of the column categories\n",
    "# index 38 through 71 are the right table data, including category totals, and then fantasy team totals in ()\n",
    "# index 72 is the last row and is the aggregated season totals for all the categories and the fantasy points\n",
    "table_text[72]"
   ]
  },
  {
   "cell_type": "code",
   "execution_count": 30,
   "metadata": {},
   "outputs": [
    {
     "data": {
      "text/plain": [
       "['1',\n",
       " 'vs',\n",
       " 'FC Cincinnati',\n",
       " '5',\n",
       " 90,\n",
       " 0,\n",
       " 0,\n",
       " 0,\n",
       " 0,\n",
       " 0,\n",
       " 0,\n",
       " 1,\n",
       " 0,\n",
       " 0,\n",
       " 0,\n",
       " 0,\n",
       " 2,\n",
       " 80,\n",
       " 3,\n",
       " 1,\n",
       " 0,\n",
       " 2,\n",
       " 1,\n",
       " 2,\n",
       " 3,\n",
       " 0,\n",
       " 0,\n",
       " 1,\n",
       " 0]"
      ]
     },
     "execution_count": 30,
     "metadata": {},
     "output_type": "execute_result"
    }
   ],
   "source": [
    "clean_data(table_text[1]) + [int(entry) for entry in clean_data(table_text[38])[0::2]]"
   ]
  },
  {
   "cell_type": "code",
   "execution_count": 31,
   "metadata": {},
   "outputs": [
    {
     "data": {
      "text/plain": [
       "['3', '@', 'Chicago Fire', '4']"
      ]
     },
     "execution_count": 31,
     "metadata": {},
     "output_type": "execute_result"
    }
   ],
   "source": [
    "clean_data(table_text[3])"
   ]
  },
  {
   "cell_type": "code",
   "execution_count": 32,
   "metadata": {},
   "outputs": [
    {
     "name": "stdout",
     "output_type": "stream",
     "text": [
      "row 0 --> ['RD', 'OPPONENT', 'PTS'] \n",
      "\n",
      "row 1 --> ['1', 'vs', 'FC Cincinnati', '5'] \n",
      "\n",
      "row 2 --> ['2', 'vs', 'Colorado Rapids', '7'] \n",
      "\n",
      "row 3 --> ['3', '@', 'Chicago Fire', '4'] \n",
      "\n",
      "row 4 --> ['5', '@', 'Vancouver Whitecaps FC', '8'] \n",
      "\n",
      "row 5 --> ['6', 'vs', 'Real Salt Lake', '7'] \n",
      "\n",
      "row 6 --> ['7', 'vs', 'Toronto FC', '9'] \n",
      "\n",
      "row 7 --> ['8', '@', 'Los Angeles FC', '5'] \n",
      "\n",
      "row 8 --> ['9', 'vs', 'San Jose Earthquakes', '3'] \n",
      "\n",
      "row 9 --> ['9', 'vs', 'Los Angeles FC', '-', '2'] \n",
      "\n",
      "row 10 --> ['10', '@', 'Minnesota United FC', '10'] \n",
      "\n",
      "row 11 --> ['11', 'vs', 'Houston Dynamo', '9'] \n",
      "\n",
      "row 12 --> ['12', 'vs', 'Orlando City SC', '3'] \n",
      "\n",
      "row 13 --> ['12', '@', 'Philadelphia Union', '4'] \n",
      "\n",
      "row 14 --> ['13', '@', 'Sporting Kansas City', '5'] \n",
      "\n",
      "row 15 --> ['14', '@', 'FC Dallas', '2'] \n",
      "\n",
      "row 16 --> ['15', '@', 'Montreal Impact', '0'] \n",
      "\n",
      "row 17 --> ['17', 'vs', 'Vancouver Whitecaps FC', '0'] \n",
      "\n",
      "row 18 --> ['18', '@', 'New York City FC', '0'] \n",
      "\n",
      "row 19 --> ['18', '@', 'Columbus Crew SC', '0'] \n",
      "\n",
      "row 20 --> ['19', 'vs', 'Atlanta United FC', '8'] \n",
      "\n",
      "row 21 --> ['20', 'vs', 'Portland Timbers', '6'] \n",
      "\n",
      "row 22 --> ['21', '@', 'Houston Dynamo', '4'] \n",
      "\n",
      "row 23 --> ['22', 'vs', 'Sporting Kansas City', '3'] \n",
      "\n",
      "row 24 --> ['23', 'vs', 'New England Revolution', '6'] \n",
      "\n",
      "row 25 --> ['24', '@', 'Real Salt Lake', '3'] \n",
      "\n",
      "row 26 --> ['24', '@', 'LA Galaxy', '7'] \n",
      "\n",
      "row 27 --> ['25', '@', 'Portland Timbers', '7'] \n",
      "\n",
      "row 28 --> ['26', 'vs', 'LA Galaxy', '13'] \n",
      "\n",
      "row 29 --> ['27', '@', 'Colorado Rapids', '0'] \n",
      "\n",
      "row 30 --> ['28', 'vs', 'New York Red Bulls', '8'] \n",
      "\n",
      "row 31 --> ['29', 'vs', 'FC Dallas', '6'] \n",
      "\n",
      "row 32 --> ['29', '@', 'D.C. United', '4'] \n",
      "\n",
      "row 33 --> ['30', '@', 'San Jose Earthquakes', '7'] \n",
      "\n",
      "row 34 --> ['31', 'vs', 'Minnesota United FC', '4'] \n",
      "\n",
      "row 35 --> ['all', '-'] \n",
      "\n",
      "row 36 --> ['Minutes played', 'MIN', 'Goals', 'GF', 'Goal assist', 'A', 'Clean Sheet', 'CS', 'Penalty save', 'PS', 'Penalty earned', 'PE', 'Penalty miss', 'PM', 'Goals Conceded', 'GA', 'Saves', 'SV', 'Yellow card', 'Y', 'Red card', 'R', 'Own goal', 'OG', 'Tackles', 'T', 'Passes', 'P', 'Key Pass', 'KP', 'Crosses', 'CRS', 'Big Chance created', 'BC', ' Clearance', 'CL', 'Blocked passes', 'BLK', 'Interceptions', 'INT', 'Recovered balls', 'BR', 'Error leading to a goal', 'ELG', 'Own Goals Assist', 'OGA', 'Shots', 'SH', 'Was Fouled', 'WF'] \n",
      "\n",
      "row 37 --> ['MIN', 'GF', 'A', 'CS', 'PS', 'PE', 'PM', 'GA', 'SV', 'Y', 'R', 'OG', 'T', 'P', 'KP', 'CRS', 'BC', 'CL', 'BLK', 'INT', 'BR', 'ELG', 'OGA', 'SH', 'WF'] \n",
      "\n",
      "row 38 --> ['90', '(2)', '0', '-', '0', '-', '0', '-', '0', '-', '0', '-', '0', '-', '1', '-', '0', '-', '0', '-', '0', '-', '0', '-', '2', '-', '80', '(2)', '3', '(1)', '1', '-', '0', '-', '2', '-', '1', '-', '2', '-', '3', '-', '0', '-', '0', '-', '1', '-', '0', '-'] \n",
      "\n",
      "row 39 --> ['90', '(2)', '0', '-', '0', '-', '1', '(1)', '0', '-', '0', '-', '0', '-', '0', '-', '0', '-', '1', '(-1)', '0', '-', '0', '-', '3', '-', '70', '(2)', '0', '-', '0', '-', '0', '-', '1', '-', '2', '(1)', '1', '-', '15', '(2)', '0', '-', '0', '-', '1', '-', '3', '-'] \n",
      "\n",
      "row 40 --> ['90', '(2)', '0', '-', '0', '-', '0', '-', '0', '-', '0', '-', '0', '-', '2', '-', '0', '-', '1', '(-1)', '0', '-', '0', '-', '0', '-', '62', '(1)', '0', '-', '0', '-', '0', '-', '0', '-', '2', '(1)', '0', '-', '10', '(1)', '0', '-', '0', '-', '0', '-', '3', '-'] \n",
      "\n",
      "row 41 --> ['90', '(2)', '0', '-', '0', '-', '1', '(1)', '0', '-', '0', '-', '0', '-', '0', '-', '0', '-', '0', '-', '0', '-', '0', '-', '1', '-', '79', '(2)', '1', '-', '0', '-', '0', '-', '2', '-', '1', '-', '0', '-', '18', '(3)', '0', '-', '0', '-', '1', '-', '3', '-'] \n",
      "\n",
      "row 42 --> ['90', '(2)', '0', '-', '1', '(3)', '1', '(1)', '0', '-', '0', '-', '0', '-', '0', '-', '0', '-', '1', '(-1)', '0', '-', '0', '-', '0', '-', '52', '(1)', '2', '-', '1', '-', '0', '-', '1', '-', '1', '-', '1', '-', '8', '(1)', '0', '-', '0', '-', '2', '-', '1', '-'] \n",
      "\n",
      "row 43 --> ['90', '(2)', '1', '(5)', '0', '-', '0', '-', '0', '-', '0', '-', '0', '-', '2', '-', '0', '-', '0', '-', '0', '-', '0', '-', '2', '-', '57', '(1)', '1', '-', '1', '-', '1', '(1)', '1', '-', '0', '-', '0', '-', '5', '-', '0', '-', '0', '-', '3', '-', '0', '-'] \n",
      "\n",
      "row 44 --> ['90', '(2)', '0', '-', '0', '-', '0', '-', '0', '-', '0', '-', '0', '-', '4', '-', '0', '-', '0', '-', '0', '-', '0', '-', '5', '(1)', '43', '-', '1', '-', '0', '-', '0', '-', '1', '-', '0', '-', '0', '-', '6', '(1)', '0', '-', '0', '-', '0', '-', '5', '(1)'] \n",
      "\n",
      "row 45 --> ['90', '(2)', '0', '-', '0', '-', '0', '-', '0', '-', '0', '-', '0', '-', '2', '-', '0', '-', '0', '-', '0', '-', '0', '-', '4', '(1)', '56', '-', '0', '-', '1', '-', '0', '-', '1', '-', '0', '-', '0', '-', '2', '-', '0', '-', '0', '-', '1', '-', '0', '-'] \n",
      "\n",
      "row 46 --> ['18', '(1)', '0', '-', '0', '-', '0', '-', '0', '-', '0', '-', '0', '-', '1', '-', '0', '-', '0', '-', '1', '(-3)', '0', '-', '1', '-', '2', '-', '0', '-', '0', '-', '0', '-', '2', '-', '0', '-', '0', '-', '0', '-', '0', '-', '0', '-', '0', '-', '0', '-'] \n",
      "\n",
      "row 47 --> ['90', '(2)', '1', '(5)', '0', '-', '0', '-', '0', '-', '0', '-', '0', '-', '1', '-', '0', '-', '0', '-', '0', '-', '0', '-', '0', '-', '57', '(1)', '0', '-', '0', '-', '0', '-', '2', '-', '0', '-', '0', '-', '7', '(1)', '0', '-', '0', '-', '2', '-', '6', '(1)'] \n",
      "\n",
      "row 48 --> ['90', '(2)', '1', '(5)', '0', '-', '1', '(1)', '0', '-', '0', '-', '0', '-', '0', '-', '0', '-', '0', '-', '0', '-', '0', '-', '2', '-', '64', '(1)', '0', '-', '0', '-', '0', '-', '2', '-', '1', '-', '0', '-', '5', '-', '0', '-', '0', '-', '2', '-', '3', '-'] \n",
      "\n",
      "row 49 --> ['90', '(2)', '0', '-', '0', '-', '0', '-', '0', '-', '0', '-', '0', '-', '1', '-', '0', '-', '0', '-', '0', '-', '0', '-', '2', '-', '64', '-', '3', '(1)', '1', '-', '0', '-', '0', '-', '0', '-', '0', '-', '5', '-', '0', '-', '0', '-', '0', '-', '1', '-'] \n",
      "\n",
      "row 50 --> ['90', '(2)', '0', '-', '0', '-', '1', '(1)', '0', '-', '0', '-', '0', '-', '0', '-', '0', '-', '0', '-', '0', '-', '0', '-', '0', '-', '33', '-', '0', '-', '0', '-', '0', '-', '0', '-', '0', '-', '1', '-', '10', '(1)', '0', '-', '0', '-', '1', '-', '1', '-'] \n",
      "\n",
      "row 51 --> ['90', '(2)', '0', '-', '0', '-', '0', '-', '0', '-', '0', '-', '0', '-', '3', '-', '0', '-', '0', '-', '0', '-', '0', '-', '1', '-', '45', '(1)', '2', '-', '0', '-', '0', '-', '1', '-', '0', '-', '2', '-', '7', '(1)', '0', '-', '0', '-', '0', '-', '4', '(1)'] \n",
      "\n",
      "row 52 --> ['90', '(2)', '0', '-', '0', '-', '0', '-', '0', '-', '0', '-', '0', '-', '2', '-', '0', '-', '0', '-', '0', '-', '0', '-', '1', '-', '64', '-', '1', '-', '0', '-', '0', '-', '0', '-', '1', '-', '1', '-', '4', '-', '0', '-', '0', '-', '0', '-', '2', '-'] \n",
      "\n",
      "row 53 --> ['-', '-', '-', '-', '-', '-', '-', '-', '-', '-', '-', '-', '-', '-', '-', '-', '-', '-', '-', '-', '-', '-', '-', '-', '-', '-', '-', '-', '-', '-', '-', '-', '-', '-', '-', '-', '-', '-', '-', '-', '-', '-', '-', '-', '-', '-', '-', '-', '-', '-'] \n",
      "\n",
      "row 54 --> ['-', '-', '-', '-', '-', '-', '-', '-', '-', '-', '-', '-', '-', '-', '-', '-', '-', '-', '-', '-', '-', '-', '-', '-', '-', '-', '-', '-', '-', '-', '-', '-', '-', '-', '-', '-', '-', '-', '-', '-', '-', '-', '-', '-', '-', '-', '-', '-', '-', '-'] \n",
      "\n",
      "row 55 --> ['-', '-', '-', '-', '-', '-', '-', '-', '-', '-', '-', '-', '-', '-', '-', '-', '-', '-', '-', '-', '-', '-', '-', '-', '-', '-', '-', '-', '-', '-', '-', '-', '-', '-', '-', '-', '-', '-', '-', '-', '-', '-', '-', '-', '-', '-', '-', '-', '-', '-'] \n",
      "\n",
      "row 56 --> ['-', '-', '-', '-', '-', '-', '-', '-', '-', '-', '-', '-', '-', '-', '-', '-', '-', '-', '-', '-', '-', '-', '-', '-', '-', '-', '-', '-', '-', '-', '-', '-', '-', '-', '-', '-', '-', '-', '-', '-', '-', '-', '-', '-', '-', '-', '-', '-', '-', '-'] \n",
      "\n",
      "row 57 --> ['90', '(2)', '0', '-', '1', '(3)', '0', '-', '0', '-', '0', '-', '0', '-', '1', '-', '0', '-', '0', '-', '0', '-', '0', '-', '4', '(1)', '55', '(1)', '2', '-', '0', '-', '1', '(1)', '1', '-', '0', '-', '1', '-', '5', '-', '0', '-', '0', '-', '1', '-', '3', '-'] \n",
      "\n",
      "row 58 --> ['90', '(2)', '0', '-', '0', '-', '0', '-', '0', '-', '0', '-', '0', '-', '2', '-', '0', '-', '0', '-', '0', '-', '0', '-', '3', '-', '62', '(1)', '1', '-', '1', '-', '1', '(1)', '1', '-', '0', '-', '2', '-', '10', '(1)', '0', '-', '0', '-', '0', '-', '4', '(1)'] \n",
      "\n",
      "row 59 --> ['90', '(2)', '0', '-', '0', '-', '1', '(1)', '0', '-', '0', '-', '0', '-', '0', '-', '0', '-', '0', '-', '0', '-', '0', '-', '2', '-', '28', '-', '3', '(1)', '0', '-', '0', '-', '3', '-', '1', '-', '0', '-', '3', '-', '0', '-', '0', '-', '0', '-', '1', '-'] \n",
      "\n",
      "row 60 --> ['90', '(2)', '0', '-', '0', '-', '0', '-', '0', '-', '0', '-', '0', '-', '3', '-', '0', '-', '0', '-', '0', '-', '0', '-', '0', '-', '77', '-', '0', '-', '0', '-', '0', '-', '1', '-', '1', '-', '1', '-', '6', '(1)', '0', '-', '0', '-', '1', '-', '1', '-'] \n",
      "\n",
      "row 61 --> ['90', '(2)', '0', '-', '1', '(3)', '0', '-', '0', '-', '0', '-', '0', '-', '3', '-', '0', '-', '0', '-', '0', '-', '0', '-', '1', '-', '60', '-', '2', '-', '1', '-', '1', '(1)', '2', '-', '0', '-', '1', '-', '5', '-', '0', '-', '0', '-', '1', '-', '2', '-'] \n",
      "\n",
      "row 62 --> ['90', '(2)', '0', '-', '0', '-', '0', '-', '0', '-', '0', '-', '0', '-', '3', '-', '0', '-', '0', '-', '0', '-', '0', '-', '1', '-', '50', '(1)', '0', '-', '0', '-', '0', '-', '1', '-', '1', '-', '0', '-', '1', '-', '0', '-', '0', '-', '1', '-', '2', '-'] \n",
      "\n",
      "row 63 --> ['90', '(2)', '0', '-', '0', '-', '0', '-', '0', '-', '0', '-', '0', '-', '2', '-', '0', '-', '0', '-', '0', '-', '0', '-', '3', '-', '118', '(3)', '0', '-', '0', '-', '0', '-', '4', '(1)', '0', '-', '0', '-', '7', '(1)', '0', '-', '0', '-', '2', '-', '1', '-'] \n",
      "\n",
      "row 64 --> ['90', '(2)', '1', '(5)', '0', '-', '0', '-', '0', '-', '0', '-', '0', '-', '1', '-', '0', '-', '0', '-', '0', '-', '0', '-', '1', '-', '30', '-', '1', '-', '0', '-', '0', '-', '2', '-', '0', '-', '1', '-', '5', '-', '0', '-', '0', '-', '2', '-', '1', '-'] \n",
      "\n",
      "row 65 --> ['90', '(2)', '2', '(10)', '0', '-', '0', '-', '0', '-', '0', '-', '0', '-', '3', '-', '0', '-', '0', '-', '0', '-', '0', '-', '2', '-', '25', '-', '2', '-', '1', '-', '0', '-', '1', '-', '0', '-', '0', '-', '7', '(1)', '0', '-', '0', '-', '3', '-', '2', '-'] \n",
      "\n",
      "row 66 --> ['-', '-', '-', '-', '-', '-', '-', '-', '-', '-', '-', '-', '-', '-', '-', '-', '-', '-', '-', '-', '-', '-', '-', '-', '-', '-', '-', '-', '-', '-', '-', '-', '-', '-', '-', '-', '-', '-', '-', '-', '-', '-', '-', '-', '-', '-', '-', '-', '-', '-'] \n",
      "\n",
      "row 67 --> ['90', '(2)', '0', '-', '2', '(6)', '0', '-', '0', '-', '0', '-', '0', '-', '2', '-', '0', '-', '1', '(-1)', '0', '-', '0', '-', '1', '-', '48', '-', '1', '-', '1', '-', '0', '-', '2', '-', '0', '-', '1', '-', '10', '(1)', '0', '-', '0', '-', '3', '-', '1', '-'] \n",
      "\n",
      "row 68 --> ['90', '(2)', '0', '-', '0', '-', '1', '(1)', '0', '-', '0', '-', '0', '-', '0', '-', '0', '-', '0', '-', '0', '-', '0', '-', '2', '-', '46', '-', '0', '-', '0', '-', '0', '-', '0', '-', '2', '(1)', '1', '-', '11', '(1)', '0', '-', '0', '-', '2', '-', '5', '(1)'] \n",
      "\n",
      "row 69 --> ['90', '(2)', '0', '-', '0', '-', '0', '-', '0', '-', '0', '-', '0', '-', '2', '-', '0', '-', '0', '-', '0', '-', '0', '-', '2', '-', '54', '(1)', '3', '(1)', '1', '-', '0', '-', '2', '-', '0', '-', '1', '-', '4', '-', '0', '-', '0', '-', '1', '-', '3', '-'] \n",
      "\n",
      "row 70 --> ['90', '(2)', '0', '-', '0', '-', '1', '(1)', '0', '-', '0', '-', '0', '-', '0', '-', '0', '-', '0', '-', '0', '-', '0', '-', '0', '-', '53', '-', '3', '(1)', '1', '-', '1', '(1)', '1', '-', '3', '(1)', '1', '-', '11', '(1)', '0', '-', '0', '-', '0', '-', '1', '-'] \n",
      "\n",
      "row 71 --> ['90', '(2)', '0', '-', '0', '-', '1', '(1)', '0', '-', '0', '-', '0', '-', '0', '-', '0', '-', '0', '-', '0', '-', '0', '-', '3', '-', '49', '-', '1', '-', '1', '-', '0', '-', '0', '-', '0', '-', '1', '-', '8', '(1)', '0', '-', '0', '-', '0', '-', '3', '-'] \n",
      "\n",
      "row 72 --> ['2538', '(57)', '6', '(30)', '5', '(15)', '9', '(9)', '0', '-', '0', '-', '0', '-', '41', '-', '0', '-', '4', '(-4)', '1', '(-3)', '0', '-', '49', '(3)', '1583', '(19)', '33', '(5)', '12', '-', '5', '(5)', '37', '(1)', '17', '(4)', '19', '-', '198', '(19)', '0', '-', '0', '-', '31', '-', '62', '(5)'] \n",
      "\n"
     ]
    }
   ],
   "source": [
    "for i, text in enumerate(table_text):\n",
    "    print(f\"row {i} --> {clean_data(text)} \\n\")"
   ]
  },
  {
   "cell_type": "code",
   "execution_count": 34,
   "metadata": {},
   "outputs": [],
   "source": [
    "t36 = clean_data(table_text[36])"
   ]
  },
  {
   "cell_type": "code",
   "execution_count": 35,
   "metadata": {},
   "outputs": [
    {
     "data": {
      "text/plain": [
       "['MIN',\n",
       " 'GF',\n",
       " 'A',\n",
       " 'CS',\n",
       " 'PS',\n",
       " 'PE',\n",
       " 'PM',\n",
       " 'GA',\n",
       " 'SV',\n",
       " 'Y',\n",
       " 'R',\n",
       " 'OG',\n",
       " 'T',\n",
       " 'P',\n",
       " 'KP',\n",
       " 'CRS',\n",
       " 'BC',\n",
       " 'CL',\n",
       " 'BLK',\n",
       " 'INT',\n",
       " 'BR',\n",
       " 'ELG',\n",
       " 'OGA',\n",
       " 'SH',\n",
       " 'WF']"
      ]
     },
     "execution_count": 35,
     "metadata": {},
     "output_type": "execute_result"
    }
   ],
   "source": [
    "t36[1::2]"
   ]
  },
  {
   "cell_type": "code",
   "execution_count": 36,
   "metadata": {},
   "outputs": [
    {
     "data": {
      "text/plain": [
       "'\\n\\n\\n\\t\\t\\t\\t\\t\\t\\t\\t90\\n\\t\\t\\t\\t\\t\\t\\t\\n\\n\\t\\t\\t\\t\\t\\t\\t\\t(2)\\n\\t\\t\\t\\t\\t\\t\\t\\n\\n\\n\\n\\t\\t\\t\\t\\t\\t\\t\\t0\\n\\t\\t\\t\\t\\t\\t\\t\\n\\n\\t\\t\\t\\t\\t\\t\\t\\t-\\n\\t\\t\\t\\t\\t\\t\\t\\n\\n\\n\\n\\t\\t\\t\\t\\t\\t\\t\\t0\\n\\t\\t\\t\\t\\t\\t\\t\\n\\n\\t\\t\\t\\t\\t\\t\\t\\t-\\n\\t\\t\\t\\t\\t\\t\\t\\n\\n\\n\\n\\t\\t\\t\\t\\t\\t\\t\\t0\\n\\t\\t\\t\\t\\t\\t\\t\\n\\n\\t\\t\\t\\t\\t\\t\\t\\t-\\n\\t\\t\\t\\t\\t\\t\\t\\n\\n\\n\\n\\t\\t\\t\\t\\t\\t\\t\\t0\\n\\t\\t\\t\\t\\t\\t\\t\\n\\n\\t\\t\\t\\t\\t\\t\\t\\t-\\n\\t\\t\\t\\t\\t\\t\\t\\n\\n\\n\\n\\t\\t\\t\\t\\t\\t\\t\\t0\\n\\t\\t\\t\\t\\t\\t\\t\\n\\n\\t\\t\\t\\t\\t\\t\\t\\t-\\n\\t\\t\\t\\t\\t\\t\\t\\n\\n\\n\\n\\t\\t\\t\\t\\t\\t\\t\\t0\\n\\t\\t\\t\\t\\t\\t\\t\\n\\n\\t\\t\\t\\t\\t\\t\\t\\t-\\n\\t\\t\\t\\t\\t\\t\\t\\n\\n\\n\\n\\t\\t\\t\\t\\t\\t\\t\\t1\\n\\t\\t\\t\\t\\t\\t\\t\\n\\n\\t\\t\\t\\t\\t\\t\\t\\t-\\n\\t\\t\\t\\t\\t\\t\\t\\n\\n\\n\\n\\t\\t\\t\\t\\t\\t\\t\\t0\\n\\t\\t\\t\\t\\t\\t\\t\\n\\n\\t\\t\\t\\t\\t\\t\\t\\t-\\n\\t\\t\\t\\t\\t\\t\\t\\n\\n\\n\\n\\t\\t\\t\\t\\t\\t\\t\\t0\\n\\t\\t\\t\\t\\t\\t\\t\\n\\n\\t\\t\\t\\t\\t\\t\\t\\t-\\n\\t\\t\\t\\t\\t\\t\\t\\n\\n\\n\\n\\t\\t\\t\\t\\t\\t\\t\\t0\\n\\t\\t\\t\\t\\t\\t\\t\\n\\n\\t\\t\\t\\t\\t\\t\\t\\t-\\n\\t\\t\\t\\t\\t\\t\\t\\n\\n\\n\\n\\t\\t\\t\\t\\t\\t\\t\\t0\\n\\t\\t\\t\\t\\t\\t\\t\\n\\n\\t\\t\\t\\t\\t\\t\\t\\t-\\n\\t\\t\\t\\t\\t\\t\\t\\n\\n\\n\\n\\t\\t\\t\\t\\t\\t\\t\\t2\\n\\t\\t\\t\\t\\t\\t\\t\\n\\n\\t\\t\\t\\t\\t\\t\\t\\t-\\n\\t\\t\\t\\t\\t\\t\\t\\n\\n\\n\\n\\t\\t\\t\\t\\t\\t\\t\\t80\\n\\t\\t\\t\\t\\t\\t\\t\\n\\n\\t\\t\\t\\t\\t\\t\\t\\t(2)\\n\\t\\t\\t\\t\\t\\t\\t\\n\\n\\n\\n\\t\\t\\t\\t\\t\\t\\t\\t3\\n\\t\\t\\t\\t\\t\\t\\t\\n\\n\\t\\t\\t\\t\\t\\t\\t\\t(1)\\n\\t\\t\\t\\t\\t\\t\\t\\n\\n\\n\\n\\t\\t\\t\\t\\t\\t\\t\\t1\\n\\t\\t\\t\\t\\t\\t\\t\\n\\n\\t\\t\\t\\t\\t\\t\\t\\t-\\n\\t\\t\\t\\t\\t\\t\\t\\n\\n\\n\\n\\t\\t\\t\\t\\t\\t\\t\\t0\\n\\t\\t\\t\\t\\t\\t\\t\\n\\n\\t\\t\\t\\t\\t\\t\\t\\t-\\n\\t\\t\\t\\t\\t\\t\\t\\n\\n\\n\\n\\t\\t\\t\\t\\t\\t\\t\\t2\\n\\t\\t\\t\\t\\t\\t\\t\\n\\n\\t\\t\\t\\t\\t\\t\\t\\t-\\n\\t\\t\\t\\t\\t\\t\\t\\n\\n\\n\\n\\t\\t\\t\\t\\t\\t\\t\\t1\\n\\t\\t\\t\\t\\t\\t\\t\\n\\n\\t\\t\\t\\t\\t\\t\\t\\t-\\n\\t\\t\\t\\t\\t\\t\\t\\n\\n\\n\\n\\t\\t\\t\\t\\t\\t\\t\\t2\\n\\t\\t\\t\\t\\t\\t\\t\\n\\n\\t\\t\\t\\t\\t\\t\\t\\t-\\n\\t\\t\\t\\t\\t\\t\\t\\n\\n\\n\\n\\t\\t\\t\\t\\t\\t\\t\\t3\\n\\t\\t\\t\\t\\t\\t\\t\\n\\n\\t\\t\\t\\t\\t\\t\\t\\t-\\n\\t\\t\\t\\t\\t\\t\\t\\n\\n\\n\\n\\t\\t\\t\\t\\t\\t\\t\\t0\\n\\t\\t\\t\\t\\t\\t\\t\\n\\n\\t\\t\\t\\t\\t\\t\\t\\t-\\n\\t\\t\\t\\t\\t\\t\\t\\n\\n\\n\\n\\t\\t\\t\\t\\t\\t\\t\\t0\\n\\t\\t\\t\\t\\t\\t\\t\\n\\n\\t\\t\\t\\t\\t\\t\\t\\t-\\n\\t\\t\\t\\t\\t\\t\\t\\n\\n\\n\\n\\t\\t\\t\\t\\t\\t\\t\\t1\\n\\t\\t\\t\\t\\t\\t\\t\\n\\n\\t\\t\\t\\t\\t\\t\\t\\t-\\n\\t\\t\\t\\t\\t\\t\\t\\n\\n\\n\\n\\t\\t\\t\\t\\t\\t\\t\\t0\\n\\t\\t\\t\\t\\t\\t\\t\\n\\n\\t\\t\\t\\t\\t\\t\\t\\t-\\n\\t\\t\\t\\t\\t\\t\\t\\n\\n'"
      ]
     },
     "execution_count": 36,
     "metadata": {},
     "output_type": "execute_result"
    }
   ],
   "source": [
    "table_text[38]"
   ]
  },
  {
   "cell_type": "code",
   "execution_count": 37,
   "metadata": {},
   "outputs": [],
   "source": [
    "t38 = clean_data(table_text[38])"
   ]
  },
  {
   "cell_type": "code",
   "execution_count": 42,
   "metadata": {},
   "outputs": [
    {
     "data": {
      "text/plain": [
       "['90',\n",
       " '0',\n",
       " '0',\n",
       " '0',\n",
       " '0',\n",
       " '0',\n",
       " '0',\n",
       " '1',\n",
       " '0',\n",
       " '0',\n",
       " '0',\n",
       " '0',\n",
       " '2',\n",
       " '80',\n",
       " '3',\n",
       " '1',\n",
       " '0',\n",
       " '2',\n",
       " '1',\n",
       " '2',\n",
       " '3',\n",
       " '0',\n",
       " '0',\n",
       " '1',\n",
       " '0']"
      ]
     },
     "execution_count": 42,
     "metadata": {},
     "output_type": "execute_result"
    }
   ],
   "source": [
    "t38[0::2]"
   ]
  },
  {
   "cell_type": "code",
   "execution_count": 43,
   "metadata": {},
   "outputs": [],
   "source": [
    "t1 = clean_data(table_text[1])"
   ]
  },
  {
   "cell_type": "code",
   "execution_count": 44,
   "metadata": {},
   "outputs": [
    {
     "data": {
      "text/plain": [
       "['1', 'vs', 'FC Cincinnati', '5']"
      ]
     },
     "execution_count": 44,
     "metadata": {},
     "output_type": "execute_result"
    }
   ],
   "source": [
    "t1"
   ]
  },
  {
   "cell_type": "code",
   "execution_count": 45,
   "metadata": {},
   "outputs": [],
   "source": [
    "t2 = clean_data(table_text[2])"
   ]
  },
  {
   "cell_type": "code",
   "execution_count": 46,
   "metadata": {},
   "outputs": [
    {
     "data": {
      "text/plain": [
       "['2', 'vs', 'Colorado Rapids', '7']"
      ]
     },
     "execution_count": 46,
     "metadata": {},
     "output_type": "execute_result"
    }
   ],
   "source": [
    "t2"
   ]
  },
  {
   "cell_type": "code",
   "execution_count": 47,
   "metadata": {},
   "outputs": [
    {
     "data": {
      "text/plain": [
       "['1',\n",
       " 'vs',\n",
       " 'FC Cincinnati',\n",
       " '5',\n",
       " '90',\n",
       " '0',\n",
       " '0',\n",
       " '0',\n",
       " '0',\n",
       " '0',\n",
       " '0',\n",
       " '1',\n",
       " '0',\n",
       " '0',\n",
       " '0',\n",
       " '0',\n",
       " '2',\n",
       " '80',\n",
       " '3',\n",
       " '1',\n",
       " '0',\n",
       " '2',\n",
       " '1',\n",
       " '2',\n",
       " '3',\n",
       " '0',\n",
       " '0',\n",
       " '1',\n",
       " '0']"
      ]
     },
     "execution_count": 47,
     "metadata": {},
     "output_type": "execute_result"
    }
   ],
   "source": [
    "t1 + t38[0::2]"
   ]
  },
  {
   "cell_type": "code",
   "execution_count": 48,
   "metadata": {},
   "outputs": [
    {
     "data": {
      "text/plain": [
       "['1', 'vs', 'FC Cincinnati', '5']"
      ]
     },
     "execution_count": 48,
     "metadata": {},
     "output_type": "execute_result"
    }
   ],
   "source": [
    "clean_data(table_text[1])"
   ]
  },
  {
   "cell_type": "code",
   "execution_count": 50,
   "metadata": {},
   "outputs": [
    {
     "data": {
      "text/plain": [
       "25"
      ]
     },
     "execution_count": 50,
     "metadata": {},
     "output_type": "execute_result"
    }
   ],
   "source": [
    "len(clean_data(table_text[38])[0::2])"
   ]
  },
  {
   "cell_type": "code",
   "execution_count": 51,
   "metadata": {
    "scrolled": false
   },
   "outputs": [
    {
     "data": {
      "text/plain": [
       "['9',\n",
       " 'vs',\n",
       " 'San Jose Earthquakes',\n",
       " '3',\n",
       " '90',\n",
       " '0',\n",
       " '0',\n",
       " '0',\n",
       " '0',\n",
       " '0',\n",
       " '0',\n",
       " '2',\n",
       " '0',\n",
       " '0',\n",
       " '0',\n",
       " '0',\n",
       " '4',\n",
       " '56',\n",
       " '0',\n",
       " '1',\n",
       " '0',\n",
       " '1',\n",
       " '0',\n",
       " '0',\n",
       " '2',\n",
       " '0',\n",
       " '0',\n",
       " '1',\n",
       " '0']"
      ]
     },
     "execution_count": 51,
     "metadata": {},
     "output_type": "execute_result"
    }
   ],
   "source": [
    "clean_data(table_text[8]) + clean_data(table_text[45])[0::2]"
   ]
  },
  {
   "cell_type": "code",
   "execution_count": 54,
   "metadata": {},
   "outputs": [
    {
     "data": {
      "text/plain": [
       "['9',\n",
       " 'vs',\n",
       " 'Los Angeles FC',\n",
       " '-',\n",
       " '2',\n",
       " '18',\n",
       " '0',\n",
       " '0',\n",
       " '0',\n",
       " '0',\n",
       " '0',\n",
       " '0',\n",
       " '1',\n",
       " '0',\n",
       " '0',\n",
       " '1',\n",
       " '0',\n",
       " '1',\n",
       " '2',\n",
       " '0',\n",
       " '0',\n",
       " '0',\n",
       " '2',\n",
       " '0',\n",
       " '0',\n",
       " '0',\n",
       " '0',\n",
       " '0',\n",
       " '0',\n",
       " '0']"
      ]
     },
     "execution_count": 54,
     "metadata": {},
     "output_type": "execute_result"
    }
   ],
   "source": [
    "clean_data(table_text[9]) + clean_data(table_text[46])[0::2]"
   ]
  },
  {
   "cell_type": "code",
   "execution_count": 61,
   "metadata": {},
   "outputs": [
    {
     "data": {
      "text/plain": [
       "(29, 30, 29, 29, 29, 29)"
      ]
     },
     "execution_count": 61,
     "metadata": {},
     "output_type": "execute_result"
    }
   ],
   "source": [
    "(len(clean_data(table_text[8]) + clean_data(table_text[45])[0::2]),\n",
    "len(clean_data(table_text[9]) + clean_data(table_text[46])[0::2]),\n",
    "len(clean_data(table_text[10]) + clean_data(table_text[47])[0::2]),\n",
    "len(clean_data(table_text[11]) + clean_data(table_text[48])[0::2]),\n",
    "len(clean_data(table_text[12]) + clean_data(table_text[49])[0::2]),\n",
    " len(clean_data(table_text[13]) + clean_data(table_text[50])[0::2]))"
   ]
  },
  {
   "cell_type": "code",
   "execution_count": 66,
   "metadata": {},
   "outputs": [
    {
     "data": {
      "text/plain": [
       "50"
      ]
     },
     "execution_count": 66,
     "metadata": {},
     "output_type": "execute_result"
    }
   ],
   "source": [
    "len(clean_data(table_text[52]))"
   ]
  },
  {
   "cell_type": "code",
   "execution_count": 76,
   "metadata": {},
   "outputs": [
    {
     "data": {
      "text/plain": [
       "['90',\n",
       " '0',\n",
       " '0',\n",
       " '0',\n",
       " '0',\n",
       " '0',\n",
       " '0',\n",
       " '2',\n",
       " '0',\n",
       " '0',\n",
       " '0',\n",
       " '0',\n",
       " '1',\n",
       " '64',\n",
       " '1',\n",
       " '0',\n",
       " '0',\n",
       " '0',\n",
       " '1',\n",
       " '1',\n",
       " '4',\n",
       " '0',\n",
       " '0',\n",
       " '0',\n",
       " '2']"
      ]
     },
     "execution_count": 76,
     "metadata": {},
     "output_type": "execute_result"
    }
   ],
   "source": [
    "clean_data(table_text[52])[0::2]"
   ]
  },
  {
   "cell_type": "code",
   "execution_count": null,
   "metadata": {},
   "outputs": [],
   "source": []
  },
  {
   "cell_type": "code",
   "execution_count": null,
   "metadata": {},
   "outputs": [],
   "source": []
  },
  {
   "cell_type": "code",
   "execution_count": 100,
   "metadata": {},
   "outputs": [
    {
     "data": {
      "text/plain": [
       "(['', '', ''], '')"
      ]
     },
     "execution_count": 100,
     "metadata": {},
     "output_type": "execute_result"
    }
   ],
   "source": [
    "# this tells me that .split() creates a list based on where a hyphen happens, whereas strip will remove the \n",
    "# hyphen from the string. This is helpful to know later when I will remove stats from a category with basically\n",
    "# an n/a for that category; the website puts a hyphen as a placeholder.\n",
    "\n",
    "'--'.split('-'), ''.strip('-')"
   ]
  },
  {
   "cell_type": "code",
   "execution_count": null,
   "metadata": {},
   "outputs": [],
   "source": []
  },
  {
   "cell_type": "code",
   "execution_count": null,
   "metadata": {},
   "outputs": [],
   "source": []
  },
  {
   "cell_type": "code",
   "execution_count": 77,
   "metadata": {},
   "outputs": [],
   "source": [
    "# data for games start at index 38\n",
    "game_one = table_text[38]"
   ]
  },
  {
   "cell_type": "code",
   "execution_count": 78,
   "metadata": {},
   "outputs": [],
   "source": [
    "# \n",
    "game_two = table_text[39]"
   ]
  },
  {
   "cell_type": "code",
   "execution_count": 79,
   "metadata": {},
   "outputs": [],
   "source": [
    "# create a variable game_one_data which removes \\n and \\t and \\\\ from the row data\n",
    "game_one_data = clean_data(game_one)"
   ]
  },
  {
   "cell_type": "code",
   "execution_count": 80,
   "metadata": {},
   "outputs": [],
   "source": [
    "game_two_data = clean_data(game_two)"
   ]
  },
  {
   "cell_type": "code",
   "execution_count": 81,
   "metadata": {
    "scrolled": true
   },
   "outputs": [
    {
     "data": {
      "text/plain": [
       "50"
      ]
     },
     "execution_count": 81,
     "metadata": {},
     "output_type": "execute_result"
    }
   ],
   "source": [
    "len(game_one_data)"
   ]
  },
  {
   "cell_type": "code",
   "execution_count": 82,
   "metadata": {},
   "outputs": [
    {
     "data": {
      "text/plain": [
       "['90',\n",
       " '0',\n",
       " '0',\n",
       " '0',\n",
       " '0',\n",
       " '0',\n",
       " '0',\n",
       " '1',\n",
       " '0',\n",
       " '0',\n",
       " '0',\n",
       " '0',\n",
       " '2',\n",
       " '80',\n",
       " '3',\n",
       " '1',\n",
       " '0',\n",
       " '2',\n",
       " '1',\n",
       " '2',\n",
       " '3',\n",
       " '0',\n",
       " '0',\n",
       " '1',\n",
       " '0']"
      ]
     },
     "execution_count": 82,
     "metadata": {},
     "output_type": "execute_result"
    }
   ],
   "source": [
    "game_one_data[::2] # these are the actual totals for each category"
   ]
  },
  {
   "cell_type": "code",
   "execution_count": 83,
   "metadata": {},
   "outputs": [
    {
     "data": {
      "text/plain": [
       "['(2)',\n",
       " '-',\n",
       " '-',\n",
       " '-',\n",
       " '-',\n",
       " '-',\n",
       " '-',\n",
       " '-',\n",
       " '-',\n",
       " '-',\n",
       " '-',\n",
       " '-',\n",
       " '-',\n",
       " '(2)',\n",
       " '(1)',\n",
       " '-',\n",
       " '-',\n",
       " '-',\n",
       " '-',\n",
       " '-',\n",
       " '-',\n",
       " '-',\n",
       " '-',\n",
       " '-',\n",
       " '-']"
      ]
     },
     "execution_count": 83,
     "metadata": {},
     "output_type": "execute_result"
    }
   ],
   "source": [
    "game_one_data[1::2] # these are the fantasy points for each category total"
   ]
  },
  {
   "cell_type": "code",
   "execution_count": 84,
   "metadata": {},
   "outputs": [],
   "source": [
    "game_one_points = [int(point[1:-1])\n",
    "                  for point in game_one_data[1::2] if point.strip('-')]"
   ]
  },
  {
   "cell_type": "code",
   "execution_count": 85,
   "metadata": {},
   "outputs": [
    {
     "data": {
      "text/plain": [
       "[2, 2, 1]"
      ]
     },
     "execution_count": 85,
     "metadata": {},
     "output_type": "execute_result"
    }
   ],
   "source": [
    "game_one_points"
   ]
  },
  {
   "cell_type": "code",
   "execution_count": 86,
   "metadata": {},
   "outputs": [
    {
     "data": {
      "text/plain": [
       "5"
      ]
     },
     "execution_count": 86,
     "metadata": {},
     "output_type": "execute_result"
    }
   ],
   "source": [
    "sum(game_one_points)"
   ]
  },
  {
   "cell_type": "code",
   "execution_count": 87,
   "metadata": {},
   "outputs": [
    {
     "data": {
      "text/plain": [
       "['(2)',\n",
       " '-',\n",
       " '-',\n",
       " '(1)',\n",
       " '-',\n",
       " '-',\n",
       " '-',\n",
       " '-',\n",
       " '-',\n",
       " '(-1)',\n",
       " '-',\n",
       " '-',\n",
       " '-',\n",
       " '(2)',\n",
       " '-',\n",
       " '-',\n",
       " '-',\n",
       " '-',\n",
       " '(1)',\n",
       " '-',\n",
       " '(2)',\n",
       " '-',\n",
       " '-',\n",
       " '-',\n",
       " '-']"
      ]
     },
     "execution_count": 87,
     "metadata": {},
     "output_type": "execute_result"
    }
   ],
   "source": [
    "game_two_data[1::2]"
   ]
  },
  {
   "cell_type": "code",
   "execution_count": 88,
   "metadata": {},
   "outputs": [],
   "source": [
    "# game_one_points = [int(point[1])\n",
    "#                   for point in game_one_data[1::2] if point.strip('-')]\n",
    "\n",
    "game_two_points = [int(point[1:-1]) for point in game_two_data[1::2] if point.strip('-')]"
   ]
  },
  {
   "cell_type": "code",
   "execution_count": 89,
   "metadata": {},
   "outputs": [
    {
     "data": {
      "text/plain": [
       "([2, 1, -1, 2, 1, 2], 7)"
      ]
     },
     "execution_count": 89,
     "metadata": {},
     "output_type": "execute_result"
    }
   ],
   "source": [
    "game_two_points, sum(game_two_points)"
   ]
  },
  {
   "cell_type": "code",
   "execution_count": 90,
   "metadata": {},
   "outputs": [],
   "source": [
    "game_three = table_text[40]"
   ]
  },
  {
   "cell_type": "code",
   "execution_count": 91,
   "metadata": {},
   "outputs": [],
   "source": [
    "game_three_data = clean_data(game_three)"
   ]
  },
  {
   "cell_type": "code",
   "execution_count": 92,
   "metadata": {},
   "outputs": [],
   "source": [
    "game_three_points = [int(point[1:-1])\n",
    "                     for point in game_three_data[1::2] if point.strip('-')]"
   ]
  },
  {
   "cell_type": "code",
   "execution_count": 93,
   "metadata": {},
   "outputs": [
    {
     "data": {
      "text/plain": [
       "([2, -1, 1, 1, 1], 4)"
      ]
     },
     "execution_count": 93,
     "metadata": {},
     "output_type": "execute_result"
    }
   ],
   "source": [
    "game_three_points, sum(game_three_points)"
   ]
  },
  {
   "cell_type": "code",
   "execution_count": null,
   "metadata": {},
   "outputs": [],
   "source": []
  },
  {
   "cell_type": "code",
   "execution_count": null,
   "metadata": {},
   "outputs": [],
   "source": []
  },
  {
   "cell_type": "code",
   "execution_count": null,
   "metadata": {},
   "outputs": [],
   "source": []
  },
  {
   "cell_type": "code",
   "execution_count": null,
   "metadata": {},
   "outputs": [],
   "source": []
  },
  {
   "cell_type": "code",
   "execution_count": 101,
   "metadata": {},
   "outputs": [
    {
     "data": {
      "text/plain": [
       "5"
      ]
     },
     "execution_count": 101,
     "metadata": {},
     "output_type": "execute_result"
    }
   ],
   "source": [
    "sum(game_one_points)"
   ]
  },
  {
   "cell_type": "markdown",
   "metadata": {},
   "source": [
    "- Process will be\n",
    "- Go through each of the second half of the season for the points totals to parse points\n",
    "- will need to capture both the counts totals for the categories, and the points totals\n",
    "- will want to model the counts totals and then have rules-based to calculate the expected fantasy points from it"
   ]
  },
  {
   "cell_type": "code",
   "execution_count": 127,
   "metadata": {},
   "outputs": [
    {
     "data": {
      "text/plain": [
       "'\\n\\nMinutes played\\n\\t\\t\\t\\t\\t\\t\\tMIN\\n\\t\\t\\t\\t\\t\\t\\n\\nGoals\\n\\t\\t\\t\\t\\t\\t\\tGF\\n\\t\\t\\t\\t\\t\\t\\n\\nGoal assist\\n\\t\\t\\t\\t\\t\\t\\tA\\n\\t\\t\\t\\t\\t\\t\\n\\nClean Sheet\\n\\t\\t\\t\\t\\t\\t\\tCS\\n\\t\\t\\t\\t\\t\\t\\n\\nPenalty save\\n\\t\\t\\t\\t\\t\\t\\tPS\\n\\t\\t\\t\\t\\t\\t\\n\\nPenalty earned\\n\\t\\t\\t\\t\\t\\t\\tPE\\n\\t\\t\\t\\t\\t\\t\\n\\nPenalty miss\\n\\t\\t\\t\\t\\t\\t\\tPM\\n\\t\\t\\t\\t\\t\\t\\n\\nGoals Conceded\\n\\t\\t\\t\\t\\t\\t\\tGA\\n\\t\\t\\t\\t\\t\\t\\n\\nSaves\\n\\t\\t\\t\\t\\t\\t\\tSV\\n\\t\\t\\t\\t\\t\\t\\n\\nYellow card\\n\\t\\t\\t\\t\\t\\t\\tY\\n\\t\\t\\t\\t\\t\\t\\n\\nRed card\\n\\t\\t\\t\\t\\t\\t\\tR\\n\\t\\t\\t\\t\\t\\t\\n\\nOwn goal\\n\\t\\t\\t\\t\\t\\t\\tOG\\n\\t\\t\\t\\t\\t\\t\\n\\nTackles\\n\\t\\t\\t\\t\\t\\t\\tT\\n\\t\\t\\t\\t\\t\\t\\n\\nPasses\\n\\t\\t\\t\\t\\t\\t\\tP\\n\\t\\t\\t\\t\\t\\t\\n\\nKey Pass\\n\\t\\t\\t\\t\\t\\t\\tKP\\n\\t\\t\\t\\t\\t\\t\\n\\nCrosses\\n\\t\\t\\t\\t\\t\\t\\tCRS\\n\\t\\t\\t\\t\\t\\t\\n\\nBig Chance created\\n\\t\\t\\t\\t\\t\\t\\tBC\\n\\t\\t\\t\\t\\t\\t\\n\\n Clearance\\n\\t\\t\\t\\t\\t\\t\\tCL\\n\\t\\t\\t\\t\\t\\t\\n\\nBlocked passes\\n\\t\\t\\t\\t\\t\\t\\tBLK\\n\\t\\t\\t\\t\\t\\t\\n\\nInterceptions\\n\\t\\t\\t\\t\\t\\t\\tINT\\n\\t\\t\\t\\t\\t\\t\\n\\nRecovered balls\\n\\t\\t\\t\\t\\t\\t\\tBR\\n\\t\\t\\t\\t\\t\\t\\n\\nError leading to a goal\\n\\t\\t\\t\\t\\t\\t\\tELG\\n\\t\\t\\t\\t\\t\\t\\n\\nOwn Goals Assist\\n\\t\\t\\t\\t\\t\\t\\tOGA\\n\\t\\t\\t\\t\\t\\t\\n\\nShots\\n\\t\\t\\t\\t\\t\\t\\tSH\\n\\t\\t\\t\\t\\t\\t\\n\\nWas Fouled\\n\\t\\t\\t\\t\\t\\t\\tWF\\n\\t\\t\\t\\t\\t\\t\\n'"
      ]
     },
     "execution_count": 127,
     "metadata": {},
     "output_type": "execute_result"
    }
   ],
   "source": [
    "# rows 36 is the header column, so the rows of statistical categories and points associated are separated by\n",
    "# 37 rows in the data, but to line them up, needs to be n + 37\n",
    "table_text[36]"
   ]
  },
  {
   "cell_type": "code",
   "execution_count": 113,
   "metadata": {},
   "outputs": [
    {
     "data": {
      "text/plain": [
       "['Minutes played',\n",
       " 'MIN',\n",
       " 'Goals',\n",
       " 'GF',\n",
       " 'Goal assist',\n",
       " 'A',\n",
       " 'Clean Sheet',\n",
       " 'CS',\n",
       " 'Penalty save',\n",
       " 'PS',\n",
       " 'Penalty earned',\n",
       " 'PE',\n",
       " 'Penalty miss',\n",
       " 'PM',\n",
       " 'Goals Conceded',\n",
       " 'GA',\n",
       " 'Saves',\n",
       " 'SV',\n",
       " 'Yellow card',\n",
       " 'Y',\n",
       " 'Red card',\n",
       " 'R',\n",
       " 'Own goal',\n",
       " 'OG',\n",
       " 'Tackles',\n",
       " 'T',\n",
       " 'Passes',\n",
       " 'P',\n",
       " 'Key Pass',\n",
       " 'KP',\n",
       " 'Crosses',\n",
       " 'CRS',\n",
       " 'Big Chance created',\n",
       " 'BC',\n",
       " ' Clearance',\n",
       " 'CL',\n",
       " 'Blocked passes',\n",
       " 'BLK',\n",
       " 'Interceptions',\n",
       " 'INT',\n",
       " 'Recovered balls',\n",
       " 'BR',\n",
       " 'Error leading to a goal',\n",
       " 'ELG',\n",
       " 'Own Goals Assist',\n",
       " 'OGA',\n",
       " 'Shots',\n",
       " 'SH',\n",
       " 'Was Fouled',\n",
       " 'WF']"
      ]
     },
     "execution_count": 113,
     "metadata": {},
     "output_type": "execute_result"
    }
   ],
   "source": [
    "clean_data(table_text[36])"
   ]
  },
  {
   "cell_type": "code",
   "execution_count": 116,
   "metadata": {},
   "outputs": [
    {
     "name": "stdout",
     "output_type": "stream",
     "text": [
      "Minutes played MIN\n",
      "Goals GF\n",
      "Goal assist A\n",
      "Clean Sheet CS\n",
      "Penalty save PS\n",
      "Penalty earned PE\n",
      "Penalty miss PM\n",
      "Goals Conceded GA\n",
      "Saves SV\n",
      "Yellow card Y\n",
      "Red card R\n",
      "Own goal OG\n",
      "Tackles T\n",
      "Passes P\n",
      "Key Pass KP\n",
      "Crosses CRS\n",
      "Big Chance created BC\n",
      " Clearance CL\n",
      "Blocked passes BLK\n",
      "Interceptions INT\n",
      "Recovered balls BR\n",
      "Error leading to a goal ELG\n",
      "Own Goals Assist OGA\n",
      "Shots SH\n",
      "Was Fouled WF\n"
     ]
    }
   ],
   "source": [
    "# Here I am just going through the header for the table, and pairing the acronym visible in the table, and the\n",
    "# actual title for the category when you hover the mouse over the acronym. I think I want to keep the acronyms \n",
    "# and then have a dict/list for refernce.\n",
    "\n",
    "for category, acronym in zip(clean_data(table_text[36])[0::2], clean_data(table_text[36])[1::2]):\n",
    "    print(category, acronym)"
   ]
  },
  {
   "cell_type": "code",
   "execution_count": 125,
   "metadata": {},
   "outputs": [
    {
     "data": {
      "text/plain": [
       "['all',\n",
       " '-',\n",
       " '2538',\n",
       " '6',\n",
       " '5',\n",
       " '9',\n",
       " '0',\n",
       " '0',\n",
       " '0',\n",
       " '41',\n",
       " '0',\n",
       " '4',\n",
       " '1',\n",
       " '0',\n",
       " '49',\n",
       " '1583',\n",
       " '33',\n",
       " '12',\n",
       " '5',\n",
       " '37',\n",
       " '17',\n",
       " '19',\n",
       " '198',\n",
       " '0',\n",
       " '0',\n",
       " '31',\n",
       " '62']"
      ]
     },
     "execution_count": 125,
     "metadata": {},
     "output_type": "execute_result"
    }
   ],
   "source": [
    "#clean_data(table_text[72])\n",
    "clean_data(table_text[35]) + clean_data(table_text[72])[0::2]"
   ]
  },
  {
   "cell_type": "code",
   "execution_count": 128,
   "metadata": {},
   "outputs": [
    {
     "data": {
      "text/plain": [
       "27"
      ]
     },
     "execution_count": 128,
     "metadata": {},
     "output_type": "execute_result"
    }
   ],
   "source": [
    "len(clean_data(table_text[35]) + clean_data(table_text[72])[0::2])"
   ]
  },
  {
   "cell_type": "code",
   "execution_count": 146,
   "metadata": {},
   "outputs": [
    {
     "data": {
      "text/plain": [
       "['RD',\n",
       " 'OPPONENT',\n",
       " 'PTS',\n",
       " 'MIN',\n",
       " 'GF',\n",
       " 'A',\n",
       " 'CS',\n",
       " 'PS',\n",
       " 'PE',\n",
       " 'PM',\n",
       " 'GA',\n",
       " 'SV',\n",
       " 'Y',\n",
       " 'R',\n",
       " 'OG',\n",
       " 'T',\n",
       " 'P',\n",
       " 'KP',\n",
       " 'CRS',\n",
       " 'BC',\n",
       " 'CL',\n",
       " 'BLK',\n",
       " 'INT',\n",
       " 'BR',\n",
       " 'ELG',\n",
       " 'OGA',\n",
       " 'SH',\n",
       " 'WF']"
      ]
     },
     "execution_count": 146,
     "metadata": {},
     "output_type": "execute_result"
    }
   ],
   "source": [
    "clean_data(table_text[0]) + clean_data(table_text[36])[1::2]"
   ]
  },
  {
   "cell_type": "code",
   "execution_count": null,
   "metadata": {},
   "outputs": [],
   "source": []
  },
  {
   "cell_type": "code",
   "execution_count": null,
   "metadata": {},
   "outputs": [],
   "source": []
  },
  {
   "cell_type": "code",
   "execution_count": null,
   "metadata": {},
   "outputs": [],
   "source": []
  },
  {
   "cell_type": "markdown",
   "metadata": {},
   "source": [
    "#### Now we will make a dataframe with Christian Roldan's data. This is essentially the cleaning step for when the data is downloaded. I will have to think more about how all of this is stored.\n",
    "\n",
    "* Of note will be cleaning up the column names and fixing the case when there are negative points for the week and an extra column is added."
   ]
  },
  {
   "cell_type": "code",
   "execution_count": 229,
   "metadata": {},
   "outputs": [],
   "source": [
    "cr_data = [clean_data(table_text[i]) + clean_data(table_text[i + 37])[0::2] for i in range(1,36)]    "
   ]
  },
  {
   "cell_type": "code",
   "execution_count": 230,
   "metadata": {},
   "outputs": [],
   "source": [
    "def update_negative_scores(game: List) -> List:\n",
    "    '''Check row of data for a hyphen to indicate a negative score, and then update the row for\n",
    "    the negative score for the game, and correct the length of the row to match the rest of the table.\n",
    "    '''\n",
    "    if game[3] == '-':\n",
    "        game[4] = '-' + game[4]\n",
    "        game[3:] = game[4:]\n",
    "    return game"
   ]
  },
  {
   "cell_type": "code",
   "execution_count": 231,
   "metadata": {},
   "outputs": [],
   "source": [
    "row8 = cr_data[8]"
   ]
  },
  {
   "cell_type": "code",
   "execution_count": 232,
   "metadata": {},
   "outputs": [
    {
     "data": {
      "text/plain": [
       "['9',\n",
       " 'vs',\n",
       " 'Los Angeles FC',\n",
       " '-',\n",
       " '2',\n",
       " '18',\n",
       " '0',\n",
       " '0',\n",
       " '0',\n",
       " '0',\n",
       " '0',\n",
       " '0',\n",
       " '1',\n",
       " '0',\n",
       " '0',\n",
       " '1',\n",
       " '0',\n",
       " '1',\n",
       " '2',\n",
       " '0',\n",
       " '0',\n",
       " '0',\n",
       " '2',\n",
       " '0',\n",
       " '0',\n",
       " '0',\n",
       " '0',\n",
       " '0',\n",
       " '0',\n",
       " '0']"
      ]
     },
     "execution_count": 232,
     "metadata": {},
     "output_type": "execute_result"
    }
   ],
   "source": [
    "row8"
   ]
  },
  {
   "cell_type": "code",
   "execution_count": 233,
   "metadata": {},
   "outputs": [
    {
     "data": {
      "text/plain": [
       "['9',\n",
       " 'vs',\n",
       " 'Los Angeles FC',\n",
       " '-2',\n",
       " '18',\n",
       " '0',\n",
       " '0',\n",
       " '0',\n",
       " '0',\n",
       " '0',\n",
       " '0',\n",
       " '1',\n",
       " '0',\n",
       " '0',\n",
       " '1',\n",
       " '0',\n",
       " '1',\n",
       " '2',\n",
       " '0',\n",
       " '0',\n",
       " '0',\n",
       " '2',\n",
       " '0',\n",
       " '0',\n",
       " '0',\n",
       " '0',\n",
       " '0',\n",
       " '0',\n",
       " '0']"
      ]
     },
     "execution_count": 233,
     "metadata": {},
     "output_type": "execute_result"
    }
   ],
   "source": [
    "update_negative_scores(row8)"
   ]
  },
  {
   "cell_type": "code",
   "execution_count": 234,
   "metadata": {},
   "outputs": [
    {
     "data": {
      "text/plain": [
       "(29, 29)"
      ]
     },
     "execution_count": 234,
     "metadata": {},
     "output_type": "execute_result"
    }
   ],
   "source": [
    "len(row8), len(cr_data[3])"
   ]
  },
  {
   "cell_type": "code",
   "execution_count": 235,
   "metadata": {},
   "outputs": [],
   "source": [
    "row7 = cr_data[7]"
   ]
  },
  {
   "cell_type": "code",
   "execution_count": 236,
   "metadata": {},
   "outputs": [
    {
     "data": {
      "text/plain": [
       "(['9',\n",
       "  'vs',\n",
       "  'San Jose Earthquakes',\n",
       "  '3',\n",
       "  '90',\n",
       "  '0',\n",
       "  '0',\n",
       "  '0',\n",
       "  '0',\n",
       "  '0',\n",
       "  '0',\n",
       "  '2',\n",
       "  '0',\n",
       "  '0',\n",
       "  '0',\n",
       "  '0',\n",
       "  '4',\n",
       "  '56',\n",
       "  '0',\n",
       "  '1',\n",
       "  '0',\n",
       "  '1',\n",
       "  '0',\n",
       "  '0',\n",
       "  '2',\n",
       "  '0',\n",
       "  '0',\n",
       "  '1',\n",
       "  '0'],\n",
       " 29)"
      ]
     },
     "execution_count": 236,
     "metadata": {},
     "output_type": "execute_result"
    }
   ],
   "source": [
    "row7, len(row7)"
   ]
  },
  {
   "cell_type": "code",
   "execution_count": 237,
   "metadata": {},
   "outputs": [
    {
     "data": {
      "text/plain": [
       "['9',\n",
       " 'vs',\n",
       " 'San Jose Earthquakes',\n",
       " '3',\n",
       " '90',\n",
       " '0',\n",
       " '0',\n",
       " '0',\n",
       " '0',\n",
       " '0',\n",
       " '0',\n",
       " '2',\n",
       " '0',\n",
       " '0',\n",
       " '0',\n",
       " '0',\n",
       " '4',\n",
       " '56',\n",
       " '0',\n",
       " '1',\n",
       " '0',\n",
       " '1',\n",
       " '0',\n",
       " '0',\n",
       " '2',\n",
       " '0',\n",
       " '0',\n",
       " '1',\n",
       " '0']"
      ]
     },
     "execution_count": 237,
     "metadata": {},
     "output_type": "execute_result"
    }
   ],
   "source": [
    "update_negative_scores(row7)"
   ]
  },
  {
   "cell_type": "code",
   "execution_count": 238,
   "metadata": {},
   "outputs": [
    {
     "data": {
      "text/plain": [
       "29"
      ]
     },
     "execution_count": 238,
     "metadata": {},
     "output_type": "execute_result"
    }
   ],
   "source": [
    "len(_)"
   ]
  },
  {
   "cell_type": "code",
   "execution_count": null,
   "metadata": {},
   "outputs": [],
   "source": []
  },
  {
   "cell_type": "code",
   "execution_count": 200,
   "metadata": {},
   "outputs": [
    {
     "data": {
      "text/plain": [
       "['9',\n",
       " 'vs',\n",
       " 'Los Angeles FC',\n",
       " '-',\n",
       " '2',\n",
       " '18',\n",
       " '0',\n",
       " '0',\n",
       " '0',\n",
       " '0',\n",
       " '0',\n",
       " '0',\n",
       " '1',\n",
       " '0',\n",
       " '0',\n",
       " '1',\n",
       " '0',\n",
       " '1',\n",
       " '2',\n",
       " '0',\n",
       " '0',\n",
       " '0',\n",
       " '2',\n",
       " '0',\n",
       " '0',\n",
       " '0',\n",
       " '0',\n",
       " '0',\n",
       " '0',\n",
       " '0']"
      ]
     },
     "execution_count": 200,
     "metadata": {},
     "output_type": "execute_result"
    }
   ],
   "source": [
    "cr_data[8]"
   ]
  },
  {
   "cell_type": "code",
   "execution_count": 195,
   "metadata": {},
   "outputs": [
    {
     "data": {
      "text/plain": [
       "True"
      ]
     },
     "execution_count": 195,
     "metadata": {},
     "output_type": "execute_result"
    }
   ],
   "source": [
    "row8[4:] == cr_data[8][4:]"
   ]
  },
  {
   "cell_type": "code",
   "execution_count": 184,
   "metadata": {
    "scrolled": true
   },
   "outputs": [
    {
     "name": "stdout",
     "output_type": "stream",
     "text": [
      "5 90 0 <class 'str'> <class 'list'> 29\n",
      "7 90 0 <class 'str'> <class 'list'> 29\n",
      "4 90 0 <class 'str'> <class 'list'> 29\n",
      "8 90 0 <class 'str'> <class 'list'> 29\n",
      "7 90 0 <class 'str'> <class 'list'> 29\n",
      "9 90 1 <class 'str'> <class 'list'> 29\n",
      "5 90 0 <class 'str'> <class 'list'> 29\n",
      "3 90 0 <class 'str'> <class 'list'> 29\n",
      "- 2 18 <class 'str'> <class 'list'> 30\n",
      "10 90 1 <class 'str'> <class 'list'> 29\n",
      "9 90 1 <class 'str'> <class 'list'> 29\n",
      "3 90 0 <class 'str'> <class 'list'> 29\n",
      "4 90 0 <class 'str'> <class 'list'> 29\n",
      "5 90 0 <class 'str'> <class 'list'> 29\n",
      "2 90 0 <class 'str'> <class 'list'> 29\n",
      "0 - - <class 'str'> <class 'list'> 29\n",
      "0 - - <class 'str'> <class 'list'> 29\n",
      "0 - - <class 'str'> <class 'list'> 29\n",
      "0 - - <class 'str'> <class 'list'> 29\n",
      "8 90 0 <class 'str'> <class 'list'> 29\n",
      "6 90 0 <class 'str'> <class 'list'> 29\n",
      "4 90 0 <class 'str'> <class 'list'> 29\n",
      "3 90 0 <class 'str'> <class 'list'> 29\n",
      "6 90 0 <class 'str'> <class 'list'> 29\n",
      "3 90 0 <class 'str'> <class 'list'> 29\n",
      "7 90 0 <class 'str'> <class 'list'> 29\n",
      "7 90 1 <class 'str'> <class 'list'> 29\n",
      "13 90 2 <class 'str'> <class 'list'> 29\n",
      "0 - - <class 'str'> <class 'list'> 29\n",
      "8 90 0 <class 'str'> <class 'list'> 29\n",
      "6 90 0 <class 'str'> <class 'list'> 29\n",
      "4 90 0 <class 'str'> <class 'list'> 29\n",
      "7 90 0 <class 'str'> <class 'list'> 29\n",
      "4 90 0 <class 'str'> <class 'list'> 29\n",
      "6 5 9 <class 'str'> <class 'list'> 27\n"
     ]
    }
   ],
   "source": [
    "for game in cr_data:\n",
    "    print(game[3], game[4], game[5], type(game[3]), type(game), len(game))"
   ]
  },
  {
   "cell_type": "code",
   "execution_count": 136,
   "metadata": {},
   "outputs": [],
   "source": [
    "df = pd.DataFrame(cr_data)"
   ]
  },
  {
   "cell_type": "code",
   "execution_count": 148,
   "metadata": {},
   "outputs": [],
   "source": [
    "col = clean_data(table_text[0]) + clean_data(table_text[36])[1::2]"
   ]
  },
  {
   "cell_type": "code",
   "execution_count": 151,
   "metadata": {},
   "outputs": [],
   "source": [
    "col.append('n/a')"
   ]
  },
  {
   "cell_type": "code",
   "execution_count": 154,
   "metadata": {},
   "outputs": [],
   "source": [
    "col.append('n/a 2')"
   ]
  },
  {
   "cell_type": "code",
   "execution_count": 155,
   "metadata": {},
   "outputs": [],
   "source": [
    "df.columns = col"
   ]
  },
  {
   "cell_type": "code",
   "execution_count": 160,
   "metadata": {},
   "outputs": [
    {
     "data": {
      "text/html": [
       "<div>\n",
       "<style scoped>\n",
       "    .dataframe tbody tr th:only-of-type {\n",
       "        vertical-align: middle;\n",
       "    }\n",
       "\n",
       "    .dataframe tbody tr th {\n",
       "        vertical-align: top;\n",
       "    }\n",
       "\n",
       "    .dataframe thead th {\n",
       "        text-align: right;\n",
       "    }\n",
       "</style>\n",
       "<table border=\"1\" class=\"dataframe\">\n",
       "  <thead>\n",
       "    <tr style=\"text-align: right;\">\n",
       "      <th></th>\n",
       "      <th>RD</th>\n",
       "      <th>OPPONENT</th>\n",
       "      <th>PTS</th>\n",
       "      <th>MIN</th>\n",
       "      <th>GF</th>\n",
       "      <th>A</th>\n",
       "      <th>CS</th>\n",
       "      <th>PS</th>\n",
       "      <th>PE</th>\n",
       "      <th>PM</th>\n",
       "      <th>...</th>\n",
       "      <th>CL</th>\n",
       "      <th>BLK</th>\n",
       "      <th>INT</th>\n",
       "      <th>BR</th>\n",
       "      <th>ELG</th>\n",
       "      <th>OGA</th>\n",
       "      <th>SH</th>\n",
       "      <th>WF</th>\n",
       "      <th>n/a</th>\n",
       "      <th>n/a 2</th>\n",
       "    </tr>\n",
       "  </thead>\n",
       "  <tbody>\n",
       "    <tr>\n",
       "      <td>0</td>\n",
       "      <td>1</td>\n",
       "      <td>vs</td>\n",
       "      <td>FC Cincinnati</td>\n",
       "      <td>5</td>\n",
       "      <td>90</td>\n",
       "      <td>0</td>\n",
       "      <td>0</td>\n",
       "      <td>0</td>\n",
       "      <td>0</td>\n",
       "      <td>0</td>\n",
       "      <td>...</td>\n",
       "      <td>0</td>\n",
       "      <td>2</td>\n",
       "      <td>1</td>\n",
       "      <td>2</td>\n",
       "      <td>3</td>\n",
       "      <td>0</td>\n",
       "      <td>0</td>\n",
       "      <td>1</td>\n",
       "      <td>0</td>\n",
       "      <td>None</td>\n",
       "    </tr>\n",
       "    <tr>\n",
       "      <td>1</td>\n",
       "      <td>2</td>\n",
       "      <td>vs</td>\n",
       "      <td>Colorado Rapids</td>\n",
       "      <td>7</td>\n",
       "      <td>90</td>\n",
       "      <td>0</td>\n",
       "      <td>0</td>\n",
       "      <td>1</td>\n",
       "      <td>0</td>\n",
       "      <td>0</td>\n",
       "      <td>...</td>\n",
       "      <td>0</td>\n",
       "      <td>1</td>\n",
       "      <td>2</td>\n",
       "      <td>1</td>\n",
       "      <td>15</td>\n",
       "      <td>0</td>\n",
       "      <td>0</td>\n",
       "      <td>1</td>\n",
       "      <td>3</td>\n",
       "      <td>None</td>\n",
       "    </tr>\n",
       "    <tr>\n",
       "      <td>2</td>\n",
       "      <td>3</td>\n",
       "      <td>@</td>\n",
       "      <td>Chicago Fire</td>\n",
       "      <td>4</td>\n",
       "      <td>90</td>\n",
       "      <td>0</td>\n",
       "      <td>0</td>\n",
       "      <td>0</td>\n",
       "      <td>0</td>\n",
       "      <td>0</td>\n",
       "      <td>...</td>\n",
       "      <td>0</td>\n",
       "      <td>0</td>\n",
       "      <td>2</td>\n",
       "      <td>0</td>\n",
       "      <td>10</td>\n",
       "      <td>0</td>\n",
       "      <td>0</td>\n",
       "      <td>0</td>\n",
       "      <td>3</td>\n",
       "      <td>None</td>\n",
       "    </tr>\n",
       "    <tr>\n",
       "      <td>3</td>\n",
       "      <td>5</td>\n",
       "      <td>@</td>\n",
       "      <td>Vancouver Whitecaps FC</td>\n",
       "      <td>8</td>\n",
       "      <td>90</td>\n",
       "      <td>0</td>\n",
       "      <td>0</td>\n",
       "      <td>1</td>\n",
       "      <td>0</td>\n",
       "      <td>0</td>\n",
       "      <td>...</td>\n",
       "      <td>0</td>\n",
       "      <td>2</td>\n",
       "      <td>1</td>\n",
       "      <td>0</td>\n",
       "      <td>18</td>\n",
       "      <td>0</td>\n",
       "      <td>0</td>\n",
       "      <td>1</td>\n",
       "      <td>3</td>\n",
       "      <td>None</td>\n",
       "    </tr>\n",
       "    <tr>\n",
       "      <td>4</td>\n",
       "      <td>6</td>\n",
       "      <td>vs</td>\n",
       "      <td>Real Salt Lake</td>\n",
       "      <td>7</td>\n",
       "      <td>90</td>\n",
       "      <td>0</td>\n",
       "      <td>1</td>\n",
       "      <td>1</td>\n",
       "      <td>0</td>\n",
       "      <td>0</td>\n",
       "      <td>...</td>\n",
       "      <td>0</td>\n",
       "      <td>1</td>\n",
       "      <td>1</td>\n",
       "      <td>1</td>\n",
       "      <td>8</td>\n",
       "      <td>0</td>\n",
       "      <td>0</td>\n",
       "      <td>2</td>\n",
       "      <td>1</td>\n",
       "      <td>None</td>\n",
       "    </tr>\n",
       "  </tbody>\n",
       "</table>\n",
       "<p>5 rows × 30 columns</p>\n",
       "</div>"
      ],
      "text/plain": [
       "  RD OPPONENT                     PTS MIN  GF  A CS PS PE PM  ... CL BLK INT  \\\n",
       "0  1       vs           FC Cincinnati   5  90  0  0  0  0  0  ...  0   2   1   \n",
       "1  2       vs         Colorado Rapids   7  90  0  0  1  0  0  ...  0   1   2   \n",
       "2  3        @            Chicago Fire   4  90  0  0  0  0  0  ...  0   0   2   \n",
       "3  5        @  Vancouver Whitecaps FC   8  90  0  0  1  0  0  ...  0   2   1   \n",
       "4  6       vs          Real Salt Lake   7  90  0  1  1  0  0  ...  0   1   1   \n",
       "\n",
       "  BR ELG OGA SH WF n/a n/a 2  \n",
       "0  2   3   0  0  1   0  None  \n",
       "1  1  15   0  0  1   3  None  \n",
       "2  0  10   0  0  0   3  None  \n",
       "3  0  18   0  0  1   3  None  \n",
       "4  1   8   0  0  2   1  None  \n",
       "\n",
       "[5 rows x 30 columns]"
      ]
     },
     "execution_count": 160,
     "metadata": {},
     "output_type": "execute_result"
    }
   ],
   "source": [
    "df.head()"
   ]
  },
  {
   "cell_type": "code",
   "execution_count": 166,
   "metadata": {},
   "outputs": [],
   "source": [
    "col[2:] = col[1:-1]"
   ]
  },
  {
   "cell_type": "code",
   "execution_count": 168,
   "metadata": {},
   "outputs": [],
   "source": [
    "col[1] = 'HOME/AWAY'"
   ]
  },
  {
   "cell_type": "code",
   "execution_count": 170,
   "metadata": {},
   "outputs": [],
   "source": [
    "df.columns = col"
   ]
  },
  {
   "cell_type": "code",
   "execution_count": 172,
   "metadata": {},
   "outputs": [
    {
     "data": {
      "text/html": [
       "<div>\n",
       "<style scoped>\n",
       "    .dataframe tbody tr th:only-of-type {\n",
       "        vertical-align: middle;\n",
       "    }\n",
       "\n",
       "    .dataframe tbody tr th {\n",
       "        vertical-align: top;\n",
       "    }\n",
       "\n",
       "    .dataframe thead th {\n",
       "        text-align: right;\n",
       "    }\n",
       "</style>\n",
       "<table border=\"1\" class=\"dataframe\">\n",
       "  <thead>\n",
       "    <tr style=\"text-align: right;\">\n",
       "      <th></th>\n",
       "      <th>RD</th>\n",
       "      <th>HOME/AWAY</th>\n",
       "      <th>OPPONENT</th>\n",
       "      <th>PTS</th>\n",
       "      <th>MIN</th>\n",
       "      <th>GF</th>\n",
       "      <th>A</th>\n",
       "      <th>CS</th>\n",
       "      <th>PS</th>\n",
       "      <th>PE</th>\n",
       "      <th>...</th>\n",
       "      <th>BC</th>\n",
       "      <th>CL</th>\n",
       "      <th>BLK</th>\n",
       "      <th>INT</th>\n",
       "      <th>BR</th>\n",
       "      <th>ELG</th>\n",
       "      <th>OGA</th>\n",
       "      <th>SH</th>\n",
       "      <th>WF</th>\n",
       "      <th>n/a</th>\n",
       "    </tr>\n",
       "  </thead>\n",
       "  <tbody>\n",
       "    <tr>\n",
       "      <td>0</td>\n",
       "      <td>1</td>\n",
       "      <td>vs</td>\n",
       "      <td>FC Cincinnati</td>\n",
       "      <td>5</td>\n",
       "      <td>90</td>\n",
       "      <td>0</td>\n",
       "      <td>0</td>\n",
       "      <td>0</td>\n",
       "      <td>0</td>\n",
       "      <td>0</td>\n",
       "      <td>...</td>\n",
       "      <td>0</td>\n",
       "      <td>2</td>\n",
       "      <td>1</td>\n",
       "      <td>2</td>\n",
       "      <td>3</td>\n",
       "      <td>0</td>\n",
       "      <td>0</td>\n",
       "      <td>1</td>\n",
       "      <td>0</td>\n",
       "      <td>None</td>\n",
       "    </tr>\n",
       "    <tr>\n",
       "      <td>1</td>\n",
       "      <td>2</td>\n",
       "      <td>vs</td>\n",
       "      <td>Colorado Rapids</td>\n",
       "      <td>7</td>\n",
       "      <td>90</td>\n",
       "      <td>0</td>\n",
       "      <td>0</td>\n",
       "      <td>1</td>\n",
       "      <td>0</td>\n",
       "      <td>0</td>\n",
       "      <td>...</td>\n",
       "      <td>0</td>\n",
       "      <td>1</td>\n",
       "      <td>2</td>\n",
       "      <td>1</td>\n",
       "      <td>15</td>\n",
       "      <td>0</td>\n",
       "      <td>0</td>\n",
       "      <td>1</td>\n",
       "      <td>3</td>\n",
       "      <td>None</td>\n",
       "    </tr>\n",
       "    <tr>\n",
       "      <td>2</td>\n",
       "      <td>3</td>\n",
       "      <td>@</td>\n",
       "      <td>Chicago Fire</td>\n",
       "      <td>4</td>\n",
       "      <td>90</td>\n",
       "      <td>0</td>\n",
       "      <td>0</td>\n",
       "      <td>0</td>\n",
       "      <td>0</td>\n",
       "      <td>0</td>\n",
       "      <td>...</td>\n",
       "      <td>0</td>\n",
       "      <td>0</td>\n",
       "      <td>2</td>\n",
       "      <td>0</td>\n",
       "      <td>10</td>\n",
       "      <td>0</td>\n",
       "      <td>0</td>\n",
       "      <td>0</td>\n",
       "      <td>3</td>\n",
       "      <td>None</td>\n",
       "    </tr>\n",
       "    <tr>\n",
       "      <td>3</td>\n",
       "      <td>5</td>\n",
       "      <td>@</td>\n",
       "      <td>Vancouver Whitecaps FC</td>\n",
       "      <td>8</td>\n",
       "      <td>90</td>\n",
       "      <td>0</td>\n",
       "      <td>0</td>\n",
       "      <td>1</td>\n",
       "      <td>0</td>\n",
       "      <td>0</td>\n",
       "      <td>...</td>\n",
       "      <td>0</td>\n",
       "      <td>2</td>\n",
       "      <td>1</td>\n",
       "      <td>0</td>\n",
       "      <td>18</td>\n",
       "      <td>0</td>\n",
       "      <td>0</td>\n",
       "      <td>1</td>\n",
       "      <td>3</td>\n",
       "      <td>None</td>\n",
       "    </tr>\n",
       "    <tr>\n",
       "      <td>4</td>\n",
       "      <td>6</td>\n",
       "      <td>vs</td>\n",
       "      <td>Real Salt Lake</td>\n",
       "      <td>7</td>\n",
       "      <td>90</td>\n",
       "      <td>0</td>\n",
       "      <td>1</td>\n",
       "      <td>1</td>\n",
       "      <td>0</td>\n",
       "      <td>0</td>\n",
       "      <td>...</td>\n",
       "      <td>0</td>\n",
       "      <td>1</td>\n",
       "      <td>1</td>\n",
       "      <td>1</td>\n",
       "      <td>8</td>\n",
       "      <td>0</td>\n",
       "      <td>0</td>\n",
       "      <td>2</td>\n",
       "      <td>1</td>\n",
       "      <td>None</td>\n",
       "    </tr>\n",
       "    <tr>\n",
       "      <td>5</td>\n",
       "      <td>7</td>\n",
       "      <td>vs</td>\n",
       "      <td>Toronto FC</td>\n",
       "      <td>9</td>\n",
       "      <td>90</td>\n",
       "      <td>1</td>\n",
       "      <td>0</td>\n",
       "      <td>0</td>\n",
       "      <td>0</td>\n",
       "      <td>0</td>\n",
       "      <td>...</td>\n",
       "      <td>1</td>\n",
       "      <td>1</td>\n",
       "      <td>0</td>\n",
       "      <td>0</td>\n",
       "      <td>5</td>\n",
       "      <td>0</td>\n",
       "      <td>0</td>\n",
       "      <td>3</td>\n",
       "      <td>0</td>\n",
       "      <td>None</td>\n",
       "    </tr>\n",
       "    <tr>\n",
       "      <td>6</td>\n",
       "      <td>8</td>\n",
       "      <td>@</td>\n",
       "      <td>Los Angeles FC</td>\n",
       "      <td>5</td>\n",
       "      <td>90</td>\n",
       "      <td>0</td>\n",
       "      <td>0</td>\n",
       "      <td>0</td>\n",
       "      <td>0</td>\n",
       "      <td>0</td>\n",
       "      <td>...</td>\n",
       "      <td>0</td>\n",
       "      <td>1</td>\n",
       "      <td>0</td>\n",
       "      <td>0</td>\n",
       "      <td>6</td>\n",
       "      <td>0</td>\n",
       "      <td>0</td>\n",
       "      <td>0</td>\n",
       "      <td>5</td>\n",
       "      <td>None</td>\n",
       "    </tr>\n",
       "    <tr>\n",
       "      <td>7</td>\n",
       "      <td>9</td>\n",
       "      <td>vs</td>\n",
       "      <td>San Jose Earthquakes</td>\n",
       "      <td>3</td>\n",
       "      <td>90</td>\n",
       "      <td>0</td>\n",
       "      <td>0</td>\n",
       "      <td>0</td>\n",
       "      <td>0</td>\n",
       "      <td>0</td>\n",
       "      <td>...</td>\n",
       "      <td>0</td>\n",
       "      <td>1</td>\n",
       "      <td>0</td>\n",
       "      <td>0</td>\n",
       "      <td>2</td>\n",
       "      <td>0</td>\n",
       "      <td>0</td>\n",
       "      <td>1</td>\n",
       "      <td>0</td>\n",
       "      <td>None</td>\n",
       "    </tr>\n",
       "    <tr>\n",
       "      <td>8</td>\n",
       "      <td>9</td>\n",
       "      <td>vs</td>\n",
       "      <td>Los Angeles FC</td>\n",
       "      <td>-</td>\n",
       "      <td>2</td>\n",
       "      <td>18</td>\n",
       "      <td>0</td>\n",
       "      <td>0</td>\n",
       "      <td>0</td>\n",
       "      <td>0</td>\n",
       "      <td>...</td>\n",
       "      <td>0</td>\n",
       "      <td>0</td>\n",
       "      <td>2</td>\n",
       "      <td>0</td>\n",
       "      <td>0</td>\n",
       "      <td>0</td>\n",
       "      <td>0</td>\n",
       "      <td>0</td>\n",
       "      <td>0</td>\n",
       "      <td>0</td>\n",
       "    </tr>\n",
       "    <tr>\n",
       "      <td>9</td>\n",
       "      <td>10</td>\n",
       "      <td>@</td>\n",
       "      <td>Minnesota United FC</td>\n",
       "      <td>10</td>\n",
       "      <td>90</td>\n",
       "      <td>1</td>\n",
       "      <td>0</td>\n",
       "      <td>0</td>\n",
       "      <td>0</td>\n",
       "      <td>0</td>\n",
       "      <td>...</td>\n",
       "      <td>0</td>\n",
       "      <td>2</td>\n",
       "      <td>0</td>\n",
       "      <td>0</td>\n",
       "      <td>7</td>\n",
       "      <td>0</td>\n",
       "      <td>0</td>\n",
       "      <td>2</td>\n",
       "      <td>6</td>\n",
       "      <td>None</td>\n",
       "    </tr>\n",
       "    <tr>\n",
       "      <td>10</td>\n",
       "      <td>11</td>\n",
       "      <td>vs</td>\n",
       "      <td>Houston Dynamo</td>\n",
       "      <td>9</td>\n",
       "      <td>90</td>\n",
       "      <td>1</td>\n",
       "      <td>0</td>\n",
       "      <td>1</td>\n",
       "      <td>0</td>\n",
       "      <td>0</td>\n",
       "      <td>...</td>\n",
       "      <td>0</td>\n",
       "      <td>2</td>\n",
       "      <td>1</td>\n",
       "      <td>0</td>\n",
       "      <td>5</td>\n",
       "      <td>0</td>\n",
       "      <td>0</td>\n",
       "      <td>2</td>\n",
       "      <td>3</td>\n",
       "      <td>None</td>\n",
       "    </tr>\n",
       "    <tr>\n",
       "      <td>11</td>\n",
       "      <td>12</td>\n",
       "      <td>vs</td>\n",
       "      <td>Orlando City SC</td>\n",
       "      <td>3</td>\n",
       "      <td>90</td>\n",
       "      <td>0</td>\n",
       "      <td>0</td>\n",
       "      <td>0</td>\n",
       "      <td>0</td>\n",
       "      <td>0</td>\n",
       "      <td>...</td>\n",
       "      <td>0</td>\n",
       "      <td>0</td>\n",
       "      <td>0</td>\n",
       "      <td>0</td>\n",
       "      <td>5</td>\n",
       "      <td>0</td>\n",
       "      <td>0</td>\n",
       "      <td>0</td>\n",
       "      <td>1</td>\n",
       "      <td>None</td>\n",
       "    </tr>\n",
       "    <tr>\n",
       "      <td>12</td>\n",
       "      <td>12</td>\n",
       "      <td>@</td>\n",
       "      <td>Philadelphia Union</td>\n",
       "      <td>4</td>\n",
       "      <td>90</td>\n",
       "      <td>0</td>\n",
       "      <td>0</td>\n",
       "      <td>1</td>\n",
       "      <td>0</td>\n",
       "      <td>0</td>\n",
       "      <td>...</td>\n",
       "      <td>0</td>\n",
       "      <td>0</td>\n",
       "      <td>0</td>\n",
       "      <td>1</td>\n",
       "      <td>10</td>\n",
       "      <td>0</td>\n",
       "      <td>0</td>\n",
       "      <td>1</td>\n",
       "      <td>1</td>\n",
       "      <td>None</td>\n",
       "    </tr>\n",
       "    <tr>\n",
       "      <td>13</td>\n",
       "      <td>13</td>\n",
       "      <td>@</td>\n",
       "      <td>Sporting Kansas City</td>\n",
       "      <td>5</td>\n",
       "      <td>90</td>\n",
       "      <td>0</td>\n",
       "      <td>0</td>\n",
       "      <td>0</td>\n",
       "      <td>0</td>\n",
       "      <td>0</td>\n",
       "      <td>...</td>\n",
       "      <td>0</td>\n",
       "      <td>1</td>\n",
       "      <td>0</td>\n",
       "      <td>2</td>\n",
       "      <td>7</td>\n",
       "      <td>0</td>\n",
       "      <td>0</td>\n",
       "      <td>0</td>\n",
       "      <td>4</td>\n",
       "      <td>None</td>\n",
       "    </tr>\n",
       "    <tr>\n",
       "      <td>14</td>\n",
       "      <td>14</td>\n",
       "      <td>@</td>\n",
       "      <td>FC Dallas</td>\n",
       "      <td>2</td>\n",
       "      <td>90</td>\n",
       "      <td>0</td>\n",
       "      <td>0</td>\n",
       "      <td>0</td>\n",
       "      <td>0</td>\n",
       "      <td>0</td>\n",
       "      <td>...</td>\n",
       "      <td>0</td>\n",
       "      <td>0</td>\n",
       "      <td>1</td>\n",
       "      <td>1</td>\n",
       "      <td>4</td>\n",
       "      <td>0</td>\n",
       "      <td>0</td>\n",
       "      <td>0</td>\n",
       "      <td>2</td>\n",
       "      <td>None</td>\n",
       "    </tr>\n",
       "    <tr>\n",
       "      <td>15</td>\n",
       "      <td>15</td>\n",
       "      <td>@</td>\n",
       "      <td>Montreal Impact</td>\n",
       "      <td>0</td>\n",
       "      <td>-</td>\n",
       "      <td>-</td>\n",
       "      <td>-</td>\n",
       "      <td>-</td>\n",
       "      <td>-</td>\n",
       "      <td>-</td>\n",
       "      <td>...</td>\n",
       "      <td>-</td>\n",
       "      <td>-</td>\n",
       "      <td>-</td>\n",
       "      <td>-</td>\n",
       "      <td>-</td>\n",
       "      <td>-</td>\n",
       "      <td>-</td>\n",
       "      <td>-</td>\n",
       "      <td>-</td>\n",
       "      <td>None</td>\n",
       "    </tr>\n",
       "    <tr>\n",
       "      <td>16</td>\n",
       "      <td>17</td>\n",
       "      <td>vs</td>\n",
       "      <td>Vancouver Whitecaps FC</td>\n",
       "      <td>0</td>\n",
       "      <td>-</td>\n",
       "      <td>-</td>\n",
       "      <td>-</td>\n",
       "      <td>-</td>\n",
       "      <td>-</td>\n",
       "      <td>-</td>\n",
       "      <td>...</td>\n",
       "      <td>-</td>\n",
       "      <td>-</td>\n",
       "      <td>-</td>\n",
       "      <td>-</td>\n",
       "      <td>-</td>\n",
       "      <td>-</td>\n",
       "      <td>-</td>\n",
       "      <td>-</td>\n",
       "      <td>-</td>\n",
       "      <td>None</td>\n",
       "    </tr>\n",
       "    <tr>\n",
       "      <td>17</td>\n",
       "      <td>18</td>\n",
       "      <td>@</td>\n",
       "      <td>New York City FC</td>\n",
       "      <td>0</td>\n",
       "      <td>-</td>\n",
       "      <td>-</td>\n",
       "      <td>-</td>\n",
       "      <td>-</td>\n",
       "      <td>-</td>\n",
       "      <td>-</td>\n",
       "      <td>...</td>\n",
       "      <td>-</td>\n",
       "      <td>-</td>\n",
       "      <td>-</td>\n",
       "      <td>-</td>\n",
       "      <td>-</td>\n",
       "      <td>-</td>\n",
       "      <td>-</td>\n",
       "      <td>-</td>\n",
       "      <td>-</td>\n",
       "      <td>None</td>\n",
       "    </tr>\n",
       "    <tr>\n",
       "      <td>18</td>\n",
       "      <td>18</td>\n",
       "      <td>@</td>\n",
       "      <td>Columbus Crew SC</td>\n",
       "      <td>0</td>\n",
       "      <td>-</td>\n",
       "      <td>-</td>\n",
       "      <td>-</td>\n",
       "      <td>-</td>\n",
       "      <td>-</td>\n",
       "      <td>-</td>\n",
       "      <td>...</td>\n",
       "      <td>-</td>\n",
       "      <td>-</td>\n",
       "      <td>-</td>\n",
       "      <td>-</td>\n",
       "      <td>-</td>\n",
       "      <td>-</td>\n",
       "      <td>-</td>\n",
       "      <td>-</td>\n",
       "      <td>-</td>\n",
       "      <td>None</td>\n",
       "    </tr>\n",
       "    <tr>\n",
       "      <td>19</td>\n",
       "      <td>19</td>\n",
       "      <td>vs</td>\n",
       "      <td>Atlanta United FC</td>\n",
       "      <td>8</td>\n",
       "      <td>90</td>\n",
       "      <td>0</td>\n",
       "      <td>1</td>\n",
       "      <td>0</td>\n",
       "      <td>0</td>\n",
       "      <td>0</td>\n",
       "      <td>...</td>\n",
       "      <td>1</td>\n",
       "      <td>1</td>\n",
       "      <td>0</td>\n",
       "      <td>1</td>\n",
       "      <td>5</td>\n",
       "      <td>0</td>\n",
       "      <td>0</td>\n",
       "      <td>1</td>\n",
       "      <td>3</td>\n",
       "      <td>None</td>\n",
       "    </tr>\n",
       "    <tr>\n",
       "      <td>20</td>\n",
       "      <td>20</td>\n",
       "      <td>vs</td>\n",
       "      <td>Portland Timbers</td>\n",
       "      <td>6</td>\n",
       "      <td>90</td>\n",
       "      <td>0</td>\n",
       "      <td>0</td>\n",
       "      <td>0</td>\n",
       "      <td>0</td>\n",
       "      <td>0</td>\n",
       "      <td>...</td>\n",
       "      <td>1</td>\n",
       "      <td>1</td>\n",
       "      <td>0</td>\n",
       "      <td>2</td>\n",
       "      <td>10</td>\n",
       "      <td>0</td>\n",
       "      <td>0</td>\n",
       "      <td>0</td>\n",
       "      <td>4</td>\n",
       "      <td>None</td>\n",
       "    </tr>\n",
       "    <tr>\n",
       "      <td>21</td>\n",
       "      <td>21</td>\n",
       "      <td>@</td>\n",
       "      <td>Houston Dynamo</td>\n",
       "      <td>4</td>\n",
       "      <td>90</td>\n",
       "      <td>0</td>\n",
       "      <td>0</td>\n",
       "      <td>1</td>\n",
       "      <td>0</td>\n",
       "      <td>0</td>\n",
       "      <td>...</td>\n",
       "      <td>0</td>\n",
       "      <td>3</td>\n",
       "      <td>1</td>\n",
       "      <td>0</td>\n",
       "      <td>3</td>\n",
       "      <td>0</td>\n",
       "      <td>0</td>\n",
       "      <td>0</td>\n",
       "      <td>1</td>\n",
       "      <td>None</td>\n",
       "    </tr>\n",
       "    <tr>\n",
       "      <td>22</td>\n",
       "      <td>22</td>\n",
       "      <td>vs</td>\n",
       "      <td>Sporting Kansas City</td>\n",
       "      <td>3</td>\n",
       "      <td>90</td>\n",
       "      <td>0</td>\n",
       "      <td>0</td>\n",
       "      <td>0</td>\n",
       "      <td>0</td>\n",
       "      <td>0</td>\n",
       "      <td>...</td>\n",
       "      <td>0</td>\n",
       "      <td>1</td>\n",
       "      <td>1</td>\n",
       "      <td>1</td>\n",
       "      <td>6</td>\n",
       "      <td>0</td>\n",
       "      <td>0</td>\n",
       "      <td>1</td>\n",
       "      <td>1</td>\n",
       "      <td>None</td>\n",
       "    </tr>\n",
       "    <tr>\n",
       "      <td>23</td>\n",
       "      <td>23</td>\n",
       "      <td>vs</td>\n",
       "      <td>New England Revolution</td>\n",
       "      <td>6</td>\n",
       "      <td>90</td>\n",
       "      <td>0</td>\n",
       "      <td>1</td>\n",
       "      <td>0</td>\n",
       "      <td>0</td>\n",
       "      <td>0</td>\n",
       "      <td>...</td>\n",
       "      <td>1</td>\n",
       "      <td>2</td>\n",
       "      <td>0</td>\n",
       "      <td>1</td>\n",
       "      <td>5</td>\n",
       "      <td>0</td>\n",
       "      <td>0</td>\n",
       "      <td>1</td>\n",
       "      <td>2</td>\n",
       "      <td>None</td>\n",
       "    </tr>\n",
       "    <tr>\n",
       "      <td>24</td>\n",
       "      <td>24</td>\n",
       "      <td>@</td>\n",
       "      <td>Real Salt Lake</td>\n",
       "      <td>3</td>\n",
       "      <td>90</td>\n",
       "      <td>0</td>\n",
       "      <td>0</td>\n",
       "      <td>0</td>\n",
       "      <td>0</td>\n",
       "      <td>0</td>\n",
       "      <td>...</td>\n",
       "      <td>0</td>\n",
       "      <td>1</td>\n",
       "      <td>1</td>\n",
       "      <td>0</td>\n",
       "      <td>1</td>\n",
       "      <td>0</td>\n",
       "      <td>0</td>\n",
       "      <td>1</td>\n",
       "      <td>2</td>\n",
       "      <td>None</td>\n",
       "    </tr>\n",
       "    <tr>\n",
       "      <td>25</td>\n",
       "      <td>24</td>\n",
       "      <td>@</td>\n",
       "      <td>LA Galaxy</td>\n",
       "      <td>7</td>\n",
       "      <td>90</td>\n",
       "      <td>0</td>\n",
       "      <td>0</td>\n",
       "      <td>0</td>\n",
       "      <td>0</td>\n",
       "      <td>0</td>\n",
       "      <td>...</td>\n",
       "      <td>0</td>\n",
       "      <td>4</td>\n",
       "      <td>0</td>\n",
       "      <td>0</td>\n",
       "      <td>7</td>\n",
       "      <td>0</td>\n",
       "      <td>0</td>\n",
       "      <td>2</td>\n",
       "      <td>1</td>\n",
       "      <td>None</td>\n",
       "    </tr>\n",
       "    <tr>\n",
       "      <td>26</td>\n",
       "      <td>25</td>\n",
       "      <td>@</td>\n",
       "      <td>Portland Timbers</td>\n",
       "      <td>7</td>\n",
       "      <td>90</td>\n",
       "      <td>1</td>\n",
       "      <td>0</td>\n",
       "      <td>0</td>\n",
       "      <td>0</td>\n",
       "      <td>0</td>\n",
       "      <td>...</td>\n",
       "      <td>0</td>\n",
       "      <td>2</td>\n",
       "      <td>0</td>\n",
       "      <td>1</td>\n",
       "      <td>5</td>\n",
       "      <td>0</td>\n",
       "      <td>0</td>\n",
       "      <td>2</td>\n",
       "      <td>1</td>\n",
       "      <td>None</td>\n",
       "    </tr>\n",
       "    <tr>\n",
       "      <td>27</td>\n",
       "      <td>26</td>\n",
       "      <td>vs</td>\n",
       "      <td>LA Galaxy</td>\n",
       "      <td>13</td>\n",
       "      <td>90</td>\n",
       "      <td>2</td>\n",
       "      <td>0</td>\n",
       "      <td>0</td>\n",
       "      <td>0</td>\n",
       "      <td>0</td>\n",
       "      <td>...</td>\n",
       "      <td>0</td>\n",
       "      <td>1</td>\n",
       "      <td>0</td>\n",
       "      <td>0</td>\n",
       "      <td>7</td>\n",
       "      <td>0</td>\n",
       "      <td>0</td>\n",
       "      <td>3</td>\n",
       "      <td>2</td>\n",
       "      <td>None</td>\n",
       "    </tr>\n",
       "    <tr>\n",
       "      <td>28</td>\n",
       "      <td>27</td>\n",
       "      <td>@</td>\n",
       "      <td>Colorado Rapids</td>\n",
       "      <td>0</td>\n",
       "      <td>-</td>\n",
       "      <td>-</td>\n",
       "      <td>-</td>\n",
       "      <td>-</td>\n",
       "      <td>-</td>\n",
       "      <td>-</td>\n",
       "      <td>...</td>\n",
       "      <td>-</td>\n",
       "      <td>-</td>\n",
       "      <td>-</td>\n",
       "      <td>-</td>\n",
       "      <td>-</td>\n",
       "      <td>-</td>\n",
       "      <td>-</td>\n",
       "      <td>-</td>\n",
       "      <td>-</td>\n",
       "      <td>None</td>\n",
       "    </tr>\n",
       "    <tr>\n",
       "      <td>29</td>\n",
       "      <td>28</td>\n",
       "      <td>vs</td>\n",
       "      <td>New York Red Bulls</td>\n",
       "      <td>8</td>\n",
       "      <td>90</td>\n",
       "      <td>0</td>\n",
       "      <td>2</td>\n",
       "      <td>0</td>\n",
       "      <td>0</td>\n",
       "      <td>0</td>\n",
       "      <td>...</td>\n",
       "      <td>0</td>\n",
       "      <td>2</td>\n",
       "      <td>0</td>\n",
       "      <td>1</td>\n",
       "      <td>10</td>\n",
       "      <td>0</td>\n",
       "      <td>0</td>\n",
       "      <td>3</td>\n",
       "      <td>1</td>\n",
       "      <td>None</td>\n",
       "    </tr>\n",
       "    <tr>\n",
       "      <td>30</td>\n",
       "      <td>29</td>\n",
       "      <td>vs</td>\n",
       "      <td>FC Dallas</td>\n",
       "      <td>6</td>\n",
       "      <td>90</td>\n",
       "      <td>0</td>\n",
       "      <td>0</td>\n",
       "      <td>1</td>\n",
       "      <td>0</td>\n",
       "      <td>0</td>\n",
       "      <td>...</td>\n",
       "      <td>0</td>\n",
       "      <td>0</td>\n",
       "      <td>2</td>\n",
       "      <td>1</td>\n",
       "      <td>11</td>\n",
       "      <td>0</td>\n",
       "      <td>0</td>\n",
       "      <td>2</td>\n",
       "      <td>5</td>\n",
       "      <td>None</td>\n",
       "    </tr>\n",
       "    <tr>\n",
       "      <td>31</td>\n",
       "      <td>29</td>\n",
       "      <td>@</td>\n",
       "      <td>D.C. United</td>\n",
       "      <td>4</td>\n",
       "      <td>90</td>\n",
       "      <td>0</td>\n",
       "      <td>0</td>\n",
       "      <td>0</td>\n",
       "      <td>0</td>\n",
       "      <td>0</td>\n",
       "      <td>...</td>\n",
       "      <td>0</td>\n",
       "      <td>2</td>\n",
       "      <td>0</td>\n",
       "      <td>1</td>\n",
       "      <td>4</td>\n",
       "      <td>0</td>\n",
       "      <td>0</td>\n",
       "      <td>1</td>\n",
       "      <td>3</td>\n",
       "      <td>None</td>\n",
       "    </tr>\n",
       "    <tr>\n",
       "      <td>32</td>\n",
       "      <td>30</td>\n",
       "      <td>@</td>\n",
       "      <td>San Jose Earthquakes</td>\n",
       "      <td>7</td>\n",
       "      <td>90</td>\n",
       "      <td>0</td>\n",
       "      <td>0</td>\n",
       "      <td>1</td>\n",
       "      <td>0</td>\n",
       "      <td>0</td>\n",
       "      <td>...</td>\n",
       "      <td>1</td>\n",
       "      <td>1</td>\n",
       "      <td>3</td>\n",
       "      <td>1</td>\n",
       "      <td>11</td>\n",
       "      <td>0</td>\n",
       "      <td>0</td>\n",
       "      <td>0</td>\n",
       "      <td>1</td>\n",
       "      <td>None</td>\n",
       "    </tr>\n",
       "    <tr>\n",
       "      <td>33</td>\n",
       "      <td>31</td>\n",
       "      <td>vs</td>\n",
       "      <td>Minnesota United FC</td>\n",
       "      <td>4</td>\n",
       "      <td>90</td>\n",
       "      <td>0</td>\n",
       "      <td>0</td>\n",
       "      <td>1</td>\n",
       "      <td>0</td>\n",
       "      <td>0</td>\n",
       "      <td>...</td>\n",
       "      <td>0</td>\n",
       "      <td>0</td>\n",
       "      <td>0</td>\n",
       "      <td>1</td>\n",
       "      <td>8</td>\n",
       "      <td>0</td>\n",
       "      <td>0</td>\n",
       "      <td>0</td>\n",
       "      <td>3</td>\n",
       "      <td>None</td>\n",
       "    </tr>\n",
       "    <tr>\n",
       "      <td>34</td>\n",
       "      <td>all</td>\n",
       "      <td>-</td>\n",
       "      <td>2538</td>\n",
       "      <td>6</td>\n",
       "      <td>5</td>\n",
       "      <td>9</td>\n",
       "      <td>0</td>\n",
       "      <td>0</td>\n",
       "      <td>0</td>\n",
       "      <td>41</td>\n",
       "      <td>...</td>\n",
       "      <td>17</td>\n",
       "      <td>19</td>\n",
       "      <td>198</td>\n",
       "      <td>0</td>\n",
       "      <td>0</td>\n",
       "      <td>31</td>\n",
       "      <td>62</td>\n",
       "      <td>None</td>\n",
       "      <td>None</td>\n",
       "      <td>None</td>\n",
       "    </tr>\n",
       "  </tbody>\n",
       "</table>\n",
       "<p>35 rows × 30 columns</p>\n",
       "</div>"
      ],
      "text/plain": [
       "     RD HOME/AWAY                OPPONENT PTS MIN  GF  A CS PS  PE  ...  BC  \\\n",
       "0     1        vs           FC Cincinnati   5  90   0  0  0  0   0  ...   0   \n",
       "1     2        vs         Colorado Rapids   7  90   0  0  1  0   0  ...   0   \n",
       "2     3         @            Chicago Fire   4  90   0  0  0  0   0  ...   0   \n",
       "3     5         @  Vancouver Whitecaps FC   8  90   0  0  1  0   0  ...   0   \n",
       "4     6        vs          Real Salt Lake   7  90   0  1  1  0   0  ...   0   \n",
       "5     7        vs              Toronto FC   9  90   1  0  0  0   0  ...   1   \n",
       "6     8         @          Los Angeles FC   5  90   0  0  0  0   0  ...   0   \n",
       "7     9        vs    San Jose Earthquakes   3  90   0  0  0  0   0  ...   0   \n",
       "8     9        vs          Los Angeles FC   -   2  18  0  0  0   0  ...   0   \n",
       "9    10         @     Minnesota United FC  10  90   1  0  0  0   0  ...   0   \n",
       "10   11        vs          Houston Dynamo   9  90   1  0  1  0   0  ...   0   \n",
       "11   12        vs         Orlando City SC   3  90   0  0  0  0   0  ...   0   \n",
       "12   12         @      Philadelphia Union   4  90   0  0  1  0   0  ...   0   \n",
       "13   13         @    Sporting Kansas City   5  90   0  0  0  0   0  ...   0   \n",
       "14   14         @               FC Dallas   2  90   0  0  0  0   0  ...   0   \n",
       "15   15         @         Montreal Impact   0   -   -  -  -  -   -  ...   -   \n",
       "16   17        vs  Vancouver Whitecaps FC   0   -   -  -  -  -   -  ...   -   \n",
       "17   18         @        New York City FC   0   -   -  -  -  -   -  ...   -   \n",
       "18   18         @        Columbus Crew SC   0   -   -  -  -  -   -  ...   -   \n",
       "19   19        vs       Atlanta United FC   8  90   0  1  0  0   0  ...   1   \n",
       "20   20        vs        Portland Timbers   6  90   0  0  0  0   0  ...   1   \n",
       "21   21         @          Houston Dynamo   4  90   0  0  1  0   0  ...   0   \n",
       "22   22        vs    Sporting Kansas City   3  90   0  0  0  0   0  ...   0   \n",
       "23   23        vs  New England Revolution   6  90   0  1  0  0   0  ...   1   \n",
       "24   24         @          Real Salt Lake   3  90   0  0  0  0   0  ...   0   \n",
       "25   24         @               LA Galaxy   7  90   0  0  0  0   0  ...   0   \n",
       "26   25         @        Portland Timbers   7  90   1  0  0  0   0  ...   0   \n",
       "27   26        vs               LA Galaxy  13  90   2  0  0  0   0  ...   0   \n",
       "28   27         @         Colorado Rapids   0   -   -  -  -  -   -  ...   -   \n",
       "29   28        vs      New York Red Bulls   8  90   0  2  0  0   0  ...   0   \n",
       "30   29        vs               FC Dallas   6  90   0  0  1  0   0  ...   0   \n",
       "31   29         @             D.C. United   4  90   0  0  0  0   0  ...   0   \n",
       "32   30         @    San Jose Earthquakes   7  90   0  0  1  0   0  ...   1   \n",
       "33   31        vs     Minnesota United FC   4  90   0  0  1  0   0  ...   0   \n",
       "34  all         -                    2538   6   5   9  0  0  0  41  ...  17   \n",
       "\n",
       "    CL  BLK INT  BR ELG OGA    SH    WF   n/a  \n",
       "0    2    1   2   3   0   0     1     0  None  \n",
       "1    1    2   1  15   0   0     1     3  None  \n",
       "2    0    2   0  10   0   0     0     3  None  \n",
       "3    2    1   0  18   0   0     1     3  None  \n",
       "4    1    1   1   8   0   0     2     1  None  \n",
       "5    1    0   0   5   0   0     3     0  None  \n",
       "6    1    0   0   6   0   0     0     5  None  \n",
       "7    1    0   0   2   0   0     1     0  None  \n",
       "8    0    2   0   0   0   0     0     0     0  \n",
       "9    2    0   0   7   0   0     2     6  None  \n",
       "10   2    1   0   5   0   0     2     3  None  \n",
       "11   0    0   0   5   0   0     0     1  None  \n",
       "12   0    0   1  10   0   0     1     1  None  \n",
       "13   1    0   2   7   0   0     0     4  None  \n",
       "14   0    1   1   4   0   0     0     2  None  \n",
       "15   -    -   -   -   -   -     -     -  None  \n",
       "16   -    -   -   -   -   -     -     -  None  \n",
       "17   -    -   -   -   -   -     -     -  None  \n",
       "18   -    -   -   -   -   -     -     -  None  \n",
       "19   1    0   1   5   0   0     1     3  None  \n",
       "20   1    0   2  10   0   0     0     4  None  \n",
       "21   3    1   0   3   0   0     0     1  None  \n",
       "22   1    1   1   6   0   0     1     1  None  \n",
       "23   2    0   1   5   0   0     1     2  None  \n",
       "24   1    1   0   1   0   0     1     2  None  \n",
       "25   4    0   0   7   0   0     2     1  None  \n",
       "26   2    0   1   5   0   0     2     1  None  \n",
       "27   1    0   0   7   0   0     3     2  None  \n",
       "28   -    -   -   -   -   -     -     -  None  \n",
       "29   2    0   1  10   0   0     3     1  None  \n",
       "30   0    2   1  11   0   0     2     5  None  \n",
       "31   2    0   1   4   0   0     1     3  None  \n",
       "32   1    3   1  11   0   0     0     1  None  \n",
       "33   0    0   1   8   0   0     0     3  None  \n",
       "34  19  198   0   0  31  62  None  None  None  \n",
       "\n",
       "[35 rows x 30 columns]"
      ]
     },
     "execution_count": 172,
     "metadata": {},
     "output_type": "execute_result"
    }
   ],
   "source": [
    "df"
   ]
  },
  {
   "cell_type": "code",
   "execution_count": null,
   "metadata": {},
   "outputs": [],
   "source": []
  },
  {
   "cell_type": "code",
   "execution_count": null,
   "metadata": {},
   "outputs": [],
   "source": []
  },
  {
   "cell_type": "code",
   "execution_count": null,
   "metadata": {},
   "outputs": [],
   "source": []
  },
  {
   "cell_type": "code",
   "execution_count": null,
   "metadata": {},
   "outputs": [],
   "source": []
  },
  {
   "cell_type": "code",
   "execution_count": null,
   "metadata": {},
   "outputs": [],
   "source": []
  },
  {
   "cell_type": "code",
   "execution_count": null,
   "metadata": {},
   "outputs": [],
   "source": []
  }
 ],
 "metadata": {
  "kernelspec": {
   "display_name": "Python 3",
   "language": "python",
   "name": "python3"
  },
  "language_info": {
   "codemirror_mode": {
    "name": "ipython",
    "version": 3
   },
   "file_extension": ".py",
   "mimetype": "text/x-python",
   "name": "python",
   "nbconvert_exporter": "python",
   "pygments_lexer": "ipython3",
   "version": "3.7.4"
  }
 },
 "nbformat": 4,
 "nbformat_minor": 2
}
