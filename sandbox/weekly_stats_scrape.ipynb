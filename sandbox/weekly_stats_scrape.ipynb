{
 "cells": [
  {
   "cell_type": "code",
   "execution_count": 1,
   "metadata": {},
   "outputs": [],
   "source": [
    "import numpy as np\n",
    "import pandas as pd\n",
    "import time\n",
    "import requests\n",
    "from bs4 import BeautifulSoup\n",
    "from selenium.webdriver import Chrome\n",
    "from selenium.webdriver.support.select import Select\n",
    "from selenium.webdriver.common.action_chains import ActionChains\n",
    "\n",
    "from typing import List, Tuple, Dict\n",
    "import sys\n",
    "sys.path.append(\"../src/\")\n",
    "import player_data_scraper as pds\n",
    "\n",
    "import matplotlib.pyplot as plt\n",
    "%matplotlib inline"
   ]
  },
  {
   "cell_type": "code",
   "execution_count": 2,
   "metadata": {},
   "outputs": [],
   "source": [
    "def mls_fantasy_login(login_id: str,\n",
    "                     password: str, \n",
    "                     mls_fantasy_url: str = \"https://fantasy.mlssoccer.com/#\") -> Chrome:\n",
    "    '''\n",
    "    Will log into the MLS fantasy page with login_id and password inputted from the user.\n",
    "    Returns a Chrome webdriver which can be used to logout.\n",
    "    '''\n",
    "    \n",
    "    # open a chrome browser and go to the mls fantasy landing page\n",
    "    driver = Chrome()\n",
    "    driver.get(mls_fantasy_url)\n",
    "    driver.find_element_by_link_text('LOG IN').click()\n",
    "    # send in login id and password and go into the browser\n",
    "    time.sleep(3)\n",
    "    username = driver.find_element_by_name('username')\n",
    "    username.clear()\n",
    "    username.send_keys(login_id)\n",
    "    time.sleep(3)\n",
    "    passcode = driver.find_element_by_name('password')\n",
    "    passcode.clear()\n",
    "    passcode.send_keys(password)\n",
    "    \n",
    "    driver.find_element_by_class_name('gigya-input-submit').click()\n",
    "    time.sleep(2)\n",
    "    driver.find_element_by_link_text('STATS CENTER').click()\n",
    "    \n",
    "    return driver"
   ]
  },
  {
   "cell_type": "code",
   "execution_count": 3,
   "metadata": {},
   "outputs": [],
   "source": [
    "def logout(web_driver: Chrome) -> None:\n",
    "    '''\n",
    "    Will logout out of the fantasy page when done with work.\n",
    "    web_driver in this case is the browser that is launched with the mls fantasy page\n",
    "    '''\n",
    "    \n",
    "    action = ActionChains(web_driver)\n",
    "    \n",
    "    first_menu = web_driver.find_element_by_class_name('my-account')\n",
    "    action.move_to_element(first_menu).perform()\n",
    "    time.sleep(2)\n",
    "    \n",
    "    second_menu = web_driver.find_element_by_css_selector('.fa.fa-power-off')\n",
    "    action.move_to_element(second_menu)\n",
    "    time.sleep(2)\n",
    "    \n",
    "    second_menu.click()"
   ]
  },
  {
   "cell_type": "code",
   "execution_count": 4,
   "metadata": {},
   "outputs": [],
   "source": [
    "# urls, passwords, team names\n",
    "mls_fantasy_url = \"https://fantasy.mlssoccer.com/#\"\n",
    "login_id = 'rsherer@gmail.com'\n",
    "pwd = 'mls77Soccer'\n",
    "\n",
    "teams = {1: 'Atlanta United FC', \n",
    " 2: 'Chicago Fire FC', \n",
    " 3: 'FC Cincinnati', \n",
    " 4: 'Columbus Crew SC', \n",
    " 5: 'D.C. United', \n",
    " 6: 'Inter Miami CF', \n",
    " 7: 'Montreal Impact', \n",
    " 8: 'New England Revolution', \n",
    " 9: 'New York City FC', \n",
    " 10: 'New York Red Bulls', \n",
    " 11: 'Orlando City SC', \n",
    " 12: 'Philadelphia Union', \n",
    " 13: 'Toronto FC', \n",
    " 14: 'Colorado Rapids', \n",
    " 15: 'FC Dallas', \n",
    " 16: 'Houston Dynamo', \n",
    " 17: 'LA Galaxy', \n",
    " 18: 'Los Angeles FC', \n",
    " 19: 'Minnesota United FC', \n",
    " 20: 'Nashville SC', \n",
    " 21: 'Portland Timbers', \n",
    " 22: 'Real Salt Lake', \n",
    " 23: 'San Jose Earthquakes', \n",
    " 24: 'Seattle Sounders FC', \n",
    " 25: 'Sporting Kansas City', \n",
    " 26: 'Vancouver Whitecaps FC'}"
   ]
  },
  {
   "cell_type": "code",
   "execution_count": 6,
   "metadata": {},
   "outputs": [],
   "source": [
    "driver = mls_fantasy_login(login_id, pwd)"
   ]
  },
  {
   "cell_type": "code",
   "execution_count": null,
   "metadata": {},
   "outputs": [],
   "source": [
    "logout(driver)"
   ]
  },
  {
   "cell_type": "code",
   "execution_count": null,
   "metadata": {},
   "outputs": [],
   "source": []
  },
  {
   "cell_type": "code",
   "execution_count": null,
   "metadata": {},
   "outputs": [],
   "source": []
  },
  {
   "cell_type": "code",
   "execution_count": 7,
   "metadata": {},
   "outputs": [],
   "source": [
    "def get_player_ids(web_driver: Chrome) -> List[List[str]]:\n",
    "    '''Function to build a List of the players in MLS, with their MLS Soccer fantasy ID as the key, then\n",
    "    a list of their name, and the team the play for as the value.\n",
    "    \n",
    "    The web_driver must be one that is logged into the MLS site, else the stat center can't be accessed.\n",
    "    '''\n",
    "    #player_ids = {}\n",
    "    \n",
    "    player_ids = []\n",
    "    \n",
    "    select_team = Select(web_driver.find_element_by_id('js-filter-squads'))\n",
    "    #select_team.select_by_visible_text(teams[1])\n",
    "    \n",
    "    for team in range(1, 27):\n",
    "        select_team.select_by_visible_text(teams[team])\n",
    "\n",
    "        html = web_driver.page_source\n",
    "        soup = BeautifulSoup(html, 'html.parser')\n",
    "\n",
    "        for tag in soup.select('a.player-name.js-player-modal'):\n",
    "            player_ids.append([tag['data-player_id'],\n",
    "                              ' '.join(tag.text.strip('\\n').split()[:-6]),\n",
    "                              teams[team]])\n",
    "#             player_ids[tag['data-player_id']] = \\\n",
    "#                 [' '.join(tag.text.strip('\\n').split()[:-6]), teams[team]]\n",
    "\n",
    "    return player_ids\n"
   ]
  },
  {
   "cell_type": "code",
   "execution_count": 8,
   "metadata": {},
   "outputs": [],
   "source": [
    "mls_players = get_player_ids(driver)"
   ]
  },
  {
   "cell_type": "code",
   "execution_count": 9,
   "metadata": {},
   "outputs": [
    {
     "data": {
      "text/plain": [
       "712"
      ]
     },
     "execution_count": 9,
     "metadata": {},
     "output_type": "execute_result"
    }
   ],
   "source": [
    "len(mls_players)"
   ]
  },
  {
   "cell_type": "code",
   "execution_count": null,
   "metadata": {},
   "outputs": [],
   "source": []
  },
  {
   "cell_type": "code",
   "execution_count": 121,
   "metadata": {},
   "outputs": [],
   "source": [
    "# can use a generic page link, and concat each player's id to the end to pull up their page and scrape stats\n",
    "page_link = 'https://fantasy.mlssoccer.com/#stats-center/player-profile/'"
   ]
  },
  {
   "cell_type": "code",
   "execution_count": 145,
   "metadata": {},
   "outputs": [],
   "source": [
    "# taking the list of mls_players, and adding the ID to the end of the page_link string in order to navigate to\n",
    "# that page. Can use this to cycle through all the player pages to amass weekly stats\n",
    "driver.get(page_link + mls_players[649][0])"
   ]
  },
  {
   "cell_type": "code",
   "execution_count": 146,
   "metadata": {},
   "outputs": [],
   "source": [
    "# on the specific player page, create a page object for beautifulsoup to parse for the content\n",
    "html_players = driver.page_source\n",
    "soup_players = BeautifulSoup(html_players, 'html.parser')"
   ]
  },
  {
   "cell_type": "code",
   "execution_count": 147,
   "metadata": {},
   "outputs": [],
   "source": [
    "# using the beautiful soup object to get the specific player details. will use this over and over to scrape and\n",
    "# store all the players data\n",
    "table = soup_players.select('div.row-table')\n",
    "table_text = [stats.text for stats in table]"
   ]
  },
  {
   "cell_type": "code",
   "execution_count": 148,
   "metadata": {},
   "outputs": [
    {
     "data": {
      "text/plain": [
       "['110596', 'M. Ibarra', 'Seattle Sounders FC']"
      ]
     },
     "execution_count": 148,
     "metadata": {},
     "output_type": "execute_result"
    }
   ],
   "source": [
    "mls_players[649]"
   ]
  },
  {
   "cell_type": "code",
   "execution_count": 187,
   "metadata": {},
   "outputs": [],
   "source": [
    "# creating hard-coded specific row for Miguel Ibarra since his web page is broken\n",
    "miguel_ibarra_1 = mls_players[649] + pds.clean_data(table_text[1]) + ['3'] + pds.clean_data(table_text[38])[0::2]"
   ]
  },
  {
   "cell_type": "code",
   "execution_count": 188,
   "metadata": {},
   "outputs": [],
   "source": [
    "# creating hard_coded specific row for Miguel Ibarra since his web page is broken\n",
    "miguel_ibarra_2 = mls_players[649] + pds.clean_data(table_text[2]) + ['1'] + pds.clean_data(table_text[39])[0::2]"
   ]
  },
  {
   "cell_type": "code",
   "execution_count": 44,
   "metadata": {},
   "outputs": [],
   "source": [
    "player_columns = pds.clean_data(table_text[0]) + pds.clean_data(table_text[37])"
   ]
  },
  {
   "cell_type": "code",
   "execution_count": 46,
   "metadata": {},
   "outputs": [],
   "source": [
    "player_columns.insert(1,'HOME_AWAY')"
   ]
  },
  {
   "cell_type": "code",
   "execution_count": 48,
   "metadata": {},
   "outputs": [
    {
     "data": {
      "text/plain": [
       "29"
      ]
     },
     "execution_count": 48,
     "metadata": {},
     "output_type": "execute_result"
    }
   ],
   "source": []
  },
  {
   "cell_type": "code",
   "execution_count": 51,
   "metadata": {},
   "outputs": [],
   "source": [
    "player_columns = ['ID', 'NAME', 'TEAM'] + player_columns"
   ]
  },
  {
   "cell_type": "code",
   "execution_count": 52,
   "metadata": {},
   "outputs": [
    {
     "data": {
      "text/plain": [
       "32"
      ]
     },
     "execution_count": 52,
     "metadata": {},
     "output_type": "execute_result"
    }
   ],
   "source": [
    "len(player_columns)"
   ]
  },
  {
   "cell_type": "code",
   "execution_count": 53,
   "metadata": {},
   "outputs": [
    {
     "data": {
      "text/plain": [
       "['ID',\n",
       " 'NAME',\n",
       " 'TEAM',\n",
       " 'RD',\n",
       " 'HOME_AWAY',\n",
       " 'OPPONENT',\n",
       " 'PTS',\n",
       " 'MIN',\n",
       " 'GF',\n",
       " 'A',\n",
       " 'CS',\n",
       " 'PS',\n",
       " 'PE',\n",
       " 'PM',\n",
       " 'GA',\n",
       " 'SV',\n",
       " 'Y',\n",
       " 'R',\n",
       " 'OG',\n",
       " 'T',\n",
       " 'P',\n",
       " 'KP',\n",
       " 'CRS',\n",
       " 'BC',\n",
       " 'CL',\n",
       " 'BLK',\n",
       " 'INT',\n",
       " 'BR',\n",
       " 'ELG',\n",
       " 'OGA',\n",
       " 'SH',\n",
       " 'WF']"
      ]
     },
     "execution_count": 53,
     "metadata": {},
     "output_type": "execute_result"
    }
   ],
   "source": [
    "player_columns"
   ]
  },
  {
   "cell_type": "code",
   "execution_count": null,
   "metadata": {},
   "outputs": [],
   "source": []
  },
  {
   "cell_type": "code",
   "execution_count": null,
   "metadata": {},
   "outputs": [],
   "source": []
  },
  {
   "cell_type": "code",
   "execution_count": null,
   "metadata": {},
   "outputs": [],
   "source": [
    "mls_player_ids = [player[0] for player in mls_players]"
   ]
  },
  {
   "cell_type": "code",
   "execution_count": null,
   "metadata": {},
   "outputs": [],
   "source": [
    "mls_player_ids[0]"
   ]
  },
  {
   "cell_type": "code",
   "execution_count": null,
   "metadata": {},
   "outputs": [],
   "source": [
    "mls_players[0][0], mls_players[0][1], mls_players[0][2]"
   ]
  },
  {
   "cell_type": "code",
   "execution_count": null,
   "metadata": {},
   "outputs": [],
   "source": []
  },
  {
   "cell_type": "code",
   "execution_count": 207,
   "metadata": {},
   "outputs": [],
   "source": [
    "def get_all_player_stats(web_driver: Chrome, \n",
    "                         player_ids: List[List[str]], \n",
    "                         week_first: int, \n",
    "                         week_last: int) -> List[List[str]]:\n",
    "    '''Function to go to the web and pull all players and stats for the players, by week, from the MLS\n",
    "    Fantasy League website. \n",
    "    Must use a driver that is logged in to the site.\n",
    "    Must use the full mls_player_ids which includes ID, player's name, and team for each player.\n",
    "    '''\n",
    "    player_stats = []\n",
    "    \n",
    "    page_link = 'https://fantasy.mlssoccer.com/#stats-center/player-profile/'\n",
    "\n",
    "    # taking the list of mls_players, and adding the ID to the end of the page_link string in order to navigate to\n",
    "    # that page. Can use this to cycle through all the player pages to amass weekly stats\n",
    "    for player in player_ids:\n",
    "        #print(page_link)\n",
    "        #print(player[0])\n",
    "        driver.get(page_link + player[0])\n",
    "        time.sleep(5)\n",
    "        \n",
    "        # on the specific player page, create a page object for beautifulsoup to parse for the content\n",
    "        html = driver.page_source\n",
    "        soup = BeautifulSoup(html, 'html.parser')\n",
    "        \n",
    "        # using the beautiful soup object to get the specific player details. will use this over and over to scrape and\n",
    "        # store all the players data\n",
    "        table = soup.select('div.row-table')\n",
    "        table_text = [stats.text for stats in table]\n",
    "        \n",
    "        # in table_text, index 1 is the first game of the season in terms of info on the game, and index 38\n",
    "        # (so index i + 37) is the associated per category stats for the match\n",
    "        # each row will have the player's id, player name, team, information regarding the specific match, and then\n",
    "        # respective category totals for that match\n",
    "        for week in range(week_first, week_last + 1):\n",
    "            if len(player_stats) % 50 == 0:\n",
    "                print(f\"Scraped {round(50 * len(player_stats) / len(player_ids), 2)}% so far\")\n",
    "            player_stats.append([player[0]] +\n",
    "                                [player[1]] +\n",
    "                                [player[2]] +\n",
    "                                pds.update_negative_scores(pds.clean_data(table_text[week])) + \n",
    "                                [stat for stat in pds.clean_data(table_text[week + 37])[0::2]])\n",
    "            \n",
    "    return player_stats"
   ]
  },
  {
   "cell_type": "code",
   "execution_count": 209,
   "metadata": {},
   "outputs": [
    {
     "name": "stdout",
     "output_type": "stream",
     "text": [
      "Scraped 0.0% so far\n",
      "Scraped 3.51% so far\n",
      "Scraped 7.02% so far\n",
      "Scraped 10.53% so far\n",
      "Scraped 14.04% so far\n",
      "Scraped 17.56% so far\n",
      "Scraped 21.07% so far\n",
      "Scraped 24.58% so far\n"
     ]
    },
    {
     "ename": "IndexError",
     "evalue": "list index out of range",
     "output_type": "error",
     "traceback": [
      "\u001b[0;31m---------------------------------------------------------------------------\u001b[0m",
      "\u001b[0;31mIndexError\u001b[0m                                Traceback (most recent call last)",
      "\u001b[0;32m<ipython-input-209-8ab26cbb3851>\u001b[0m in \u001b[0;36m<module>\u001b[0;34m\u001b[0m\n\u001b[0;32m----> 1\u001b[0;31m \u001b[0mmls_player_stats\u001b[0m \u001b[0;34m=\u001b[0m \u001b[0mget_all_player_stats\u001b[0m\u001b[0;34m(\u001b[0m\u001b[0mdriver\u001b[0m\u001b[0;34m,\u001b[0m \u001b[0mmls_players\u001b[0m\u001b[0;34m,\u001b[0m \u001b[0;36m1\u001b[0m\u001b[0;34m,\u001b[0m \u001b[0;36m2\u001b[0m\u001b[0;34m)\u001b[0m\u001b[0;34m\u001b[0m\u001b[0;34m\u001b[0m\u001b[0m\n\u001b[0m",
      "\u001b[0;32m<ipython-input-207-c11c4cac1589>\u001b[0m in \u001b[0;36mget_all_player_stats\u001b[0;34m(web_driver, player_ids, week_first, week_last)\u001b[0m\n\u001b[1;32m     39\u001b[0m                                 \u001b[0;34m[\u001b[0m\u001b[0mplayer\u001b[0m\u001b[0;34m[\u001b[0m\u001b[0;36m1\u001b[0m\u001b[0;34m]\u001b[0m\u001b[0;34m]\u001b[0m \u001b[0;34m+\u001b[0m\u001b[0;34m\u001b[0m\u001b[0;34m\u001b[0m\u001b[0m\n\u001b[1;32m     40\u001b[0m                                 \u001b[0;34m[\u001b[0m\u001b[0mplayer\u001b[0m\u001b[0;34m[\u001b[0m\u001b[0;36m2\u001b[0m\u001b[0;34m]\u001b[0m\u001b[0;34m]\u001b[0m \u001b[0;34m+\u001b[0m\u001b[0;34m\u001b[0m\u001b[0;34m\u001b[0m\u001b[0m\n\u001b[0;32m---> 41\u001b[0;31m                                 \u001b[0mpds\u001b[0m\u001b[0;34m.\u001b[0m\u001b[0mupdate_negative_scores\u001b[0m\u001b[0;34m(\u001b[0m\u001b[0mpds\u001b[0m\u001b[0;34m.\u001b[0m\u001b[0mclean_data\u001b[0m\u001b[0;34m(\u001b[0m\u001b[0mtable_text\u001b[0m\u001b[0;34m[\u001b[0m\u001b[0mweek\u001b[0m\u001b[0;34m]\u001b[0m\u001b[0;34m)\u001b[0m\u001b[0;34m)\u001b[0m \u001b[0;34m+\u001b[0m\u001b[0;34m\u001b[0m\u001b[0;34m\u001b[0m\u001b[0m\n\u001b[0m\u001b[1;32m     42\u001b[0m                                 [stat for stat in pds.clean_data(table_text[week + 37])[0::2]])\n\u001b[1;32m     43\u001b[0m \u001b[0;34m\u001b[0m\u001b[0m\n",
      "\u001b[0;31mIndexError\u001b[0m: list index out of range"
     ]
    }
   ],
   "source": [
    "mls_player_stats = get_all_player_stats(driver, mls_players, 1, 2)"
   ]
  },
  {
   "cell_type": "code",
   "execution_count": null,
   "metadata": {},
   "outputs": [],
   "source": []
  },
  {
   "cell_type": "code",
   "execution_count": 11,
   "metadata": {},
   "outputs": [
    {
     "name": "stdout",
     "output_type": "stream",
     "text": [
      "Scraped 0.0% so far\n",
      "Scraped 50.0% so far\n",
      "Scraped 100.0% so far\n",
      "Scraped 150.0% so far\n"
     ]
    }
   ],
   "source": [
    "# mls_player_stats_100 = get_all_player_stats(driver, mls_players[:100], 1, 2)"
   ]
  },
  {
   "cell_type": "code",
   "execution_count": 25,
   "metadata": {},
   "outputs": [
    {
     "name": "stdout",
     "output_type": "stream",
     "text": [
      "Scraped 0.0% so far\n",
      "Scraped 12.5% so far\n",
      "Scraped 25.0% so far\n",
      "Scraped 37.5% so far\n",
      "Scraped 50.0% so far\n",
      "Scraped 62.5% so far\n",
      "Scraped 75.0% so far\n",
      "Scraped 87.5% so far\n"
     ]
    }
   ],
   "source": [
    "# mls_player_stats_300 = get_all_player_stats(driver, mls_players[100:300], 1, 2)"
   ]
  },
  {
   "cell_type": "code",
   "execution_count": 27,
   "metadata": {},
   "outputs": [],
   "source": [
    "# with open('mls_player_stats_300.csv', 'w', newline='') as f:\n",
    "#     writer = csv.writer(f)\n",
    "#     writer.writerows(mls_player_stats_300)"
   ]
  },
  {
   "cell_type": "code",
   "execution_count": 59,
   "metadata": {},
   "outputs": [
    {
     "name": "stdout",
     "output_type": "stream",
     "text": [
      "Scraped 0.0% so far\n",
      "Scraped 12.5% so far\n",
      "Scraped 25.0% so far\n",
      "Scraped 37.5% so far\n",
      "Scraped 50.0% so far\n",
      "Scraped 62.5% so far\n",
      "Scraped 75.0% so far\n",
      "Scraped 87.5% so far\n"
     ]
    }
   ],
   "source": [
    "# mls_player_stats_500 = get_all_player_stats(driver, mls_players[300:500], 1, 2)"
   ]
  },
  {
   "cell_type": "code",
   "execution_count": 60,
   "metadata": {},
   "outputs": [
    {
     "data": {
      "text/plain": [
       "400"
      ]
     },
     "execution_count": 60,
     "metadata": {},
     "output_type": "execute_result"
    }
   ],
   "source": [
    "len(mls_player_stats_500)"
   ]
  },
  {
   "cell_type": "code",
   "execution_count": 61,
   "metadata": {},
   "outputs": [],
   "source": [
    "# with open('mls_player_stats_500.csv', 'w', newline='') as f:\n",
    "#     writer = csv.writer(f)\n",
    "#     writer.writerows(mls_player_stats_500)"
   ]
  },
  {
   "cell_type": "code",
   "execution_count": 65,
   "metadata": {},
   "outputs": [
    {
     "name": "stdout",
     "output_type": "stream",
     "text": [
      "Scraped 0.0% so far\n",
      "Scraped 25.0% so far\n",
      "Scraped 50.0% so far\n",
      "Scraped 75.0% so far\n"
     ]
    }
   ],
   "source": [
    "# mls_player_stats_600 = get_all_player_stats(driver, mls_players[500:600], 1, 2)"
   ]
  },
  {
   "cell_type": "code",
   "execution_count": 66,
   "metadata": {},
   "outputs": [
    {
     "data": {
      "text/plain": [
       "200"
      ]
     },
     "execution_count": 66,
     "metadata": {},
     "output_type": "execute_result"
    }
   ],
   "source": [
    "len(mls_player_stats_600)"
   ]
  },
  {
   "cell_type": "code",
   "execution_count": 67,
   "metadata": {},
   "outputs": [],
   "source": [
    "# with open('mls_player_stats_600.csv', 'w', newline='') as f:\n",
    "#     writer = csv.writer(f)\n",
    "#     writer.writerows(mls_player_stats_600)"
   ]
  },
  {
   "cell_type": "code",
   "execution_count": 83,
   "metadata": {},
   "outputs": [
    {
     "name": "stdout",
     "output_type": "stream",
     "text": [
      "Scraped 0.0% so far\n",
      "Scraped 22.52% so far\n",
      "Scraped 45.05% so far\n",
      "Scraped 67.57% so far\n",
      "Scraped 90.09% so far\n"
     ]
    }
   ],
   "source": [
    "# mls_player_stats_rest = get_all_player_stats(driver, mls_players[600:649] + mls_players[650:], 1, 2)"
   ]
  },
  {
   "cell_type": "code",
   "execution_count": 179,
   "metadata": {},
   "outputs": [],
   "source": [
    "# adding in hard-coded miguel ibarra rows given the omitted data on his webpage\n",
    "# mls_player_stats_rest.append(miguel_ibarra_1)\n",
    "# mls_player_stats_rest.append(miguel_ibarra_2)"
   ]
  },
  {
   "cell_type": "code",
   "execution_count": 185,
   "metadata": {},
   "outputs": [
    {
     "data": {
      "text/plain": [
       "224"
      ]
     },
     "execution_count": 185,
     "metadata": {},
     "output_type": "execute_result"
    }
   ],
   "source": [
    "len(mls_player_stats_rest)"
   ]
  },
  {
   "cell_type": "code",
   "execution_count": 186,
   "metadata": {},
   "outputs": [],
   "source": [
    "# with open('mls_player_stats_rest.csv', 'w', newline='') as f:\n",
    "#     writer = csv.writer(f)\n",
    "#     writer.writerows(mls_player_stats_rest)"
   ]
  },
  {
   "cell_type": "code",
   "execution_count": null,
   "metadata": {},
   "outputs": [],
   "source": []
  },
  {
   "cell_type": "code",
   "execution_count": null,
   "metadata": {},
   "outputs": [],
   "source": []
  },
  {
   "cell_type": "code",
   "execution_count": 193,
   "metadata": {},
   "outputs": [
    {
     "data": {
      "text/html": [
       "<div>\n",
       "<style scoped>\n",
       "    .dataframe tbody tr th:only-of-type {\n",
       "        vertical-align: middle;\n",
       "    }\n",
       "\n",
       "    .dataframe tbody tr th {\n",
       "        vertical-align: top;\n",
       "    }\n",
       "\n",
       "    .dataframe thead th {\n",
       "        text-align: right;\n",
       "    }\n",
       "</style>\n",
       "<table border=\"1\" class=\"dataframe\">\n",
       "  <thead>\n",
       "    <tr style=\"text-align: right;\">\n",
       "      <th></th>\n",
       "      <th>ID</th>\n",
       "      <th>NAME</th>\n",
       "      <th>TEAM</th>\n",
       "      <th>RD</th>\n",
       "      <th>HOME_AWAY</th>\n",
       "      <th>OPPONENT</th>\n",
       "      <th>PTS</th>\n",
       "      <th>MIN</th>\n",
       "      <th>GF</th>\n",
       "      <th>A</th>\n",
       "      <th>...</th>\n",
       "      <th>CRS</th>\n",
       "      <th>BC</th>\n",
       "      <th>CL</th>\n",
       "      <th>BLK</th>\n",
       "      <th>INT</th>\n",
       "      <th>BR</th>\n",
       "      <th>ELG</th>\n",
       "      <th>OGA</th>\n",
       "      <th>SH</th>\n",
       "      <th>WF</th>\n",
       "    </tr>\n",
       "  </thead>\n",
       "  <tbody>\n",
       "    <tr>\n",
       "      <td>0</td>\n",
       "      <td>231969</td>\n",
       "      <td>E. Barco</td>\n",
       "      <td>Atlanta United FC</td>\n",
       "      <td>1</td>\n",
       "      <td>@</td>\n",
       "      <td>Nashville SC</td>\n",
       "      <td>7</td>\n",
       "      <td>90</td>\n",
       "      <td>1</td>\n",
       "      <td>0</td>\n",
       "      <td>...</td>\n",
       "      <td>0</td>\n",
       "      <td>0</td>\n",
       "      <td>0</td>\n",
       "      <td>0</td>\n",
       "      <td>0</td>\n",
       "      <td>3</td>\n",
       "      <td>0</td>\n",
       "      <td>0</td>\n",
       "      <td>2</td>\n",
       "      <td>3</td>\n",
       "    </tr>\n",
       "    <tr>\n",
       "      <td>1</td>\n",
       "      <td>231969</td>\n",
       "      <td>E. Barco</td>\n",
       "      <td>Atlanta United FC</td>\n",
       "      <td>2</td>\n",
       "      <td>vs</td>\n",
       "      <td>FC Cincinnati</td>\n",
       "      <td>13</td>\n",
       "      <td>90</td>\n",
       "      <td>1</td>\n",
       "      <td>1</td>\n",
       "      <td>...</td>\n",
       "      <td>0</td>\n",
       "      <td>0</td>\n",
       "      <td>0</td>\n",
       "      <td>0</td>\n",
       "      <td>0</td>\n",
       "      <td>5</td>\n",
       "      <td>0</td>\n",
       "      <td>0</td>\n",
       "      <td>4</td>\n",
       "      <td>5</td>\n",
       "    </tr>\n",
       "    <tr>\n",
       "      <td>2</td>\n",
       "      <td>122342</td>\n",
       "      <td>E. Hyndman</td>\n",
       "      <td>Atlanta United FC</td>\n",
       "      <td>1</td>\n",
       "      <td>@</td>\n",
       "      <td>Nashville SC</td>\n",
       "      <td>8</td>\n",
       "      <td>90</td>\n",
       "      <td>1</td>\n",
       "      <td>0</td>\n",
       "      <td>...</td>\n",
       "      <td>0</td>\n",
       "      <td>0</td>\n",
       "      <td>0</td>\n",
       "      <td>0</td>\n",
       "      <td>1</td>\n",
       "      <td>3</td>\n",
       "      <td>0</td>\n",
       "      <td>0</td>\n",
       "      <td>1</td>\n",
       "      <td>0</td>\n",
       "    </tr>\n",
       "    <tr>\n",
       "      <td>3</td>\n",
       "      <td>122342</td>\n",
       "      <td>E. Hyndman</td>\n",
       "      <td>Atlanta United FC</td>\n",
       "      <td>2</td>\n",
       "      <td>vs</td>\n",
       "      <td>FC Cincinnati</td>\n",
       "      <td>9</td>\n",
       "      <td>90</td>\n",
       "      <td>1</td>\n",
       "      <td>0</td>\n",
       "      <td>...</td>\n",
       "      <td>0</td>\n",
       "      <td>1</td>\n",
       "      <td>0</td>\n",
       "      <td>1</td>\n",
       "      <td>2</td>\n",
       "      <td>4</td>\n",
       "      <td>0</td>\n",
       "      <td>0</td>\n",
       "      <td>1</td>\n",
       "      <td>0</td>\n",
       "    </tr>\n",
       "    <tr>\n",
       "      <td>4</td>\n",
       "      <td>170797</td>\n",
       "      <td>P. Martinez</td>\n",
       "      <td>Atlanta United FC</td>\n",
       "      <td>1</td>\n",
       "      <td>@</td>\n",
       "      <td>Nashville SC</td>\n",
       "      <td>3</td>\n",
       "      <td>81</td>\n",
       "      <td>0</td>\n",
       "      <td>0</td>\n",
       "      <td>...</td>\n",
       "      <td>0</td>\n",
       "      <td>0</td>\n",
       "      <td>1</td>\n",
       "      <td>0</td>\n",
       "      <td>0</td>\n",
       "      <td>3</td>\n",
       "      <td>0</td>\n",
       "      <td>0</td>\n",
       "      <td>1</td>\n",
       "      <td>4</td>\n",
       "    </tr>\n",
       "  </tbody>\n",
       "</table>\n",
       "<p>5 rows × 32 columns</p>\n",
       "</div>"
      ],
      "text/plain": [
       "       ID         NAME               TEAM  RD HOME_AWAY       OPPONENT  PTS  \\\n",
       "0  231969     E. Barco  Atlanta United FC   1         @   Nashville SC    7   \n",
       "1  231969     E. Barco  Atlanta United FC   2        vs  FC Cincinnati   13   \n",
       "2  122342   E. Hyndman  Atlanta United FC   1         @   Nashville SC    8   \n",
       "3  122342   E. Hyndman  Atlanta United FC   2        vs  FC Cincinnati    9   \n",
       "4  170797  P. Martinez  Atlanta United FC   1         @   Nashville SC    3   \n",
       "\n",
       "  MIN GF  A  ... CRS BC CL BLK INT BR ELG OGA SH WF  \n",
       "0  90  1  0  ...   0  0  0   0   0  3   0   0  2  3  \n",
       "1  90  1  1  ...   0  0  0   0   0  5   0   0  4  5  \n",
       "2  90  1  0  ...   0  0  0   0   1  3   0   0  1  0  \n",
       "3  90  1  0  ...   0  1  0   1   2  4   0   0  1  0  \n",
       "4  81  0  0  ...   0  0  1   0   0  3   0   0  1  4  \n",
       "\n",
       "[5 rows x 32 columns]"
      ]
     },
     "execution_count": 193,
     "metadata": {},
     "output_type": "execute_result"
    }
   ],
   "source": [
    "pd.read_csv('mls_player_stats_100.csv', names=player_columns).head()"
   ]
  },
  {
   "cell_type": "code",
   "execution_count": 210,
   "metadata": {},
   "outputs": [],
   "source": [
    "all_players = mls_player_stats_100 + mls_player_stats_300 + mls_player_stats_500 + mls_player_stats_600 + mls_player_stats_rest"
   ]
  },
  {
   "cell_type": "code",
   "execution_count": 219,
   "metadata": {},
   "outputs": [],
   "source": [
    "with open('mls_player_stats_all.csv', 'w', newline='') as f:\n",
    "    writer = csv.writer(f)\n",
    "    writer.writerows(all_players)"
   ]
  },
  {
   "cell_type": "code",
   "execution_count": 214,
   "metadata": {},
   "outputs": [
    {
     "data": {
      "text/plain": [
       "32"
      ]
     },
     "execution_count": 214,
     "metadata": {},
     "output_type": "execute_result"
    }
   ],
   "source": [
    "len(all_players[0])"
   ]
  },
  {
   "cell_type": "code",
   "execution_count": 220,
   "metadata": {},
   "outputs": [
    {
     "data": {
      "text/html": [
       "<div>\n",
       "<style scoped>\n",
       "    .dataframe tbody tr th:only-of-type {\n",
       "        vertical-align: middle;\n",
       "    }\n",
       "\n",
       "    .dataframe tbody tr th {\n",
       "        vertical-align: top;\n",
       "    }\n",
       "\n",
       "    .dataframe thead th {\n",
       "        text-align: right;\n",
       "    }\n",
       "</style>\n",
       "<table border=\"1\" class=\"dataframe\">\n",
       "  <thead>\n",
       "    <tr style=\"text-align: right;\">\n",
       "      <th></th>\n",
       "      <th>ID</th>\n",
       "      <th>NAME</th>\n",
       "      <th>TEAM</th>\n",
       "      <th>RD</th>\n",
       "      <th>HOME_AWAY</th>\n",
       "      <th>OPPONENT</th>\n",
       "      <th>PTS</th>\n",
       "      <th>MIN</th>\n",
       "      <th>GF</th>\n",
       "      <th>A</th>\n",
       "      <th>...</th>\n",
       "      <th>CRS</th>\n",
       "      <th>BC</th>\n",
       "      <th>CL</th>\n",
       "      <th>BLK</th>\n",
       "      <th>INT</th>\n",
       "      <th>BR</th>\n",
       "      <th>ELG</th>\n",
       "      <th>OGA</th>\n",
       "      <th>SH</th>\n",
       "      <th>WF</th>\n",
       "    </tr>\n",
       "  </thead>\n",
       "  <tbody>\n",
       "    <tr>\n",
       "      <td>0</td>\n",
       "      <td>231969</td>\n",
       "      <td>E. Barco</td>\n",
       "      <td>Atlanta United FC</td>\n",
       "      <td>1</td>\n",
       "      <td>@</td>\n",
       "      <td>Nashville SC</td>\n",
       "      <td>7</td>\n",
       "      <td>90</td>\n",
       "      <td>1</td>\n",
       "      <td>0</td>\n",
       "      <td>...</td>\n",
       "      <td>0</td>\n",
       "      <td>0</td>\n",
       "      <td>0</td>\n",
       "      <td>0</td>\n",
       "      <td>0</td>\n",
       "      <td>3</td>\n",
       "      <td>0</td>\n",
       "      <td>0</td>\n",
       "      <td>2</td>\n",
       "      <td>3</td>\n",
       "    </tr>\n",
       "    <tr>\n",
       "      <td>1</td>\n",
       "      <td>231969</td>\n",
       "      <td>E. Barco</td>\n",
       "      <td>Atlanta United FC</td>\n",
       "      <td>2</td>\n",
       "      <td>vs</td>\n",
       "      <td>FC Cincinnati</td>\n",
       "      <td>13</td>\n",
       "      <td>90</td>\n",
       "      <td>1</td>\n",
       "      <td>1</td>\n",
       "      <td>...</td>\n",
       "      <td>0</td>\n",
       "      <td>0</td>\n",
       "      <td>0</td>\n",
       "      <td>0</td>\n",
       "      <td>0</td>\n",
       "      <td>5</td>\n",
       "      <td>0</td>\n",
       "      <td>0</td>\n",
       "      <td>4</td>\n",
       "      <td>5</td>\n",
       "    </tr>\n",
       "    <tr>\n",
       "      <td>2</td>\n",
       "      <td>122342</td>\n",
       "      <td>E. Hyndman</td>\n",
       "      <td>Atlanta United FC</td>\n",
       "      <td>1</td>\n",
       "      <td>@</td>\n",
       "      <td>Nashville SC</td>\n",
       "      <td>8</td>\n",
       "      <td>90</td>\n",
       "      <td>1</td>\n",
       "      <td>0</td>\n",
       "      <td>...</td>\n",
       "      <td>0</td>\n",
       "      <td>0</td>\n",
       "      <td>0</td>\n",
       "      <td>0</td>\n",
       "      <td>1</td>\n",
       "      <td>3</td>\n",
       "      <td>0</td>\n",
       "      <td>0</td>\n",
       "      <td>1</td>\n",
       "      <td>0</td>\n",
       "    </tr>\n",
       "    <tr>\n",
       "      <td>3</td>\n",
       "      <td>122342</td>\n",
       "      <td>E. Hyndman</td>\n",
       "      <td>Atlanta United FC</td>\n",
       "      <td>2</td>\n",
       "      <td>vs</td>\n",
       "      <td>FC Cincinnati</td>\n",
       "      <td>9</td>\n",
       "      <td>90</td>\n",
       "      <td>1</td>\n",
       "      <td>0</td>\n",
       "      <td>...</td>\n",
       "      <td>0</td>\n",
       "      <td>1</td>\n",
       "      <td>0</td>\n",
       "      <td>1</td>\n",
       "      <td>2</td>\n",
       "      <td>4</td>\n",
       "      <td>0</td>\n",
       "      <td>0</td>\n",
       "      <td>1</td>\n",
       "      <td>0</td>\n",
       "    </tr>\n",
       "    <tr>\n",
       "      <td>4</td>\n",
       "      <td>170797</td>\n",
       "      <td>P. Martinez</td>\n",
       "      <td>Atlanta United FC</td>\n",
       "      <td>1</td>\n",
       "      <td>@</td>\n",
       "      <td>Nashville SC</td>\n",
       "      <td>3</td>\n",
       "      <td>81</td>\n",
       "      <td>0</td>\n",
       "      <td>0</td>\n",
       "      <td>...</td>\n",
       "      <td>0</td>\n",
       "      <td>0</td>\n",
       "      <td>1</td>\n",
       "      <td>0</td>\n",
       "      <td>0</td>\n",
       "      <td>3</td>\n",
       "      <td>0</td>\n",
       "      <td>0</td>\n",
       "      <td>1</td>\n",
       "      <td>4</td>\n",
       "    </tr>\n",
       "    <tr>\n",
       "      <td>...</td>\n",
       "      <td>...</td>\n",
       "      <td>...</td>\n",
       "      <td>...</td>\n",
       "      <td>...</td>\n",
       "      <td>...</td>\n",
       "      <td>...</td>\n",
       "      <td>...</td>\n",
       "      <td>...</td>\n",
       "      <td>...</td>\n",
       "      <td>...</td>\n",
       "      <td>...</td>\n",
       "      <td>...</td>\n",
       "      <td>...</td>\n",
       "      <td>...</td>\n",
       "      <td>...</td>\n",
       "      <td>...</td>\n",
       "      <td>...</td>\n",
       "      <td>...</td>\n",
       "      <td>...</td>\n",
       "      <td>...</td>\n",
       "      <td>...</td>\n",
       "    </tr>\n",
       "    <tr>\n",
       "      <td>1419</td>\n",
       "      <td>437697</td>\n",
       "      <td>D. Pecile</td>\n",
       "      <td>Vancouver Whitecaps FC</td>\n",
       "      <td>2</td>\n",
       "      <td>@</td>\n",
       "      <td>LA Galaxy</td>\n",
       "      <td>0</td>\n",
       "      <td>-</td>\n",
       "      <td>-</td>\n",
       "      <td>-</td>\n",
       "      <td>...</td>\n",
       "      <td>-</td>\n",
       "      <td>-</td>\n",
       "      <td>-</td>\n",
       "      <td>-</td>\n",
       "      <td>-</td>\n",
       "      <td>-</td>\n",
       "      <td>-</td>\n",
       "      <td>-</td>\n",
       "      <td>-</td>\n",
       "      <td>-</td>\n",
       "    </tr>\n",
       "    <tr>\n",
       "      <td>1420</td>\n",
       "      <td>450421</td>\n",
       "      <td>R. Veselinovic</td>\n",
       "      <td>Vancouver Whitecaps FC</td>\n",
       "      <td>1</td>\n",
       "      <td>vs</td>\n",
       "      <td>Sporting Kansas City</td>\n",
       "      <td>0</td>\n",
       "      <td>-</td>\n",
       "      <td>-</td>\n",
       "      <td>-</td>\n",
       "      <td>...</td>\n",
       "      <td>-</td>\n",
       "      <td>-</td>\n",
       "      <td>-</td>\n",
       "      <td>-</td>\n",
       "      <td>-</td>\n",
       "      <td>-</td>\n",
       "      <td>-</td>\n",
       "      <td>-</td>\n",
       "      <td>-</td>\n",
       "      <td>-</td>\n",
       "    </tr>\n",
       "    <tr>\n",
       "      <td>1421</td>\n",
       "      <td>450421</td>\n",
       "      <td>R. Veselinovic</td>\n",
       "      <td>Vancouver Whitecaps FC</td>\n",
       "      <td>2</td>\n",
       "      <td>@</td>\n",
       "      <td>LA Galaxy</td>\n",
       "      <td>0</td>\n",
       "      <td>-</td>\n",
       "      <td>-</td>\n",
       "      <td>-</td>\n",
       "      <td>...</td>\n",
       "      <td>-</td>\n",
       "      <td>-</td>\n",
       "      <td>-</td>\n",
       "      <td>-</td>\n",
       "      <td>-</td>\n",
       "      <td>-</td>\n",
       "      <td>-</td>\n",
       "      <td>-</td>\n",
       "      <td>-</td>\n",
       "      <td>-</td>\n",
       "    </tr>\n",
       "    <tr>\n",
       "      <td>1422</td>\n",
       "      <td>110596</td>\n",
       "      <td>M. Ibarra</td>\n",
       "      <td>Seattle Sounders FC</td>\n",
       "      <td>1</td>\n",
       "      <td>vs</td>\n",
       "      <td>Chicago Fire FC</td>\n",
       "      <td>3</td>\n",
       "      <td>73</td>\n",
       "      <td>0</td>\n",
       "      <td>0</td>\n",
       "      <td>...</td>\n",
       "      <td>0</td>\n",
       "      <td>0</td>\n",
       "      <td>0</td>\n",
       "      <td>0</td>\n",
       "      <td>1</td>\n",
       "      <td>2</td>\n",
       "      <td>0</td>\n",
       "      <td>0</td>\n",
       "      <td>6</td>\n",
       "      <td>0</td>\n",
       "    </tr>\n",
       "    <tr>\n",
       "      <td>1423</td>\n",
       "      <td>110596</td>\n",
       "      <td>M. Ibarra</td>\n",
       "      <td>Seattle Sounders FC</td>\n",
       "      <td>2</td>\n",
       "      <td>vs</td>\n",
       "      <td>Columbus Crew SC</td>\n",
       "      <td>1</td>\n",
       "      <td>59</td>\n",
       "      <td>0</td>\n",
       "      <td>0</td>\n",
       "      <td>...</td>\n",
       "      <td>0</td>\n",
       "      <td>0</td>\n",
       "      <td>1</td>\n",
       "      <td>0</td>\n",
       "      <td>2</td>\n",
       "      <td>2</td>\n",
       "      <td>0</td>\n",
       "      <td>0</td>\n",
       "      <td>0</td>\n",
       "      <td>0</td>\n",
       "    </tr>\n",
       "  </tbody>\n",
       "</table>\n",
       "<p>1424 rows × 32 columns</p>\n",
       "</div>"
      ],
      "text/plain": [
       "          ID            NAME                    TEAM  RD HOME_AWAY  \\\n",
       "0     231969        E. Barco       Atlanta United FC   1         @   \n",
       "1     231969        E. Barco       Atlanta United FC   2        vs   \n",
       "2     122342      E. Hyndman       Atlanta United FC   1         @   \n",
       "3     122342      E. Hyndman       Atlanta United FC   2        vs   \n",
       "4     170797     P. Martinez       Atlanta United FC   1         @   \n",
       "...      ...             ...                     ...  ..       ...   \n",
       "1419  437697       D. Pecile  Vancouver Whitecaps FC   2         @   \n",
       "1420  450421  R. Veselinovic  Vancouver Whitecaps FC   1        vs   \n",
       "1421  450421  R. Veselinovic  Vancouver Whitecaps FC   2         @   \n",
       "1422  110596       M. Ibarra     Seattle Sounders FC   1        vs   \n",
       "1423  110596       M. Ibarra     Seattle Sounders FC   2        vs   \n",
       "\n",
       "                  OPPONENT  PTS MIN GF  A  ... CRS BC CL BLK INT BR ELG OGA  \\\n",
       "0             Nashville SC    7  90  1  0  ...   0  0  0   0   0  3   0   0   \n",
       "1            FC Cincinnati   13  90  1  1  ...   0  0  0   0   0  5   0   0   \n",
       "2             Nashville SC    8  90  1  0  ...   0  0  0   0   1  3   0   0   \n",
       "3            FC Cincinnati    9  90  1  0  ...   0  1  0   1   2  4   0   0   \n",
       "4             Nashville SC    3  81  0  0  ...   0  0  1   0   0  3   0   0   \n",
       "...                    ...  ...  .. .. ..  ...  .. .. ..  ..  .. ..  ..  ..   \n",
       "1419             LA Galaxy    0   -  -  -  ...   -  -  -   -   -  -   -   -   \n",
       "1420  Sporting Kansas City    0   -  -  -  ...   -  -  -   -   -  -   -   -   \n",
       "1421             LA Galaxy    0   -  -  -  ...   -  -  -   -   -  -   -   -   \n",
       "1422       Chicago Fire FC    3  73  0  0  ...   0  0  0   0   1  2   0   0   \n",
       "1423      Columbus Crew SC    1  59  0  0  ...   0  0  1   0   2  2   0   0   \n",
       "\n",
       "     SH WF  \n",
       "0     2  3  \n",
       "1     4  5  \n",
       "2     1  0  \n",
       "3     1  0  \n",
       "4     1  4  \n",
       "...  .. ..  \n",
       "1419  -  -  \n",
       "1420  -  -  \n",
       "1421  -  -  \n",
       "1422  6  0  \n",
       "1423  0  0  \n",
       "\n",
       "[1424 rows x 32 columns]"
      ]
     },
     "execution_count": 220,
     "metadata": {},
     "output_type": "execute_result"
    }
   ],
   "source": [
    "pd.read_csv('mls_player_stats_all.csv', names=player_columns)"
   ]
  },
  {
   "cell_type": "code",
   "execution_count": null,
   "metadata": {},
   "outputs": [],
   "source": []
  },
  {
   "cell_type": "code",
   "execution_count": null,
   "metadata": {},
   "outputs": [],
   "source": []
  },
  {
   "cell_type": "code",
   "execution_count": null,
   "metadata": {},
   "outputs": [],
   "source": [
    "pds.clean_data(table_text[2])"
   ]
  },
  {
   "cell_type": "code",
   "execution_count": null,
   "metadata": {},
   "outputs": [],
   "source": [
    "pds.update_negative_scores(pds.clean_data(table_text[1]))"
   ]
  },
  {
   "cell_type": "code",
   "execution_count": null,
   "metadata": {},
   "outputs": [],
   "source": [
    "# this will provide the stats for each category for each week, this example is week2\n",
    "[int(stat) for stat in pds.clean_data(table_text[39])[0::2]]"
   ]
  },
  {
   "cell_type": "code",
   "execution_count": null,
   "metadata": {},
   "outputs": [],
   "source": [
    "# this provides the points total based on the stats for each week, this example is week2\n",
    "pds.clean_data(table_text[39])[1::2]"
   ]
  },
  {
   "cell_type": "code",
   "execution_count": null,
   "metadata": {},
   "outputs": [],
   "source": [
    "# game summary headline columns, opponent column split based on home ('vs') or away ('@')\n",
    "pds.clean_data(table_text[0])"
   ]
  },
  {
   "cell_type": "code",
   "execution_count": null,
   "metadata": {},
   "outputs": [],
   "source": [
    "# game 1\n",
    "print(f\"game 1: {pds.clean_data(table_text[1])}\")\n",
    "# game 2\n",
    "print(f\"game 2: {pds.clean_data(table_text[2])}\")\n",
    "# game 34\n",
    "print(f\"game 34: {pds.clean_data(table_text[34])}\")"
   ]
  },
  {
   "cell_type": "code",
   "execution_count": null,
   "metadata": {},
   "outputs": [],
   "source": [
    "# row 35 - summary row at the bottom of the page\n",
    "print(f\"row 35: {pds.clean_data(table_text[35])}\"'\\n')\n",
    "# row 36 this is the header row for columns for the in-game stats\n",
    "print(f\"row 36: {pds.clean_data(table_text[36])}\"'\\n')\n",
    "# row 37 this is the abbreviation header row for columns for the in-game stats\n",
    "print(f\"row 37: {pds.clean_data(table_text[37])}\"'\\n')\n",
    "# row 38, this is in-game stats for game 1\n",
    "print(f\"row 38: {pds.clean_data(table_text[38])}\")"
   ]
  },
  {
   "cell_type": "code",
   "execution_count": null,
   "metadata": {},
   "outputs": [],
   "source": [
    "pds.update_negative_scores(pds.clean_data(table_text[2])) + [int(stat) for stat in pds.clean_data(table_text[39])[0::2]]"
   ]
  },
  {
   "cell_type": "code",
   "execution_count": null,
   "metadata": {},
   "outputs": [],
   "source": []
  },
  {
   "cell_type": "code",
   "execution_count": null,
   "metadata": {},
   "outputs": [],
   "source": []
  },
  {
   "cell_type": "code",
   "execution_count": null,
   "metadata": {},
   "outputs": [],
   "source": []
  },
  {
   "cell_type": "code",
   "execution_count": null,
   "metadata": {},
   "outputs": [],
   "source": []
  },
  {
   "cell_type": "code",
   "execution_count": null,
   "metadata": {},
   "outputs": [],
   "source": []
  },
  {
   "cell_type": "code",
   "execution_count": null,
   "metadata": {},
   "outputs": [],
   "source": []
  },
  {
   "cell_type": "code",
   "execution_count": null,
   "metadata": {},
   "outputs": [],
   "source": [
    "# creates a list of points based on the row \n",
    "[int(point[1:-1]) for point in pds.clean_data(table_text[39])[1::2] if point.strip('-')]"
   ]
  },
  {
   "cell_type": "code",
   "execution_count": null,
   "metadata": {},
   "outputs": [],
   "source": [
    "# this is the sum of the points from the list above\n",
    "sum([int(point[1:-1]) for point in pds.clean_data(table_text[39])[1::2] if point.strip('-')])"
   ]
  },
  {
   "cell_type": "code",
   "execution_count": null,
   "metadata": {},
   "outputs": [],
   "source": [
    "# combining the first part of the table, that shows week number, home ('vs') or away ('@'), and the opponent\n",
    "# next is total points, then the number of minutes followed by all the stats for the week (ex: week 1)\n",
    "pds.update_negative_scores(pds.clean_data(table_text[1])) + [int(entry) for entry in pds.clean_data(table_text[38])[0::2]]"
   ]
  },
  {
   "cell_type": "code",
   "execution_count": null,
   "metadata": {},
   "outputs": [],
   "source": [
    "# combining the first part of the table, that shows week number, home ('vs') or away ('@'), and the opponent\n",
    "# next is total points, then the number of minutes followed by all the stats for the week (ex: week 2)\n",
    "pds.update_negative_scores(pds.clean_data(table_text[2])) + [int(entry) for entry in pds.clean_data(table_text[39])[0::2]]"
   ]
  },
  {
   "cell_type": "code",
   "execution_count": null,
   "metadata": {},
   "outputs": [],
   "source": []
  },
  {
   "cell_type": "code",
   "execution_count": null,
   "metadata": {},
   "outputs": [],
   "source": []
  },
  {
   "cell_type": "code",
   "execution_count": null,
   "metadata": {},
   "outputs": [],
   "source": []
  }
 ],
 "metadata": {
  "kernelspec": {
   "display_name": "Python 3",
   "language": "python",
   "name": "python3"
  }
 },
 "nbformat": 4,
 "nbformat_minor": 2
}
