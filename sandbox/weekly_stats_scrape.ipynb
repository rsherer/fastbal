{
 "cells": [
  {
   "cell_type": "code",
   "execution_count": 1,
   "metadata": {},
   "outputs": [],
   "source": [
    "import numpy as np\n",
    "import pandas as pd\n",
    "import time\n",
    "import requests\n",
    "from bs4 import BeautifulSoup\n",
    "from selenium.webdriver import Chrome\n",
    "from selenium.webdriver.support.select import Select\n",
    "from selenium.webdriver.common.action_chains import ActionChains\n",
    "\n",
    "from typing import List, Tuple\n",
    "import sys\n",
    "sys.path.append(\"../src/\")\n",
    "import scraper as s\n",
    "\n",
    "import matplotlib.pyplot as plt\n",
    "%matplotlib inline"
   ]
  },
  {
   "cell_type": "code",
   "execution_count": 12,
   "metadata": {},
   "outputs": [],
   "source": [
    "def logout(web_driver: object) -> None:\n",
    "    'Will logout out of the fantasy page when done with work'\n",
    "    action = ActionChains(web_driver)\n",
    "    \n",
    "    first_menu = web_driver.find_element_by_class_name('my-account')\n",
    "    action.move_to_element(first_menu).perform()\n",
    "    time.sleep(1)\n",
    "    \n",
    "    second_menu = web_driver.find_element_by_css_selector('.fa.fa-power-off')\n",
    "    action.move_to_element(second_menu)\n",
    "    time.sleep(1)\n",
    "    \n",
    "    second_menu.click()"
   ]
  },
  {
   "cell_type": "code",
   "execution_count": 3,
   "metadata": {},
   "outputs": [],
   "source": [
    "# urls, passwords, team names\n",
    "mls_fantasy_url = \"https://fantasy.mlssoccer.com/#\"\n",
    "login_id = 'rsherer@gmail.com'\n",
    "pwd = 'mls77Soccer'\n",
    "\n",
    "teams = {1: 'Atlanta United FC',\n",
    "2: 'Chicago Fire FC',\n",
    "3: 'FC Cincinnati',\n",
    "4: 'Columbus Crew SC',\n",
    "5: 'D.C. United',\n",
    "6: 'Inter Miami CF',\n",
    "7: 'Montreal Impact',\n",
    "8: 'New England Revolution',\n",
    "9: 'New York City FC',\n",
    "10: 'New York Red Bulls',\n",
    "11: 'Orlando City SC',\n",
    "12: 'Philadelphia Union',\n",
    "13: 'Toronto FC',\n",
    "14: 'Colorado Rapids',\n",
    "15: 'FC Dallas',\n",
    "16: 'Houston Dynamo',\n",
    "17: 'LA Galaxy',\n",
    "18: 'Los Angeles FC',\n",
    "19: 'Minnesota United FC',\n",
    "20: 'Nashville SC',\n",
    "21: 'Portland Timbers',\n",
    "22: 'Real Salt Lake',\n",
    "23: 'San Jose Earthquakes',\n",
    "24: 'Seattle Sounders FC',\n",
    "25: 'Sporting Kansas City',\n",
    "26: 'Vancouver Whitecaps FC'}"
   ]
  },
  {
   "cell_type": "code",
   "execution_count": 4,
   "metadata": {},
   "outputs": [],
   "source": [
    "# open fantasy page browser\n",
    "driver = Chrome()\n",
    "driver.get(mls_fantasy_url)"
   ]
  },
  {
   "cell_type": "code",
   "execution_count": 5,
   "metadata": {},
   "outputs": [],
   "source": [
    "# click on login button link\n",
    "driver.find_element_by_link_text('LOG IN').click()"
   ]
  },
  {
   "cell_type": "code",
   "execution_count": 6,
   "metadata": {},
   "outputs": [],
   "source": [
    "# send in login id and password and go into the browser\n",
    "time.sleep(3)\n",
    "username = driver.find_element_by_name('username')\n",
    "username.clear()\n",
    "username.send_keys(login_id)\n",
    "password = driver.find_element_by_name('password')\n",
    "password.clear()\n",
    "password.send_keys(pwd)\n",
    "driver.find_element_by_class_name('gigya-input-submit').click()"
   ]
  },
  {
   "cell_type": "code",
   "execution_count": 7,
   "metadata": {},
   "outputs": [],
   "source": [
    "# go to stats center section of the page\n",
    "driver.find_element_by_link_text('STATS CENTER').click()"
   ]
  },
  {
   "cell_type": "code",
   "execution_count": 8,
   "metadata": {},
   "outputs": [],
   "source": [
    "# click on 'All Clubs' and pick a team\n",
    "# Sounders is teams[24]\n",
    "select_team = Select(driver.find_element_by_id('js-filter-squads'))\n",
    "select_team.select_by_visible_text(teams[24])\n",
    "# can click \"LOAD MORE\" so all players can be seen, but commenting out, may not be necessary right now\n",
    "# driver.find_element_by_css_selector('.btn.small.base-btn.load-more.js-load').click()"
   ]
  },
  {
   "cell_type": "code",
   "execution_count": 10,
   "metadata": {},
   "outputs": [],
   "source": [
    "logout(driver)"
   ]
  },
  {
   "cell_type": "code",
   "execution_count": null,
   "metadata": {},
   "outputs": [],
   "source": []
  },
  {
   "cell_type": "code",
   "execution_count": null,
   "metadata": {},
   "outputs": [],
   "source": []
  },
  {
   "cell_type": "code",
   "execution_count": null,
   "metadata": {},
   "outputs": [],
   "source": []
  },
  {
   "cell_type": "code",
   "execution_count": null,
   "metadata": {},
   "outputs": [],
   "source": []
  },
  {
   "cell_type": "code",
   "execution_count": null,
   "metadata": {},
   "outputs": [],
   "source": []
  }
 ],
 "metadata": {
  "kernelspec": {
   "display_name": "Python 3",
   "language": "python",
   "name": "python3"
  },
  "language_info": {
   "codemirror_mode": {
    "name": "ipython",
    "version": 3
   },
   "file_extension": ".py",
   "mimetype": "text/x-python",
   "name": "python",
   "nbconvert_exporter": "python",
   "pygments_lexer": "ipython3",
   "version": "3.7.4"
  }
 },
 "nbformat": 4,
 "nbformat_minor": 2
}
