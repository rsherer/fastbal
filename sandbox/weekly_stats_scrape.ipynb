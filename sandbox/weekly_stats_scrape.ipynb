{
 "cells": [
  {
   "cell_type": "code",
   "execution_count": 2,
   "metadata": {},
   "outputs": [],
   "source": [
    "import numpy as np\n",
    "import pandas as pd\n",
    "import time\n",
    "import requests\n",
    "from bs4 import BeautifulSoup\n",
    "from selenium.webdriver import Chrome\n",
    "from selenium.webdriver.support.select import Select\n",
    "from selenium.webdriver.common.action_chains import ActionChains\n",
    "\n",
    "from typing import List, Tuple, Dict\n",
    "import sys\n",
    "sys.path.append(\"../src/\")\n",
    "import player_data_scraper as pds\n",
    "import csv\n",
    "\n",
    "import matplotlib.pyplot as plt\n",
    "%matplotlib inline"
   ]
  },
  {
   "cell_type": "code",
   "execution_count": 3,
   "metadata": {},
   "outputs": [],
   "source": [
    "def mls_fantasy_login(login_id: str,\n",
    "                     password: str, \n",
    "                     mls_fantasy_url: str = \"https://fantasy.mlssoccer.com/#\") -> Chrome:\n",
    "    '''\n",
    "    Will log into the MLS fantasy page with login_id and password inputted from the user.\n",
    "    Returns a Chrome webdriver which can be used to logout.\n",
    "    '''\n",
    "    \n",
    "    # open a chrome browser and go to the mls fantasy landing page\n",
    "    driver = Chrome()\n",
    "    driver.get(mls_fantasy_url)\n",
    "    driver.find_element_by_link_text('LOG IN').click()\n",
    "    # send in login id and password and go into the browser\n",
    "    time.sleep(3)\n",
    "    username = driver.find_element_by_name('username')\n",
    "    username.clear()\n",
    "    username.send_keys(login_id)\n",
    "    time.sleep(3)\n",
    "    passcode = driver.find_element_by_name('password')\n",
    "    passcode.clear()\n",
    "    passcode.send_keys(password)\n",
    "    \n",
    "    driver.find_element_by_class_name('gigya-input-submit').click()\n",
    "    time.sleep(2)\n",
    "    driver.find_element_by_link_text('STATS CENTER').click()\n",
    "    \n",
    "    return driver"
   ]
  },
  {
   "cell_type": "code",
   "execution_count": 4,
   "metadata": {},
   "outputs": [],
   "source": [
    "def logout(web_driver: Chrome) -> None:\n",
    "    '''\n",
    "    Will logout out of the fantasy page when done with work.\n",
    "    web_driver in this case is the browser that is launched with the mls fantasy page\n",
    "    '''\n",
    "    \n",
    "    action = ActionChains(web_driver)\n",
    "    \n",
    "    first_menu = web_driver.find_element_by_class_name('my-account')\n",
    "    action.move_to_element(first_menu).perform()\n",
    "    time.sleep(2)\n",
    "    \n",
    "    second_menu = web_driver.find_element_by_css_selector('.fa.fa-power-off')\n",
    "    action.move_to_element(second_menu)\n",
    "    time.sleep(2)\n",
    "    \n",
    "    second_menu.click()"
   ]
  },
  {
   "cell_type": "code",
   "execution_count": 5,
   "metadata": {},
   "outputs": [],
   "source": [
    "# urls, passwords, team names\n",
    "mls_fantasy_url = \"https://fantasy.mlssoccer.com/#\"\n",
    "login_id = 'rsherer@gmail.com'\n",
    "pwd = 'fakepassword'\n",
    "\n",
    "teams = {1: 'Atlanta United FC', \n",
    " 2: 'Chicago Fire FC', \n",
    " 3: 'FC Cincinnati', \n",
    " 4: 'Columbus Crew SC', \n",
    " 5: 'D.C. United', \n",
    " 6: 'Inter Miami CF', \n",
    " 7: 'Montreal Impact', \n",
    " 8: 'New England Revolution', \n",
    " 9: 'New York City FC', \n",
    " 10: 'New York Red Bulls', \n",
    " 11: 'Orlando City SC', \n",
    " 12: 'Philadelphia Union', \n",
    " 13: 'Toronto FC', \n",
    " 14: 'Colorado Rapids', \n",
    " 15: 'FC Dallas', \n",
    " 16: 'Houston Dynamo', \n",
    " 17: 'LA Galaxy', \n",
    " 18: 'Los Angeles FC', \n",
    " 19: 'Minnesota United FC', \n",
    " 20: 'Nashville SC', \n",
    " 21: 'Portland Timbers', \n",
    " 22: 'Real Salt Lake', \n",
    " 23: 'San Jose Earthquakes', \n",
    " 24: 'Seattle Sounders FC', \n",
    " 25: 'Sporting Kansas City', \n",
    " 26: 'Vancouver Whitecaps FC'}"
   ]
  },
  {
   "cell_type": "code",
   "execution_count": 13,
   "metadata": {},
   "outputs": [],
   "source": [
    "driver = mls_fantasy_login(login_id, pwd)"
   ]
  },
  {
   "cell_type": "code",
   "execution_count": 6,
   "metadata": {},
   "outputs": [],
   "source": [
    "logout(driver)"
   ]
  },
  {
   "cell_type": "code",
   "execution_count": null,
   "metadata": {},
   "outputs": [],
   "source": []
  },
  {
   "cell_type": "code",
   "execution_count": null,
   "metadata": {},
   "outputs": [],
   "source": []
  },
  {
   "cell_type": "code",
   "execution_count": 6,
   "metadata": {},
   "outputs": [],
   "source": [
    "def get_player_ids(web_driver: Chrome) -> List[List[str]]:\n",
    "    '''Function to build a List of the players in MLS, with their MLS Soccer fantasy ID as the key, then\n",
    "    a list of their name, and the team the play for as the value.\n",
    "    \n",
    "    The web_driver must be one that is logged into the MLS site, else the stat center can't be accessed.\n",
    "    '''\n",
    "    #player_ids = {}\n",
    "    \n",
    "    player_ids = []\n",
    "    \n",
    "    select_team = Select(web_driver.find_element_by_id('js-filter-squads'))\n",
    "    #select_team.select_by_visible_text(teams[1])\n",
    "    \n",
    "    for team in range(1, 27):\n",
    "        select_team.select_by_visible_text(teams[team])\n",
    "\n",
    "        html = web_driver.page_source\n",
    "        soup = BeautifulSoup(html, 'html.parser')\n",
    "\n",
    "        for tag in soup.select('a.player-name.js-player-modal'):\n",
    "            player_ids.append([tag['data-player_id'],\n",
    "                              ' '.join(tag.text.strip('\\n').split()[:-6]),\n",
    "                              teams[team]])\n",
    "#             player_ids[tag['data-player_id']] = \\\n",
    "#                 [' '.join(tag.text.strip('\\n').split()[:-6]), teams[team]]\n",
    "\n",
    "    return player_ids\n"
   ]
  },
  {
   "cell_type": "code",
   "execution_count": 27,
   "metadata": {},
   "outputs": [],
   "source": [
    "with open('../data/mls_player_ids.csv') as f:\n",
    "    player_ids = f.read().splitlines()"
   ]
  },
  {
   "cell_type": "code",
   "execution_count": null,
   "metadata": {},
   "outputs": [],
   "source": []
  },
  {
   "cell_type": "code",
   "execution_count": null,
   "metadata": {},
   "outputs": [],
   "source": []
  },
  {
   "cell_type": "code",
   "execution_count": 28,
   "metadata": {},
   "outputs": [
    {
     "data": {
      "text/plain": [
       "['231969,E. Barco,Atlanta United FC',\n",
       " '122342,E. Hyndman,Atlanta United FC',\n",
       " '170797,P. Martinez,Atlanta United FC',\n",
       " '57769,F. Meza,Atlanta United FC',\n",
       " '193891,F. Escobar,Atlanta United FC',\n",
       " '41705,B. Guzan,Atlanta United FC',\n",
       " '194102,E. Remedi,Atlanta United FC',\n",
       " '158536,A. Walkes,Atlanta United FC',\n",
       " '201651,J. Mulraney,Atlanta United FC',\n",
       " '178386,B. Lennon,Atlanta United FC',\n",
       " '426797,G. Campbell,Atlanta United FC',\n",
       " '111686,J. Martinez,Atlanta United FC',\n",
       " '152253,A. Jahn,Atlanta United FC',\n",
       " '41551,J. Larentowicz,Atlanta United FC',\n",
       " '200735,M. Adams,Atlanta United FC',\n",
       " '426771,G. Bello,Atlanta United FC',\n",
       " '220142,A. Carleton,Atlanta United FC',\n",
       " '53477,E. Castillo,Atlanta United FC',\n",
       " '169644,M. Castro,Atlanta United FC',\n",
       " '227656,L. Fernando,Atlanta United FC',\n",
       " '234618,J. Gallagher,Atlanta United FC',\n",
       " '156919,A. Kann,Atlanta United FC',\n",
       " '249242,L. Kunga,Atlanta United FC',\n",
       " '205550,B. Moore,Atlanta United FC',\n",
       " '241500,M. Robinson,Atlanta United FC',\n",
       " '221678,M. Rossetto,Atlanta United FC',\n",
       " '423069,J. Williams,Atlanta United FC',\n",
       " '246874,D. Mihailovic,Chicago Fire FC',\n",
       " '55711,R. Beric,Chicago Fire FC',\n",
       " '41700,J. Bornstein,Chicago Fire FC',\n",
       " '165796,A. Medran,Chicago Fire FC',\n",
       " '221475,F. Herbers,Chicago Fire FC',\n",
       " '244766,M. Pineda,Chicago Fire FC',\n",
       " '99122,F. Calvo,Chicago Fire FC',\n",
       " '86898,J. Kappelhof,Chicago Fire FC',\n",
       " '49761,K. Kronholm,Chicago Fire FC',\n",
       " '244988,B. Bronico,Chicago Fire FC',\n",
       " '140040,P. Frankowski,Chicago Fire FC',\n",
       " '163042,M. Azira,Chicago Fire FC',\n",
       " '423237,E. Collier,Chicago Fire FC',\n",
       " '169707,G. Gimenez,Chicago Fire FC',\n",
       " '474800,M. Navarro,Chicago Fire FC',\n",
       " '451375,B. Gutierrez,Chicago Fire FC',\n",
       " '234219,J. Gutjahr,Chicago Fire FC',\n",
       " '438366,A. Monis,Chicago Fire FC',\n",
       " '442451,W. Omsberg,Chicago Fire FC',\n",
       " '426473,A. Reynolds II,Chicago Fire FC',\n",
       " '95321,C. Sapong,Chicago Fire FC',\n",
       " '119644,B. Sekulić,Chicago Fire FC',\n",
       " '77521,B. Shuttleworth,Chicago Fire FC',\n",
       " '471798,G. Slonina,Chicago Fire FC',\n",
       " '426476,N. Slonina,Chicago Fire FC',\n",
       " '220470,C. Sparrow,Chicago Fire FC',\n",
       " '154303,L. Stojanovic,Chicago Fire FC',\n",
       " '164838,Y. Kubo,FC Cincinnati',\n",
       " '106757,J. Locadia,FC Cincinnati',\n",
       " '210473,A. Cruz,FC Cincinnati',\n",
       " '110209,G. Garza,FC Cincinnati',\n",
       " '67158,A. Regattin,FC Cincinnati',\n",
       " '218313,B. Vazquez,FC Cincinnati',\n",
       " '424659,F. Amaya,FC Cincinnati',\n",
       " '89518,M. Deplagne,FC Cincinnati',\n",
       " '111253,J. Gyau,FC Cincinnati',\n",
       " '28188,H. Medunjanin,FC Cincinnati',\n",
       " '56328,M. van der Werff,FC Cincinnati',\n",
       " '193906,K. Waston,FC Cincinnati',\n",
       " '172761,S. Richey,FC Cincinnati',\n",
       " '234214,A. Gutman,FC Cincinnati',\n",
       " '151952,K. Manneh,FC Cincinnati',\n",
       " '202402,S. Abdul-Salaam,FC Cincinnati',\n",
       " '163482,F. Alashe,FC Cincinnati',\n",
       " '223238,Z. Bailey,FC Cincinnati',\n",
       " '423511,R. Dally,FC Cincinnati',\n",
       " '48773,S. de Jong,FC Cincinnati',\n",
       " '502392,B. Edwards,FC Cincinnati',\n",
       " '132113,N. Hagglund,FC Cincinnati',\n",
       " '128117,B. Lundt,FC Cincinnati',\n",
       " '110608,D. Mattocks,FC Cincinnati',\n",
       " '176404,T. McCabe,FC Cincinnati',\n",
       " '102553,J. McLaughlin,FC Cincinnati',\n",
       " '247041,H. Ndam,FC Cincinnati',\n",
       " '243937,R. Ortiz,FC Cincinnati',\n",
       " '111810,T. Pettersson,FC Cincinnati',\n",
       " '164477,C. Stanko,FC Cincinnati',\n",
       " '46374,P. Tyton,FC Cincinnati',\n",
       " '56578,V. Wormgoor,Columbus Crew SC',\n",
       " '227232,Artur,Columbus Crew SC',\n",
       " '66905,J. Mensah,Columbus Crew SC',\n",
       " '52456,E. Room,Columbus Crew SC',\n",
       " '222820,M. Valenzuela,Columbus Crew SC',\n",
       " '117880,L. Zelarayan,Columbus Crew SC',\n",
       " '49483,H. Afful,Columbus Crew SC',\n",
       " '475922,L. Diaz,Columbus Crew SC',\n",
       " '149359,G. Zardes,Columbus Crew SC',\n",
       " '95261,D. Nagbe,Columbus Crew SC',\n",
       " '425248,A. Keita,Columbus Crew SC',\n",
       " '92202,P. Santos,Columbus Crew SC',\n",
       " '106264,Y. Mokhtar,Columbus Crew SC',\n",
       " '95186,F. Adi,Columbus Crew SC',\n",
       " '168261,C. Cadden,Columbus Crew SC',\n",
       " '220752,D. Etienne Jr.,Columbus Crew SC',\n",
       " '426490,S. Berhalter,Columbus Crew SC',\n",
       " '501277,M. Berry,Columbus Crew SC',\n",
       " '121332,W. Francis,Columbus Crew SC',\n",
       " '113002,J. Hamilton,Columbus Crew SC',\n",
       " '94934,H. Jimenez,Columbus Crew SC',\n",
       " '90644,J. Kempin,Columbus Crew SC',\n",
       " '110118,M. Lampson,Columbus Crew SC',\n",
       " '427542,A. Morris,Columbus Crew SC',\n",
       " '202407,A. Sjöberg,Columbus Crew SC',\n",
       " '221400,A. Tarbell,Columbus Crew SC',\n",
       " '94479,J. Williams,Columbus Crew SC',\n",
       " '244997,J. Gressel,D.C. United',\n",
       " '121000,F. Brillant,D.C. United',\n",
       " '159561,Y. Asad,D.C. United',\n",
       " '209819,R. Canouse,D.C. United',\n",
       " '82834,B. Hamid,D.C. United',\n",
       " '56812,F. Martins,D.C. United',\n",
       " '129430,S. Birnbaum,D.C. United',\n",
       " '185442,E. Flores,D.C. United',\n",
       " '202378,O. Fisher,D.C. United',\n",
       " '149231,J. Moreno,D.C. United',\n",
       " '210475,U. Segura,D.C. United',\n",
       " '228846,E. Sorga,D.C. United',\n",
       " '55758,O. Kamara,D.C. United',\n",
       " '205285,J. Mora,D.C. United',\n",
       " '95545,M. Abu,D.C. United',\n",
       " '166921,P. Arriola,D.C. United',\n",
       " '168365,E. Boateng,D.C. United',\n",
       " '130049,E. Edwards Jr.,D.C. United',\n",
       " '47681,F. Higuain,D.C. United',\n",
       " '428218,M. Nyeman,D.C. United',\n",
       " '234432,C. Odoi-Atsem,D.C. United',\n",
       " '468746,K. Paredes,D.C. United',\n",
       " '234404,D. Pines,D.C. United',\n",
       " '41679,C. Seitz,D.C. United',\n",
       " '436107,G. Yow,D.C. United',\n",
       " '132107,R. Pizarro,Inter Miami CF',\n",
       " '168499,L. Morgan,Inter Miami CF',\n",
       " '446681,A. Reyes,Inter Miami CF',\n",
       " '153264,A. Powell,Inter Miami CF',\n",
       " '163529,B. Sweat,Inter Miami CF',\n",
       " '41210,L. Robles,Inter Miami CF',\n",
       " '95280,V. Ulloa,Inter Miami CF',\n",
       " '480287,D. Nealis,Inter Miami CF',\n",
       " '250760,R. Robinson,Inter Miami CF',\n",
       " '169746,N. Figal,Inter Miami CF',\n",
       " '148995,W. Trapp,Inter Miami CF',\n",
       " '455023,M. Pellegrini,Inter Miami CF',\n",
       " '34160,R. Torres,Inter Miami CF',\n",
       " '232114,C. Makoun,Inter Miami CF',\n",
       " '28580,L. Nguyen,Inter Miami CF',\n",
       " '83905,J. Agudelo,Inter Miami CF',\n",
       " '215472,G. Acosta,Inter Miami CF',\n",
       " '135297,M. Ambrose,Inter Miami CF',\n",
       " '422981,L. Argudo,Inter Miami CF',\n",
       " '497622,D. Callender,Inter Miami CF',\n",
       " '433778,J. Carranza,Inter Miami CF',\n",
       " '112998,J. Chapman,Inter Miami CF',\n",
       " '60214,A. DeLaGarza,Inter Miami CF',\n",
       " '118780,J. Kiesewetter,Inter Miami CF',\n",
       " '234193,G. Lillard,Inter Miami CF',\n",
       " '163565,J. McCarthy,Inter Miami CF',\n",
       " '248073,D. Ulysse,Inter Miami CF',\n",
       " '97607,M. Urruti,Montreal Impact',\n",
       " '82752,S. Taider,Montreal Impact',\n",
       " '119575,R. Quioto,Montreal Impact',\n",
       " '218350,O. Okwonkwo,Montreal Impact',\n",
       " '248981,L. Binks,Montreal Impact',\n",
       " '13356,R. Fanni,Montreal Impact',\n",
       " '182906,S. Piette,Montreal Impact',\n",
       " '228147,J. Waterman,Montreal Impact',\n",
       " '102626,C. Diop,Montreal Impact',\n",
       " '248398,Z. Brault-Guillard,Montreal Impact',\n",
       " '117330,J. Corrales,Montreal Impact',\n",
       " '40276,Bojan,Montreal Impact',\n",
       " '184610,A. Jackson-Hamel,Montreal Impact',\n",
       " '193194,L. Lappalainen,Montreal Impact',\n",
       " '234410,A. Sejdic,Montreal Impact',\n",
       " '225062,S. Shome,Montreal Impact',\n",
       " '425622,C. Bayiha,Montreal Impact',\n",
       " '109275,E. Bush,Montreal Impact',\n",
       " '89080,R. Camacho,Montreal Impact',\n",
       " '425625,M. Choiniere,Montreal Impact',\n",
       " '443720,E. Maciel,Montreal Impact',\n",
       " '225053,J. Pantemis,Montreal Impact',\n",
       " '62535,J. Raitala,Montreal Impact',\n",
       " '451451,S. Saba,Montreal Impact',\n",
       " '427379,J. Sirois,Montreal Impact',\n",
       " '225063,B. Tabla,Montreal Impact',\n",
       " '54756,V. Wanyama,Montreal Impact',\n",
       " '427386,K. Yao,Montreal Impact',\n",
       " '55110,G. Bou,New England Revolution',\n",
       " '186734,A. Buksa,New England Revolution',\n",
       " '442431,B. Bye,New England Revolution',\n",
       " '41556,B. Knighton,New England Revolution',\n",
       " '82524,T. Bunbury,New England Revolution',\n",
       " '151940,A. Farrell,New England Revolution',\n",
       " '153082,C. Penilla,New England Revolution',\n",
       " '95284,D. Fagundez,New England Revolution',\n",
       " '234675,D. Jones,New England Revolution',\n",
       " '425341,H. Kessler,New England Revolution',\n",
       " '105713,W. Zahibo,New England Revolution',\n",
       " '224068,M. Turner,New England Revolution',\n",
       " '424622,T. Buchanan,New England Revolution',\n",
       " '151955,S. Caldwell,New England Revolution',\n",
       " '28565,M. Mancienne,New England Revolution',\n",
       " '220150,J. Rennicks,New England Revolution',\n",
       " '223234,I. Angking,New England Revolution',\n",
       " '50004,A. Buttner,New England Revolution',\n",
       " '219527,L. Caicedo,New England Revolution',\n",
       " '209818,J. Caldwell,New England Revolution',\n",
       " '67704,A. Delamea,New England Revolution',\n",
       " '224546,N. Firmino,New England Revolution',\n",
       " '88554,C. Gil,New England Revolution',\n",
       " '429039,D. Rivera,New England Revolution',\n",
       " '110619,K. Rowe,New England Revolution',\n",
       " '82526,S. Sinovic,New England Revolution',\n",
       " '88909,A. Ring,New York City FC',\n",
       " '159710,A. Callens,New York City FC',\n",
       " '78013,S. Johnson,New York City FC',\n",
       " '180593,R. Matarrita,New York City FC',\n",
       " '215471,J. Sands,New York City FC',\n",
       " '55831,M. Moralez,New York City FC',\n",
       " '131371,S. Ibeagha,New York City FC',\n",
       " '120621,A. Mitrita,New York City FC',\n",
       " '66284,A. Tinnerholm,New York City FC',\n",
       " '167227,J. Medina,New York City FC',\n",
       " '244299,K. Parks,New York City FC',\n",
       " '100819,Heber,New York City FC',\n",
       " '247670,V. Castellanos,New York City FC',\n",
       " '43194,G. Mackay-Steven,New York City FC',\n",
       " '153390,I. Tajouri-Shradi,New York City FC',\n",
       " '473219,N. Acevedo,New York City FC',\n",
       " '234311,L. Barraza,New York City FC',\n",
       " '436014,T. Gray,New York City FC',\n",
       " '427396,J. Haak,New York City FC',\n",
       " '212020,T. Rocha,New York City FC',\n",
       " '427426,J. Scally,New York City FC',\n",
       " '151939,B. Stuver,New York City FC',\n",
       " '83510,G. Thórarinsson,New York City FC',\n",
       " '424432,J. Torres,New York City FC',\n",
       " '57876,M. Chanot,New York City FC',\n",
       " '244899,K. Duncan,New York Red Bulls',\n",
       " '240899,F. Valot,New York Red Bulls',\n",
       " '446090,C. Casseres Jr.,New York Red Bulls',\n",
       " '84752,D. Royer,New York Red Bulls',\n",
       " '170782,Kaku,New York Red Bulls',\n",
       " '131372,S. Davis,New York Red Bulls',\n",
       " '68720,D. Jensen,New York Red Bulls',\n",
       " '212993,A. Tarek,New York Red Bulls',\n",
       " '202356,T. Parker,New York Red Bulls',\n",
       " '234317,P. Seagrist,New York Red Bulls',\n",
       " '443604,B. White,New York Red Bulls',\n",
       " '234346,T. Barlow,New York Red Bulls',\n",
       " '84760,M. Rzatkowksi,New York Red Bulls',\n",
       " '153379,J. Sims,New York Red Bulls',\n",
       " '155517,M. Egbo,New York Red Bulls',\n",
       " '204254,O. Fernandez,New York Red Bulls',\n",
       " '447810,M. Jorgensen,New York Red Bulls',\n",
       " '226389,C. Lema,New York Red Bulls',\n",
       " '163541,A. Long,New York Red Bulls',\n",
       " '164479,K. McIntosh,New York Red Bulls',\n",
       " '110609,R. Meara,New York Red Bulls',\n",
       " '204261,B. Mines,New York Red Bulls',\n",
       " '220753,A. Muyl,New York Red Bulls',\n",
       " '477535,S. Nealis,New York Red Bulls',\n",
       " '234050,J. Stroud,New York Red Bulls',\n",
       " '427582,J. Tolkin,New York Red Bulls',\n",
       " '85601,R. Jansson,Orlando City SC',\n",
       " '194730,J. Mendez,Orlando City SC',\n",
       " '443002,J. Moutinho,Orlando City SC',\n",
       " '116400,A. Cunha Capocasali Júnior,Orlando City SC',\n",
       " '234345,C. Mueller,Orlando City SC',\n",
       " '106916,O. de Almeida Junior,Orlando City SC',\n",
       " '174577,P. Gallese,Orlando City SC',\n",
       " '246099,Ruan,Orlando City SC',\n",
       " '429548,A. Perea,Orlando City SC',\n",
       " '421184,R. Schlegel,Orlando City SC',\n",
       " '227733,K. Smith,Orlando City SC',\n",
       " '78103,M. Pereyra,Orlando City SC',\n",
       " '177947,T. Akindele,Orlando City SC',\n",
       " '451038,B. Michel,Orlando City SC',\n",
       " '183764,Robinho,Orlando City SC',\n",
       " '474169,S. Patiño,Orlando City SC',\n",
       " '38530,Nani,Orlando City SC',\n",
       " '427488,J. Bender,Orlando City SC',\n",
       " '217788,J. Colman,Orlando City SC',\n",
       " '152281,A. De John,Orlando City SC',\n",
       " '201396,J. DeZart,Orlando City SC',\n",
       " '479770,D. Dike,Orlando City SC',\n",
       " '60318,D. Dwyer,Orlando City SC',\n",
       " '244347,D. Loera,Orlando City SC',\n",
       " '248399,K. Miller,Orlando City SC',\n",
       " '102456,O. Rosell,Orlando City SC',\n",
       " '110620,B. Rowe,Orlando City SC',\n",
       " '219510,M. Stajduhar,Orlando City SC',\n",
       " '427637,B. Aaronson,Philadelphia Union',\n",
       " '201125,S. Santos,Philadelphia Union',\n",
       " '217119,J. Monteiro,Philadelphia Union',\n",
       " '223964,J. Glesnes,Philadelphia Union',\n",
       " '163906,A. Blake,Philadelphia Union',\n",
       " '110575,W. Creavalle,Philadelphia Union',\n",
       " '61770,A. Bedoya,Philadelphia Union',\n",
       " '477965,J. Martinez,Philadelphia Union',\n",
       " '201401,M. McKenzie,Philadelphia Union',\n",
       " '107091,K. Przybylko,Philadelphia Union',\n",
       " '201405,M. Real,Philadelphia Union',\n",
       " '110974,R. Gaddis,Philadelphia Union',\n",
       " '245012,J. Elliott,Philadelphia Union',\n",
       " '45120,Ilsinho,Philadelphia Union',\n",
       " '201397,A. Fontana,Philadelphia Union',\n",
       " '95611,J. Bendik,Philadelphia Union',\n",
       " '227123,C. Burke,Philadelphia Union',\n",
       " '45959,A. Collin,Philadelphia Union',\n",
       " '436362,J. de Vries,Philadelphia Union',\n",
       " '247671,M. Freese,Philadelphia Union',\n",
       " '446568,O. Mbaizo,Philadelphia Union',\n",
       " '449686,M. Ngalina,Philadelphia Union',\n",
       " '228538,M. Oravec,Philadelphia Union',\n",
       " '436374,C. Turner,Philadelphia Union',\n",
       " '428338,K. Wagner,Philadelphia Union',\n",
       " '112973,A. Wooten,Philadelphia Union',\n",
       " '480272,I. Achara,Toronto FC',\n",
       " '89238,A. Pozuelo,Toronto FC',\n",
       " '68259,C. Mavinga,Toronto FC',\n",
       " '83065,J. Morrow,Toronto FC',\n",
       " '37975,Q. Westberg,Toronto FC',\n",
       " '60218,O. Gonzalez,Toronto FC',\n",
       " '114579,M. Delgado,Toronto FC',\n",
       " '41574,J. Altidore,Toronto FC',\n",
       " '172981,Auro,Toronto FC',\n",
       " '135300,T. Endoh,Toronto FC',\n",
       " '221403,R. Laryea,Toronto FC',\n",
       " '153647,J. Osorio,Toronto FC',\n",
       " '204556,E. Gallardo,Toronto FC',\n",
       " '225061,L. Fraser,Toronto FC',\n",
       " '116661,P. Mullins,Toronto FC',\n",
       " '477838,J. Shaffelburg,Toronto FC',\n",
       " '215474,A. Akinola,Toronto FC',\n",
       " '163484,A. Bono,Toronto FC',\n",
       " '37368,M. Bradley,Toronto FC',\n",
       " '42584,L. Ciman,Toronto FC',\n",
       " '110580,N. DeLeon,Toronto FC',\n",
       " '424474,G. Dorsey,Toronto FC',\n",
       " '421818,J. Dunn,Toronto FC',\n",
       " '475879,J. Marshall-Rutty,Toronto FC',\n",
       " '433028,J. Nelson,Toronto FC',\n",
       " '421819,N. Okello,Toronto FC',\n",
       " '51271,P. Piatti,Toronto FC',\n",
       " '224750,R. Romeo,Toronto FC',\n",
       " '151949,E. Zavaleta,Toronto FC',\n",
       " '114041,J. Price,Colorado Rapids',\n",
       " '41627,D. Moor,Colorado Rapids',\n",
       " '127541,K. Rosenberry,Colorado Rapids',\n",
       " '41493,K. Kamara,Colorado Rapids',\n",
       " '202127,Y. Namli,Colorado Rapids',\n",
       " '118738,C. Irwin,Colorado Rapids',\n",
       " '244927,L. Abubakar,Colorado Rapids',\n",
       " '213295,J. Lewis,Colorado Rapids',\n",
       " '224823,S. Vines,Colorado Rapids',\n",
       " '149528,K. Acosta,Colorado Rapids',\n",
       " '132134,S. Nicholson,Colorado Rapids',\n",
       " '102208,D. Rubio,Colorado Rapids',\n",
       " '234297,A. Shinyashiki,Colorado Rapids',\n",
       " '87984,N. Mezquida,Colorado Rapids',\n",
       " '426582,S. Anderson,Colorado Rapids',\n",
       " '424488,C. Bassett,Colorado Rapids',\n",
       " '89038,N. Benezet,Colorado Rapids',\n",
       " '234251,K. Ford,Colorado Rapids',\n",
       " '250677,M. Hundley,Colorado Rapids',\n",
       " '249537,N. Jackson,Colorado Rapids',\n",
       " '224029,A. Rawls,Colorado Rapids',\n",
       " '442252,A. Rodriguez,Colorado Rapids',\n",
       " '219603,A. Rwatubyaye,Colorado Rapids',\n",
       " '201410,A. Trusty,Colorado Rapids',\n",
       " '461523,W. Vint,Colorado Rapids',\n",
       " '60490,D. Wilson,Colorado Rapids',\n",
       " '210151,D. Wynne,Colorado Rapids',\n",
       " '119585,W. Yarbrough,Colorado Rapids',\n",
       " '69168,Z. Ondrasek,FC Dallas',\n",
       " '245035,R. Cannon,FC Dallas',\n",
       " '110592,M. Hedges,FC Dallas',\n",
       " '130056,R. Hollingshead,FC Dallas',\n",
       " '177653,M. Barrios,FC Dallas',\n",
       " '178163,T. Santos,FC Dallas',\n",
       " '18529,R. Ziegler,FC Dallas',\n",
       " '157489,J. Gonzalez,FC Dallas',\n",
       " '426634,F. Tessmann,FC Dallas',\n",
       " '224372,J. Ferreira,FC Dallas',\n",
       " '439742,R. Pepi,FC Dallas',\n",
       " '196762,F. Picault,FC Dallas',\n",
       " '224377,P. Pomykal,FC Dallas',\n",
       " '152589,M. Bressanelli,FC Dallas',\n",
       " '225030,S. Mosquera,FC Dallas',\n",
       " '193611,B. Acosta,FC Dallas',\n",
       " '201913,P. Aranguiz,FC Dallas',\n",
       " '234384,F. Atuahene,FC Dallas',\n",
       " '501651,N. Burgess,FC Dallas',\n",
       " '426592,E. Cerrillo,FC Dallas',\n",
       " '95778,J. Maurer,FC Dallas',\n",
       " '474180,C. Montgomery,FC Dallas',\n",
       " '249192,E. Munjoma,FC Dallas',\n",
       " '200784,J. Nelson,FC Dallas',\n",
       " '223353,B. Reynolds,FC Dallas',\n",
       " '426630,T. Roberts,FC Dallas',\n",
       " '437110,D. Sealy,FC Dallas',\n",
       " '224382,B. Servania,FC Dallas',\n",
       " '443009,E. Twumasi,FC Dallas',\n",
       " '152268,K. Zobeck,FC Dallas',\n",
       " '177658,M. Manotas,Houston Dynamo',\n",
       " '95236,Z. Valentin,Houston Dynamo',\n",
       " '208424,M. Vera,Houston Dynamo',\n",
       " '34285,M. Figueroa,Houston Dynamo',\n",
       " '55209,B. Garcia,Houston Dynamo',\n",
       " '152655,M. Maric,Houston Dynamo',\n",
       " '153399,T. Martinez,Houston Dynamo',\n",
       " '198884,M. Rodriguez,Houston Dynamo',\n",
       " '67502,A. Struna,Houston Dynamo',\n",
       " '170945,A. Lundkvist,Houston Dynamo',\n",
       " '177930,T. McNamara,Houston Dynamo',\n",
       " '117549,D. Ceren,Houston Dynamo',\n",
       " '244998,N. Hansen,Houston Dynamo',\n",
       " '59403,C. Quintero,Houston Dynamo',\n",
       " '163397,C. Ramirez,Houston Dynamo',\n",
       " '446613,K. Adams,Houston Dynamo',\n",
       " '185317,J. Bizama,Houston Dynamo',\n",
       " '179846,V. Cabrera,Houston Dynamo',\n",
       " '101135,C. Cropper,Houston Dynamo',\n",
       " '173145,A. Elis,Houston Dynamo',\n",
       " '196287,A. Fuenmayor,Houston Dynamo',\n",
       " '423492,S. Junqua,Houston Dynamo',\n",
       " '427839,E. McCue,Houston Dynamo',\n",
       " '442466,M. Nelson,Houston Dynamo',\n",
       " '223352,M. Palomino,Houston Dynamo',\n",
       " '178799,R. Peña,Houston Dynamo',\n",
       " '165096,M. Salazar,Houston Dynamo',\n",
       " '94932,D. Bingham,LA Galaxy',\n",
       " '173220,C. Pavon,LA Galaxy',\n",
       " '172518,N. DePuy,LA Galaxy',\n",
       " '105021,G. Gonzalez,LA Galaxy',\n",
       " '40615,E. Insua,LA Galaxy',\n",
       " '95277,P. Kitchen,LA Galaxy',\n",
       " '41703,S. Kljestan,LA Galaxy',\n",
       " '44871,R. Feltscher,LA Galaxy',\n",
       " '43020,Chicharito,LA Galaxy',\n",
       " '88534,S. Lletget,LA Galaxy',\n",
       " '102407,J. Corona,LA Galaxy',\n",
       " '474153,E. Cuello,LA Galaxy',\n",
       " '76688,J. dos Santos,LA Galaxy',\n",
       " '83055,A. Katai,LA Galaxy',\n",
       " '243943,E. Zubak,LA Galaxy',\n",
       " '220877,D. Acosta,LA Galaxy',\n",
       " '224430,E. Alvarez,LA Galaxy',\n",
       " '436893,J. Araujo,LA Galaxy',\n",
       " '437030,C. Dunbar,LA Galaxy',\n",
       " '218314,E. Lopez,LA Galaxy',\n",
       " '468034,J. Perez,LA Galaxy',\n",
       " '63800,J. Skjelvik,LA Galaxy',\n",
       " '111473,D. Steres,LA Galaxy',\n",
       " '433843,D. Traore,LA Galaxy',\n",
       " '234585,J. Vom Steeg,LA Galaxy',\n",
       " '226917,G. Wild,LA Galaxy',\n",
       " '246283,E. Segura,Los Angeles FC',\n",
       " '38401,C. Vela,Los Angeles FC',\n",
       " '41599,J. Harvey,Los Angeles FC',\n",
       " '245764,L. Blessing,Los Angeles FC',\n",
       " '60536,D. Jakovic,Los Angeles FC',\n",
       " '223256,D. Rossi,Los Angeles FC',\n",
       " '26808,K. Vermeer,Los Angeles FC',\n",
       " '423123,T. Blackmon,Los Angeles FC',\n",
       " '227731,M. Kaye,Los Angeles FC',\n",
       " '445236,D. Palacios,Los Angeles FC',\n",
       " '447202,B. Rodriguez,Los Angeles FC',\n",
       " '232274,E. Atuesta,Los Angeles FC',\n",
       " '444115,F. Ginella,Los Angeles FC',\n",
       " '231101,J. Cifuentes,Los Angeles FC',\n",
       " '427196,B. Duke,Los Angeles FC',\n",
       " '110954,M. El-Munir,Los Angeles FC',\n",
       " '61126,D. da Silva,Los Angeles FC',\n",
       " '111847,A. Diomande,Los Angeles FC',\n",
       " '447557,P. Ejimadu,Los Angeles FC',\n",
       " '149779,A. Guido,Los Angeles FC',\n",
       " '423551,D. Musovski,Los Angeles FC',\n",
       " '451489,A. Perez,Los Angeles FC',\n",
       " '201168,P. Sisniega,Los Angeles FC',\n",
       " '18770,B. Wright-Phillips,Los Angeles FC',\n",
       " '81185,J. Gregus,Minnesota United FC',\n",
       " '78023,I. Opara,Minnesota United FC',\n",
       " '77952,K. Molino,Minnesota United FC',\n",
       " '172345,L. Amarilla,Minnesota United FC',\n",
       " '110583,E. Finlay,Minnesota United FC',\n",
       " '108839,R. Lod,Minnesota United FC',\n",
       " '95330,M. Boxall,Minnesota United FC',\n",
       " '60244,O. Alonso,Minnesota United FC',\n",
       " '202361,T. Miller,Minnesota United FC',\n",
       " '198923,C. Gasper,Minnesota United FC',\n",
       " '474163,H. Dotson,Minnesota United FC',\n",
       " '228605,R. Edwards,Minnesota United FC',\n",
       " '85595,R. Metanire,Minnesota United FC',\n",
       " '111531,A. Schoenfeld,Minnesota United FC',\n",
       " '201031,J. Aja,Minnesota United FC',\n",
       " '210154,N. Billingsley,Minnesota United FC',\n",
       " '445140,T. Chacon,Minnesota United FC',\n",
       " '496989,F. Emmings,Minnesota United FC',\n",
       " '177954,M. Hairston,Minnesota United FC',\n",
       " '226309,J. Hayes,Minnesota United FC',\n",
       " '153089,R. Ibarra,Minnesota United FC',\n",
       " '186250,B. Kallman,Minnesota United FC',\n",
       " '119491,J. Musa,Minnesota United FC',\n",
       " '211539,G. Ranjitsingh,Minnesota United FC',\n",
       " '234433,D. St. Clair,Minnesota United FC',\n",
       " '249164,M. Toye,Minnesota United FC',\n",
       " '151933,W. Zimmerman,Nashville SC',\n",
       " '99117,A. Godoy,Nashville SC',\n",
       " '41626,D. McCarty,Nashville SC',\n",
       " '119089,H. Mukhtar,Nashville SC',\n",
       " '213665,R. Leal,Nashville SC',\n",
       " '126174,D. Accam,Nashville SC',\n",
       " '202376,D. Badji,Nashville SC',\n",
       " '177928,D. Lovitz,Nashville SC',\n",
       " '213213,D. Romney,Nashville SC',\n",
       " '95309,J. Willis,Nashville SC',\n",
       " '164480,E. Miller,Nashville SC',\n",
       " '202195,A. Danladi,Nashville SC',\n",
       " '169013,J. Medranda,Nashville SC',\n",
       " '204328,D. Rios,Nashville SC',\n",
       " '442474,A. Winn,Nashville SC',\n",
       " '95228,J. Anibaba,Nashville SC',\n",
       " '243891,T. Anunga,Nashville SC',\n",
       " '99336,B. Beckeles,Nashville SC',\n",
       " '200790,T. Dieterich,Nashville SC',\n",
       " '501915,L. Haakenson,Nashville SC',\n",
       " '479525,A. Johnston,Nashville SC',\n",
       " '230802,D. Jones,Nashville SC',\n",
       " '244385,M. LaGrassa,Nashville SC',\n",
       " '95703,C. Lancaster,Nashville SC',\n",
       " '421186,J. Maher,Nashville SC',\n",
       " '249886,M. Nazarit,Nashville SC',\n",
       " '500181,E. Panicco,Nashville SC',\n",
       " '163074,K. Tribbett,Nashville SC',\n",
       " '221255,T. Washington,Nashville SC',\n",
       " '213875,A. Zendejas,Nashville SC',\n",
       " '179298,A. Polo,Portland Timbers',\n",
       " '131840,C. Duvall,Portland Timbers',\n",
       " '55817,D. Valeri,Portland Timbers',\n",
       " '85417,D. Zuparic,Portland Timbers',\n",
       " '111806,S. Clark,Portland Timbers',\n",
       " '41004,L. Mabiala,Portland Timbers',\n",
       " '45092,J. Villafaña,Portland Timbers',\n",
       " '55820,S. Blanco,Portland Timbers',\n",
       " '96622,D. Chara,Portland Timbers',\n",
       " '148712,Y. Chara,Portland Timbers',\n",
       " '137415,F. Mora,Portland Timbers',\n",
       " '217784,C. Paredes,Portland Timbers',\n",
       " '149675,D. Asprilla,Portland Timbers',\n",
       " '235290,J. Ebobisse,Portland Timbers',\n",
       " '78116,J. Moreira,Portland Timbers',\n",
       " '234420,E. Williamson,Portland Timbers',\n",
       " '94305,J. Attinella,Portland Timbers',\n",
       " '243957,B. Bodily,Portland Timbers',\n",
       " '181958,J. Cascante,Portland Timbers',\n",
       " '218552,T. Conechny,Portland Timbers',\n",
       " '242130,M. Farfan,Portland Timbers',\n",
       " '98925,A. Flores,Portland Timbers',\n",
       " '151534,A. Ivacic,Portland Timbers',\n",
       " '247622,M. Loria,Portland Timbers',\n",
       " '221401,J. Niezgoda,Portland Timbers',\n",
       " '175077,B. Tuiloma,Portland Timbers',\n",
       " '196824,R. Zambrano,Portland Timbers',\n",
       " '248022,A. Herrera,Real Salt Lake',\n",
       " '19053,N. Onuoha,Real Salt Lake',\n",
       " '183390,J. Glad,Real Salt Lake',\n",
       " '95276,Z. MacMath,Real Salt Lake',\n",
       " '77994,M. Silva,Real Salt Lake',\n",
       " '96201,D. Toia,Real Salt Lake',\n",
       " '68431,D. Kreilach,Real Salt Lake',\n",
       " '84481,A. Rusnak,Real Salt Lake',\n",
       " '120608,Everton Luiz,Real Salt Lake',\n",
       " '177984,J. Portillo,Real Salt Lake',\n",
       " '202198,N. Besler,Real Salt Lake',\n",
       " '197422,C. Baird,Real Salt Lake',\n",
       " '94368,J. Meram,Real Salt Lake',\n",
       " '423559,T. Schmitt,Real Salt Lake',\n",
       " '444223,J. Ramirez,Real Salt Lake',\n",
       " '18222,G. Rossi,Real Salt Lake',\n",
       " '223355,L. Arriaga,Real Salt Lake',\n",
       " '15517,K. Beckerman,Real Salt Lake',\n",
       " '163046,M. Chang,Real Salt Lake',\n",
       " '468819,C. Garcia,Real Salt Lake',\n",
       " '244897,E. Holt,Real Salt Lake',\n",
       " '425948,M. Iloski,Real Salt Lake',\n",
       " '198270,S. Johnson,Real Salt Lake',\n",
       " '169246,A. Jones,Real Salt Lake',\n",
       " '248436,D. Martinez,Real Salt Lake',\n",
       " '95630,A. Morgan,Real Salt Lake',\n",
       " '153453,L. Mulholland,Real Salt Lake',\n",
       " '250679,D. Ochoa,Real Salt Lake',\n",
       " '234586,A. Putna,Real Salt Lake',\n",
       " '218539,P. Ruiz,Real Salt Lake',\n",
       " '427221,J. Vazquez,Real Salt Lake',\n",
       " '60862,O. Alanis,San Jose Earthquakes',\n",
       " '88940,Vako,San Jose Earthquakes',\n",
       " '170799,C. Espinoza,San Jose Earthquakes',\n",
       " '55111,A. Rios,San Jose Earthquakes',\n",
       " '66553,M. Eriksson,San Jose Earthquakes',\n",
       " '55024,D. Vega,San Jose Earthquakes',\n",
       " '178211,T. Thompson,San Jose Earthquakes',\n",
       " '245628,J. Yueill,San Jose Earthquakes',\n",
       " '57304,G. Kashia,San Jose Earthquakes',\n",
       " '54980,D. Hoesen,San Jose Earthquakes',\n",
       " '467478,C. Cowell,San Jose Earthquakes',\n",
       " '102224,C. Fierro,San Jose Earthquakes',\n",
       " '174109,N. Lima,San Jose Earthquakes',\n",
       " '50081,S. Salinas,San Jose Earthquakes',\n",
       " '41647,C. Wondolowski,San Jose Earthquakes',\n",
       " '426106,J. Akanyirige,San Jose Earthquakes',\n",
       " '501094,T. Beason,San Jose Earthquakes',\n",
       " '173614,M. Bersano,San Jose Earthquakes',\n",
       " '200786,E. Calvillo,San Jose Earthquakes',\n",
       " '223215,L. Felipe,San Jose Earthquakes',\n",
       " '426120,G. Fuentes,San Jose Earthquakes',\n",
       " '451044,S. Haji,San Jose Earthquakes',\n",
       " '51937,F. Jungwirth,San Jose Earthquakes',\n",
       " '226025,M. Lopez,San Jose Earthquakes',\n",
       " '226384,J. Marcinkowski,San Jose Earthquakes',\n",
       " '423062,P. Marie,San Jose Earthquakes',\n",
       " '497501,E. Ochoa,San Jose Earthquakes',\n",
       " '176907,J. Silva Tavares,San Jose Earthquakes',\n",
       " '468995,C. Walls,San Jose Earthquakes',\n",
       " '172483,J. Morris,Seattle Sounders FC',\n",
       " '102545,J. Paulo,Seattle Sounders FC',\n",
       " '172762,C. Roldan,Seattle Sounders FC',\n",
       " '98899,R. Ruidiaz,Seattle Sounders FC',\n",
       " '185826,X. Arreaga,Seattle Sounders FC',\n",
       " '58634,K. Leerdam,Seattle Sounders FC',\n",
       " '191755,Y. Gomez Andrade,Seattle Sounders FC',\n",
       " \"118230,S. O'Neill,Seattle Sounders FC\",\n",
       " '51774,G. Svensson,Seattle Sounders FC',\n",
       " '60238,S. Frei,Seattle Sounders FC',\n",
       " '165072,J. Delem,Seattle Sounders FC',\n",
       " '111114,J. Jones,Seattle Sounders FC',\n",
       " '177976,H. Shipp,Seattle Sounders FC',\n",
       " '212029,J. Dhillon,Seattle Sounders FC',\n",
       " '440251,D. Leyva,Seattle Sounders FC',\n",
       " '244410,N. Tolo,Seattle Sounders FC',\n",
       " '95272,W. Bruin,Seattle Sounders FC',\n",
       " '243974,H. Bwana,Seattle Sounders FC',\n",
       " '245017,S. Cleveland,Seattle Sounders FC',\n",
       " '110596,M. Ibarra,Seattle Sounders FC',\n",
       " '77992,N. Lodeiro,Seattle Sounders FC',\n",
       " '224642,T. Muse,Seattle Sounders FC',\n",
       " '429428,A. Ocampo-Chavez,Seattle Sounders FC',\n",
       " '423568,A. Roldan,Seattle Sounders FC',\n",
       " '104964,G. Kinda,Sporting Kansas City',\n",
       " '100987,A. Pulido,Sporting Kansas City',\n",
       " '107617,L. Martins,Sporting Kansas City',\n",
       " '68491,R. Puncec,Sporting Kansas City',\n",
       " '200192,K. Shelton,Sporting Kansas City',\n",
       " '60207,M. Besler,Sporting Kansas City',\n",
       " '50105,R. Espinoza,Sporting Kansas City',\n",
       " '60210,G. Zusi,Sporting Kansas City',\n",
       " '86938,T. Melia,Sporting Kansas City',\n",
       " '42453,J. Russell,Sporting Kansas City',\n",
       " '86155,Ilie,Sporting Kansas City',\n",
       " '151953,E. Hurtado,Sporting Kansas City',\n",
       " '109320,Gerso,Sporting Kansas City',\n",
       " '427168,G. Busio,Sporting Kansas City',\n",
       " '85790,B. Barath,Sporting Kansas City',\n",
       " '204950,A. Dia,Sporting Kansas City',\n",
       " '423406,E. Dick,Sporting Kansas City',\n",
       " '224651,C. Duke,Sporting Kansas City',\n",
       " '61559,A. Fontas,Sporting Kansas City',\n",
       " '439940,T. Freeman,Sporting Kansas City',\n",
       " '83725,F. Gutierrez,Sporting Kansas City',\n",
       " '247682,F. Hernandez,Sporting Kansas City',\n",
       " '220205,J. Lindsey,Sporting Kansas City',\n",
       " '426496,J. Pulskamp,Sporting Kansas City',\n",
       " '48717,W. Reid,Sporting Kansas City',\n",
       " '213866,D. Salloi,Sporting Kansas City',\n",
       " '95298,R. Sanchez,Sporting Kansas City',\n",
       " '200190,G. Smith,Sporting Kansas City',\n",
       " '249958,Kuzain,Sporting Kansas City',\n",
       " '245005,J. Nerwinski,Vancouver Whitecaps FC',\n",
       " '192098,J. Bikel,Vancouver Whitecaps FC',\n",
       " '467743,J. Khmiri,Vancouver Whitecaps FC',\n",
       " '153706,A. Adnan,Vancouver Whitecaps FC',\n",
       " '110618,A. Rose,Vancouver Whitecaps FC',\n",
       " '455605,I. Hwang,Vancouver Whitecaps FC',\n",
       " '203718,D. Milinkovic,Vancouver Whitecaps FC',\n",
       " '62839,T. Ricketts,Vancouver Whitecaps FC',\n",
       " '92437,R. Teibert,Vancouver Whitecaps FC',\n",
       " '153575,M. Crépeau,Vancouver Whitecaps FC',\n",
       " '479760,R. Raposo,Vancouver Whitecaps FC',\n",
       " '213563,C. Dajome,Vancouver Whitecaps FC',\n",
       " '156787,Y. Reyna,Vancouver Whitecaps FC',\n",
       " '124567,L. Cavallini,Vancouver Whitecaps FC',\n",
       " '57252,F. Montero,Vancouver Whitecaps FC',\n",
       " '463568,L. Owusu,Vancouver Whitecaps FC',\n",
       " '421350,T. Bair,Vancouver Whitecaps FC',\n",
       " '244407,M. Baldisimo,Vancouver Whitecaps FC',\n",
       " '437693,S. Colyn,Vancouver Whitecaps FC',\n",
       " '228760,D. Cornelius,Vancouver Whitecaps FC',\n",
       " '438073,G. Facchineri,Vancouver Whitecaps FC',\n",
       " '122836,E. Godoy,Vancouver Whitecaps FC',\n",
       " '213100,C. Gutierrez,Vancouver Whitecaps FC',\n",
       " '248397,T. Hasal,Vancouver Whitecaps FC',\n",
       " '107672,B. Meredith,Vancouver Whitecaps FC',\n",
       " '421351,P. Metcalfe,Vancouver Whitecaps FC',\n",
       " '424258,G. Mukumbilwa,Vancouver Whitecaps FC',\n",
       " '437697,D. Pecile,Vancouver Whitecaps FC',\n",
       " '450421,R. Veselinovic,Vancouver Whitecaps FC']"
      ]
     },
     "execution_count": 28,
     "metadata": {},
     "output_type": "execute_result"
    }
   ],
   "source": [
    "player_ids"
   ]
  },
  {
   "cell_type": "code",
   "execution_count": 29,
   "metadata": {},
   "outputs": [
    {
     "data": {
      "text/plain": [
       "712"
      ]
     },
     "execution_count": 29,
     "metadata": {},
     "output_type": "execute_result"
    }
   ],
   "source": [
    "len(player_ids)"
   ]
  },
  {
   "cell_type": "code",
   "execution_count": 31,
   "metadata": {},
   "outputs": [
    {
     "data": {
      "text/plain": [
       "'34160,R. Torres,Inter Miami CF'"
      ]
     },
     "execution_count": 31,
     "metadata": {},
     "output_type": "execute_result"
    }
   ],
   "source": [
    "player_ids[149]"
   ]
  },
  {
   "cell_type": "code",
   "execution_count": null,
   "metadata": {},
   "outputs": [],
   "source": []
  },
  {
   "cell_type": "code",
   "execution_count": 18,
   "metadata": {},
   "outputs": [],
   "source": [
    "mls_players = pd.read_csv('../data/mls_player_ids.csv', names=['id', 'player', 'team'])"
   ]
  },
  {
   "cell_type": "code",
   "execution_count": 21,
   "metadata": {},
   "outputs": [
    {
     "data": {
      "text/html": [
       "<div>\n",
       "<style scoped>\n",
       "    .dataframe tbody tr th:only-of-type {\n",
       "        vertical-align: middle;\n",
       "    }\n",
       "\n",
       "    .dataframe tbody tr th {\n",
       "        vertical-align: top;\n",
       "    }\n",
       "\n",
       "    .dataframe thead th {\n",
       "        text-align: right;\n",
       "    }\n",
       "</style>\n",
       "<table border=\"1\" class=\"dataframe\">\n",
       "  <thead>\n",
       "    <tr style=\"text-align: right;\">\n",
       "      <th></th>\n",
       "      <th>id</th>\n",
       "      <th>player</th>\n",
       "      <th>team</th>\n",
       "    </tr>\n",
       "  </thead>\n",
       "  <tbody>\n",
       "    <tr>\n",
       "      <td>0</td>\n",
       "      <td>231969</td>\n",
       "      <td>E. Barco</td>\n",
       "      <td>Atlanta United FC</td>\n",
       "    </tr>\n",
       "    <tr>\n",
       "      <td>1</td>\n",
       "      <td>122342</td>\n",
       "      <td>E. Hyndman</td>\n",
       "      <td>Atlanta United FC</td>\n",
       "    </tr>\n",
       "    <tr>\n",
       "      <td>2</td>\n",
       "      <td>170797</td>\n",
       "      <td>P. Martinez</td>\n",
       "      <td>Atlanta United FC</td>\n",
       "    </tr>\n",
       "    <tr>\n",
       "      <td>3</td>\n",
       "      <td>57769</td>\n",
       "      <td>F. Meza</td>\n",
       "      <td>Atlanta United FC</td>\n",
       "    </tr>\n",
       "    <tr>\n",
       "      <td>4</td>\n",
       "      <td>193891</td>\n",
       "      <td>F. Escobar</td>\n",
       "      <td>Atlanta United FC</td>\n",
       "    </tr>\n",
       "  </tbody>\n",
       "</table>\n",
       "</div>"
      ],
      "text/plain": [
       "       id       player               team\n",
       "0  231969     E. Barco  Atlanta United FC\n",
       "1  122342   E. Hyndman  Atlanta United FC\n",
       "2  170797  P. Martinez  Atlanta United FC\n",
       "3   57769      F. Meza  Atlanta United FC\n",
       "4  193891   F. Escobar  Atlanta United FC"
      ]
     },
     "execution_count": 21,
     "metadata": {},
     "output_type": "execute_result"
    }
   ],
   "source": [
    "mls_players.head()"
   ]
  },
  {
   "cell_type": "code",
   "execution_count": 58,
   "metadata": {},
   "outputs": [
    {
     "data": {
      "text/plain": [
       "array([98899, 'R. Ruidiaz', 'Seattle Sounders FC'], dtype=object)"
      ]
     },
     "execution_count": 58,
     "metadata": {},
     "output_type": "execute_result"
    }
   ],
   "source": [
    "np.array(mls_players)[633]"
   ]
  },
  {
   "cell_type": "code",
   "execution_count": 1,
   "metadata": {},
   "outputs": [
    {
     "ename": "NameError",
     "evalue": "name 'mls_players' is not defined",
     "output_type": "error",
     "traceback": [
      "\u001b[0;31m---------------------------------------------------------------------------\u001b[0m",
      "\u001b[0;31mNameError\u001b[0m                                 Traceback (most recent call last)",
      "\u001b[0;32m<ipython-input-1-6a6233752917>\u001b[0m in \u001b[0;36m<module>\u001b[0;34m\u001b[0m\n\u001b[0;32m----> 1\u001b[0;31m \u001b[0mlen\u001b[0m\u001b[0;34m(\u001b[0m\u001b[0mmls_players\u001b[0m\u001b[0;34m)\u001b[0m\u001b[0;34m\u001b[0m\u001b[0;34m\u001b[0m\u001b[0m\n\u001b[0m",
      "\u001b[0;31mNameError\u001b[0m: name 'mls_players' is not defined"
     ]
    }
   ],
   "source": [
    "len(mls_players)"
   ]
  },
  {
   "cell_type": "code",
   "execution_count": 223,
   "metadata": {},
   "outputs": [],
   "source": [
    "# with open('mls_player_ids.csv', 'w', newline='') as f:\n",
    "#     writer = csv.writer(f)\n",
    "#     writer.writerows(mls_players)"
   ]
  },
  {
   "cell_type": "code",
   "execution_count": null,
   "metadata": {},
   "outputs": [],
   "source": []
  },
  {
   "cell_type": "code",
   "execution_count": 35,
   "metadata": {},
   "outputs": [],
   "source": [
    "# can use a generic page link, and concat each player's id to the end to pull up their page and scrape stats\n",
    "page_link = 'https://fantasy.mlssoccer.com/#stats-center/player-profile/'"
   ]
  },
  {
   "cell_type": "code",
   "execution_count": 50,
   "metadata": {},
   "outputs": [],
   "source": [
    "# taking the list of mls_players, and adding the ID to the end of the page_link string in order to navigate to\n",
    "# that page. Can use this to cycle through all the player pages to amass weekly stats\n",
    "driver.get(page_link + str(np.array(mls_players)[242][0]))"
   ]
  },
  {
   "cell_type": "code",
   "execution_count": 51,
   "metadata": {},
   "outputs": [],
   "source": [
    "# on the specific player page, create a page object for beautifulsoup to parse for the content\n",
    "html_players = driver.page_source\n",
    "soup_players = BeautifulSoup(html_players, 'html.parser')"
   ]
  },
  {
   "cell_type": "code",
   "execution_count": 52,
   "metadata": {},
   "outputs": [],
   "source": [
    "# using the beautiful soup object to get the specific player details. will use this over and over to scrape and\n",
    "# store all the players data\n",
    "\n",
    "#table = soup_players.select('div.row-table') # this provides game by game data\n",
    "table = soup_players.select('div.profile-top-stats') # this provides top table stats\n",
    "#table = soup_players.select('div.player-info-wrapper') # this provides meta data like salary, team, position\n",
    "table_text = [stats.text for stats in table]"
   ]
  },
  {
   "cell_type": "code",
   "execution_count": 53,
   "metadata": {},
   "outputs": [
    {
     "data": {
      "text/plain": [
       "(['\\n\\n\\n\\n\\nGAMES PLAYED\\n1\\n\\n\\nAVG FANTASY PTS\\n-2\\n\\n\\nTOTAL FANTASY PTS\\n-2\\n\\n\\nLAST WK FANTASY PTS\\nDNP\\n\\n\\n\\n\\n3 WK AVG\\n1\\n\\n\\n5 WK AVG\\n1.8\\n\\n\\nHIGH SCORE\\n-2\\n\\n\\nLOW SCORE\\n-2\\n\\n\\n\\n\\nOWNED BY\\n1\\n\\n\\n$/POINT\\n $-2,650K\\n\\n\\nRD 2 RANK\\n0\\n\\n\\nSEASON RANK\\n721\\n\\n\\n\\n\\n'],\n",
       " ['GAMES PLAYED',\n",
       "  '1',\n",
       "  'AVG FANTASY PTS',\n",
       "  '-',\n",
       "  '2',\n",
       "  'TOTAL FANTASY PTS',\n",
       "  '-',\n",
       "  '2',\n",
       "  'LAST WK FANTASY PTS',\n",
       "  'DNP',\n",
       "  '3 WK AVG',\n",
       "  '1',\n",
       "  '5 WK AVG',\n",
       "  '1.8',\n",
       "  'HIGH SCORE',\n",
       "  '-',\n",
       "  '2',\n",
       "  'LOW SCORE',\n",
       "  '-',\n",
       "  '2',\n",
       "  'OWNED BY',\n",
       "  '1',\n",
       "  '$/POINT',\n",
       "  ' $-2,650K',\n",
       "  'RD 2 RANK',\n",
       "  '0',\n",
       "  'SEASON RANK',\n",
       "  '721'])"
      ]
     },
     "execution_count": 53,
     "metadata": {},
     "output_type": "execute_result"
    }
   ],
   "source": [
    "table_text, pds.clean_data(table_text[0])"
   ]
  },
  {
   "cell_type": "code",
   "execution_count": 54,
   "metadata": {},
   "outputs": [
    {
     "data": {
      "text/plain": [
       "['GAMES PLAYED',\n",
       " '1',\n",
       " 'AVG FANTASY PTS',\n",
       " '-',\n",
       " '2',\n",
       " 'TOTAL FANTASY PTS',\n",
       " '-',\n",
       " '2',\n",
       " 'LAST WK FANTASY PTS',\n",
       " 'DNP',\n",
       " '3 WK AVG',\n",
       " '1',\n",
       " '5 WK AVG',\n",
       " '1.8',\n",
       " 'HIGH SCORE',\n",
       " '-',\n",
       " '2',\n",
       " 'LOW SCORE',\n",
       " '-',\n",
       " '2',\n",
       " 'OWNED BY',\n",
       " '1',\n",
       " '$/POINT',\n",
       " ' $-2,650K',\n",
       " 'RD 2 RANK',\n",
       " '0',\n",
       " 'SEASON RANK',\n",
       " '721']"
      ]
     },
     "execution_count": 54,
     "metadata": {},
     "output_type": "execute_result"
    }
   ],
   "source": [
    "pds.clean_data(table_text[0])"
   ]
  },
  {
   "cell_type": "code",
   "execution_count": 55,
   "metadata": {},
   "outputs": [
    {
     "data": {
      "text/plain": [
       "['2', 'LOW SCORE']"
      ]
     },
     "execution_count": 55,
     "metadata": {},
     "output_type": "execute_result"
    }
   ],
   "source": [
    "# 'owned by' refers to the percent of all fantasy owners with the player on their team\n",
    "\n",
    "pds.clean_data(table_text[0])[16:18] "
   ]
  },
  {
   "cell_type": "code",
   "execution_count": 56,
   "metadata": {},
   "outputs": [
    {
     "data": {
      "text/plain": [
       "28"
      ]
     },
     "execution_count": 56,
     "metadata": {},
     "output_type": "execute_result"
    }
   ],
   "source": [
    "len(pds.clean_data(table_text[0]))"
   ]
  },
  {
   "cell_type": "code",
   "execution_count": null,
   "metadata": {},
   "outputs": [],
   "source": []
  },
  {
   "cell_type": "code",
   "execution_count": 187,
   "metadata": {},
   "outputs": [],
   "source": [
    "# creating hard-coded specific row for Miguel Ibarra since his web page is broken\n",
    "miguel_ibarra_1 = mls_players[649] + pds.clean_data(table_text[1]) + ['3'] + pds.clean_data(table_text[38])[0::2]"
   ]
  },
  {
   "cell_type": "code",
   "execution_count": 188,
   "metadata": {},
   "outputs": [],
   "source": [
    "# creating hard_coded specific row for Miguel Ibarra since his web page is broken\n",
    "miguel_ibarra_2 = mls_players[649] + pds.clean_data(table_text[2]) + ['1'] + pds.clean_data(table_text[39])[0::2]"
   ]
  },
  {
   "cell_type": "code",
   "execution_count": 44,
   "metadata": {},
   "outputs": [],
   "source": [
    "player_columns = pds.clean_data(table_text[0]) + pds.clean_data(table_text[37])"
   ]
  },
  {
   "cell_type": "code",
   "execution_count": 46,
   "metadata": {},
   "outputs": [],
   "source": [
    "player_columns.insert(1,'HOME_AWAY')"
   ]
  },
  {
   "cell_type": "code",
   "execution_count": 48,
   "metadata": {},
   "outputs": [
    {
     "data": {
      "text/plain": [
       "29"
      ]
     },
     "execution_count": 48,
     "metadata": {},
     "output_type": "execute_result"
    }
   ],
   "source": []
  },
  {
   "cell_type": "code",
   "execution_count": 51,
   "metadata": {},
   "outputs": [],
   "source": [
    "player_columns = ['ID', 'NAME', 'TEAM'] + player_columns"
   ]
  },
  {
   "cell_type": "code",
   "execution_count": 52,
   "metadata": {},
   "outputs": [
    {
     "data": {
      "text/plain": [
       "32"
      ]
     },
     "execution_count": 52,
     "metadata": {},
     "output_type": "execute_result"
    }
   ],
   "source": [
    "len(player_columns)"
   ]
  },
  {
   "cell_type": "code",
   "execution_count": 53,
   "metadata": {},
   "outputs": [
    {
     "data": {
      "text/plain": [
       "['ID',\n",
       " 'NAME',\n",
       " 'TEAM',\n",
       " 'RD',\n",
       " 'HOME_AWAY',\n",
       " 'OPPONENT',\n",
       " 'PTS',\n",
       " 'MIN',\n",
       " 'GF',\n",
       " 'A',\n",
       " 'CS',\n",
       " 'PS',\n",
       " 'PE',\n",
       " 'PM',\n",
       " 'GA',\n",
       " 'SV',\n",
       " 'Y',\n",
       " 'R',\n",
       " 'OG',\n",
       " 'T',\n",
       " 'P',\n",
       " 'KP',\n",
       " 'CRS',\n",
       " 'BC',\n",
       " 'CL',\n",
       " 'BLK',\n",
       " 'INT',\n",
       " 'BR',\n",
       " 'ELG',\n",
       " 'OGA',\n",
       " 'SH',\n",
       " 'WF']"
      ]
     },
     "execution_count": 53,
     "metadata": {},
     "output_type": "execute_result"
    }
   ],
   "source": [
    "player_columns"
   ]
  },
  {
   "cell_type": "code",
   "execution_count": null,
   "metadata": {},
   "outputs": [],
   "source": []
  },
  {
   "cell_type": "code",
   "execution_count": null,
   "metadata": {},
   "outputs": [],
   "source": []
  },
  {
   "cell_type": "code",
   "execution_count": null,
   "metadata": {},
   "outputs": [],
   "source": [
    "mls_player_ids = [player[0] for player in mls_players]"
   ]
  },
  {
   "cell_type": "code",
   "execution_count": null,
   "metadata": {},
   "outputs": [],
   "source": [
    "mls_player_ids[0]"
   ]
  },
  {
   "cell_type": "code",
   "execution_count": null,
   "metadata": {},
   "outputs": [],
   "source": [
    "mls_players[0][0], mls_players[0][1], mls_players[0][2]"
   ]
  },
  {
   "cell_type": "code",
   "execution_count": null,
   "metadata": {},
   "outputs": [],
   "source": []
  },
  {
   "cell_type": "code",
   "execution_count": 261,
   "metadata": {},
   "outputs": [],
   "source": [
    "# todo - refactor function to take appropriate div class, based on scraping for weekly data, updated metadata,\n",
    "# or updated top stats data\n",
    "\n",
    "def get_all_player_stats(web_driver: Chrome, \n",
    "                         player_ids: List[List[str]], \n",
    "                         week_first: int, \n",
    "                         week_last: int) -> List[List[str]]:\n",
    "    '''Function to go to the web and pull all players and stats for the players, by week, from the MLS\n",
    "    Fantasy League website. \n",
    "    Must use a driver that is logged in to the site.\n",
    "    Must use the full mls_player_ids which includes ID, player's name, and team for each player.\n",
    "    \n",
    "    For player data, use string 'div.row-table'.\n",
    "    For player metadata, use string 'div.player-info-wrapper'.\n",
    "    For player top stats, use string 'div.profile-top-stats'.\n",
    "    '''\n",
    "    player_stats = []\n",
    "    \n",
    "    page_link = 'https://fantasy.mlssoccer.com/#stats-center/player-profile/'\n",
    "\n",
    "    # taking the list of mls_players, and adding the ID to the end of the page_link string in order to navigate to\n",
    "    # that page. Can use this to cycle through all the player pages to amass weekly stats\n",
    "    for player in player_ids:\n",
    "        #print(page_link)\n",
    "        #print(player[0])\n",
    "        web_driver.get(page_link + player[0])\n",
    "        time.sleep(5)\n",
    "        \n",
    "        # on the specific player page, create a page object for beautifulsoup to parse for the content\n",
    "        html = web_driver.page_source\n",
    "        soup = BeautifulSoup(html, 'html.parser')\n",
    "        \n",
    "        # using the beautiful soup object to get the specific player details. will use this over and over to scrape and\n",
    "        # store all the players data\n",
    "        table = soup.select('div.row-table')\n",
    "        table_text = [stats.text for stats in table]\n",
    "        \n",
    "        # in table_text, index 1 is the first game of the season in terms of info on the game, and index 38\n",
    "        # (so index i + 37) is the associated per category stats for the match\n",
    "        # each row will have the player's id, player name, team, information regarding the specific match, and then\n",
    "        # respective category totals for that match\n",
    "        for week in range(week_first, week_last + 1):\n",
    "            if len(player_stats) % 50 == 0:\n",
    "                print(f\"Scraped {round(50 * len(player_stats) / len(player_ids), 2)}% so far\")\n",
    "            player_stats.append([player[0]] +\n",
    "                                [player[1]] +\n",
    "                                [player[2]] +\n",
    "                                pds.update_negative_scores(pds.clean_data(table_text[week])) + \n",
    "                                [stat for stat in pds.clean_data(table_text[week + 37])[0::2]])\n",
    "            \n",
    "    return player_stats"
   ]
  },
  {
   "cell_type": "code",
   "execution_count": 209,
   "metadata": {},
   "outputs": [
    {
     "name": "stdout",
     "output_type": "stream",
     "text": [
      "Scraped 0.0% so far\n",
      "Scraped 3.51% so far\n",
      "Scraped 7.02% so far\n",
      "Scraped 10.53% so far\n",
      "Scraped 14.04% so far\n",
      "Scraped 17.56% so far\n",
      "Scraped 21.07% so far\n",
      "Scraped 24.58% so far\n"
     ]
    },
    {
     "ename": "IndexError",
     "evalue": "list index out of range",
     "output_type": "error",
     "traceback": [
      "\u001b[0;31m---------------------------------------------------------------------------\u001b[0m",
      "\u001b[0;31mIndexError\u001b[0m                                Traceback (most recent call last)",
      "\u001b[0;32m<ipython-input-209-8ab26cbb3851>\u001b[0m in \u001b[0;36m<module>\u001b[0;34m\u001b[0m\n\u001b[0;32m----> 1\u001b[0;31m \u001b[0mmls_player_stats\u001b[0m \u001b[0;34m=\u001b[0m \u001b[0mget_all_player_stats\u001b[0m\u001b[0;34m(\u001b[0m\u001b[0mdriver\u001b[0m\u001b[0;34m,\u001b[0m \u001b[0mmls_players\u001b[0m\u001b[0;34m,\u001b[0m \u001b[0;36m1\u001b[0m\u001b[0;34m,\u001b[0m \u001b[0;36m2\u001b[0m\u001b[0;34m)\u001b[0m\u001b[0;34m\u001b[0m\u001b[0;34m\u001b[0m\u001b[0m\n\u001b[0m",
      "\u001b[0;32m<ipython-input-207-c11c4cac1589>\u001b[0m in \u001b[0;36mget_all_player_stats\u001b[0;34m(web_driver, player_ids, week_first, week_last)\u001b[0m\n\u001b[1;32m     39\u001b[0m                                 \u001b[0;34m[\u001b[0m\u001b[0mplayer\u001b[0m\u001b[0;34m[\u001b[0m\u001b[0;36m1\u001b[0m\u001b[0;34m]\u001b[0m\u001b[0;34m]\u001b[0m \u001b[0;34m+\u001b[0m\u001b[0;34m\u001b[0m\u001b[0;34m\u001b[0m\u001b[0m\n\u001b[1;32m     40\u001b[0m                                 \u001b[0;34m[\u001b[0m\u001b[0mplayer\u001b[0m\u001b[0;34m[\u001b[0m\u001b[0;36m2\u001b[0m\u001b[0;34m]\u001b[0m\u001b[0;34m]\u001b[0m \u001b[0;34m+\u001b[0m\u001b[0;34m\u001b[0m\u001b[0;34m\u001b[0m\u001b[0m\n\u001b[0;32m---> 41\u001b[0;31m                                 \u001b[0mpds\u001b[0m\u001b[0;34m.\u001b[0m\u001b[0mupdate_negative_scores\u001b[0m\u001b[0;34m(\u001b[0m\u001b[0mpds\u001b[0m\u001b[0;34m.\u001b[0m\u001b[0mclean_data\u001b[0m\u001b[0;34m(\u001b[0m\u001b[0mtable_text\u001b[0m\u001b[0;34m[\u001b[0m\u001b[0mweek\u001b[0m\u001b[0;34m]\u001b[0m\u001b[0;34m)\u001b[0m\u001b[0;34m)\u001b[0m \u001b[0;34m+\u001b[0m\u001b[0;34m\u001b[0m\u001b[0;34m\u001b[0m\u001b[0m\n\u001b[0m\u001b[1;32m     42\u001b[0m                                 [stat for stat in pds.clean_data(table_text[week + 37])[0::2]])\n\u001b[1;32m     43\u001b[0m \u001b[0;34m\u001b[0m\u001b[0m\n",
      "\u001b[0;31mIndexError\u001b[0m: list index out of range"
     ]
    }
   ],
   "source": [
    "mls_player_stats = get_all_player_stats(driver, mls_players, 1, 2)"
   ]
  },
  {
   "cell_type": "code",
   "execution_count": null,
   "metadata": {},
   "outputs": [],
   "source": []
  },
  {
   "cell_type": "code",
   "execution_count": 11,
   "metadata": {},
   "outputs": [
    {
     "name": "stdout",
     "output_type": "stream",
     "text": [
      "Scraped 0.0% so far\n",
      "Scraped 50.0% so far\n",
      "Scraped 100.0% so far\n",
      "Scraped 150.0% so far\n"
     ]
    }
   ],
   "source": [
    "# mls_player_stats_100 = get_all_player_stats(driver, mls_players[:100], 1, 2)"
   ]
  },
  {
   "cell_type": "code",
   "execution_count": 25,
   "metadata": {},
   "outputs": [
    {
     "name": "stdout",
     "output_type": "stream",
     "text": [
      "Scraped 0.0% so far\n",
      "Scraped 12.5% so far\n",
      "Scraped 25.0% so far\n",
      "Scraped 37.5% so far\n",
      "Scraped 50.0% so far\n",
      "Scraped 62.5% so far\n",
      "Scraped 75.0% so far\n",
      "Scraped 87.5% so far\n"
     ]
    }
   ],
   "source": [
    "# mls_player_stats_300 = get_all_player_stats(driver, mls_players[100:300], 1, 2)"
   ]
  },
  {
   "cell_type": "code",
   "execution_count": 27,
   "metadata": {},
   "outputs": [],
   "source": [
    "# with open('mls_player_stats_300.csv', 'w', newline='') as f:\n",
    "#     writer = csv.writer(f)\n",
    "#     writer.writerows(mls_player_stats_300)"
   ]
  },
  {
   "cell_type": "code",
   "execution_count": 59,
   "metadata": {},
   "outputs": [
    {
     "name": "stdout",
     "output_type": "stream",
     "text": [
      "Scraped 0.0% so far\n",
      "Scraped 12.5% so far\n",
      "Scraped 25.0% so far\n",
      "Scraped 37.5% so far\n",
      "Scraped 50.0% so far\n",
      "Scraped 62.5% so far\n",
      "Scraped 75.0% so far\n",
      "Scraped 87.5% so far\n"
     ]
    }
   ],
   "source": [
    "# mls_player_stats_500 = get_all_player_stats(driver, mls_players[300:500], 1, 2)"
   ]
  },
  {
   "cell_type": "code",
   "execution_count": 60,
   "metadata": {},
   "outputs": [
    {
     "data": {
      "text/plain": [
       "400"
      ]
     },
     "execution_count": 60,
     "metadata": {},
     "output_type": "execute_result"
    }
   ],
   "source": [
    "len(mls_player_stats_500)"
   ]
  },
  {
   "cell_type": "code",
   "execution_count": 61,
   "metadata": {},
   "outputs": [],
   "source": [
    "# with open('mls_player_stats_500.csv', 'w', newline='') as f:\n",
    "#     writer = csv.writer(f)\n",
    "#     writer.writerows(mls_player_stats_500)"
   ]
  },
  {
   "cell_type": "code",
   "execution_count": 65,
   "metadata": {},
   "outputs": [
    {
     "name": "stdout",
     "output_type": "stream",
     "text": [
      "Scraped 0.0% so far\n",
      "Scraped 25.0% so far\n",
      "Scraped 50.0% so far\n",
      "Scraped 75.0% so far\n"
     ]
    }
   ],
   "source": [
    "# mls_player_stats_600 = get_all_player_stats(driver, mls_players[500:600], 1, 2)"
   ]
  },
  {
   "cell_type": "code",
   "execution_count": 66,
   "metadata": {},
   "outputs": [
    {
     "data": {
      "text/plain": [
       "200"
      ]
     },
     "execution_count": 66,
     "metadata": {},
     "output_type": "execute_result"
    }
   ],
   "source": [
    "len(mls_player_stats_600)"
   ]
  },
  {
   "cell_type": "code",
   "execution_count": 67,
   "metadata": {},
   "outputs": [],
   "source": [
    "# with open('mls_player_stats_600.csv', 'w', newline='') as f:\n",
    "#     writer = csv.writer(f)\n",
    "#     writer.writerows(mls_player_stats_600)"
   ]
  },
  {
   "cell_type": "code",
   "execution_count": 83,
   "metadata": {},
   "outputs": [
    {
     "name": "stdout",
     "output_type": "stream",
     "text": [
      "Scraped 0.0% so far\n",
      "Scraped 22.52% so far\n",
      "Scraped 45.05% so far\n",
      "Scraped 67.57% so far\n",
      "Scraped 90.09% so far\n"
     ]
    }
   ],
   "source": [
    "# mls_player_stats_rest = get_all_player_stats(driver, mls_players[600:649] + mls_players[650:], 1, 2)"
   ]
  },
  {
   "cell_type": "code",
   "execution_count": 179,
   "metadata": {},
   "outputs": [],
   "source": [
    "# adding in hard-coded miguel ibarra rows given the omitted data on his webpage\n",
    "# mls_player_stats_rest.append(miguel_ibarra_1)\n",
    "# mls_player_stats_rest.append(miguel_ibarra_2)"
   ]
  },
  {
   "cell_type": "code",
   "execution_count": 185,
   "metadata": {},
   "outputs": [
    {
     "data": {
      "text/plain": [
       "224"
      ]
     },
     "execution_count": 185,
     "metadata": {},
     "output_type": "execute_result"
    }
   ],
   "source": [
    "len(mls_player_stats_rest)"
   ]
  },
  {
   "cell_type": "code",
   "execution_count": 186,
   "metadata": {},
   "outputs": [],
   "source": [
    "# with open('mls_player_stats_rest.csv', 'w', newline='') as f:\n",
    "#     writer = csv.writer(f)\n",
    "#     writer.writerows(mls_player_stats_rest)"
   ]
  },
  {
   "cell_type": "code",
   "execution_count": 22,
   "metadata": {},
   "outputs": [],
   "source": [
    "metadata = pd.read_csv('../data/mls_player_metadata_all.csv', names=['id', 'name', 'team', 'position', 'salary'])"
   ]
  },
  {
   "cell_type": "code",
   "execution_count": 23,
   "metadata": {},
   "outputs": [
    {
     "data": {
      "text/html": [
       "<div>\n",
       "<style scoped>\n",
       "    .dataframe tbody tr th:only-of-type {\n",
       "        vertical-align: middle;\n",
       "    }\n",
       "\n",
       "    .dataframe tbody tr th {\n",
       "        vertical-align: top;\n",
       "    }\n",
       "\n",
       "    .dataframe thead th {\n",
       "        text-align: right;\n",
       "    }\n",
       "</style>\n",
       "<table border=\"1\" class=\"dataframe\">\n",
       "  <thead>\n",
       "    <tr style=\"text-align: right;\">\n",
       "      <th></th>\n",
       "      <th>id</th>\n",
       "      <th>name</th>\n",
       "      <th>team</th>\n",
       "      <th>position</th>\n",
       "      <th>salary</th>\n",
       "    </tr>\n",
       "  </thead>\n",
       "  <tbody>\n",
       "    <tr>\n",
       "      <td>0</td>\n",
       "      <td>231969</td>\n",
       "      <td>E. Barco</td>\n",
       "      <td>Atlanta United FC</td>\n",
       "      <td>M</td>\n",
       "      <td>10.5</td>\n",
       "    </tr>\n",
       "    <tr>\n",
       "      <td>1</td>\n",
       "      <td>122342</td>\n",
       "      <td>E. Hyndman</td>\n",
       "      <td>Atlanta United FC</td>\n",
       "      <td>M</td>\n",
       "      <td>9.5</td>\n",
       "    </tr>\n",
       "    <tr>\n",
       "      <td>2</td>\n",
       "      <td>170797</td>\n",
       "      <td>P. Martinez</td>\n",
       "      <td>Atlanta United FC</td>\n",
       "      <td>M</td>\n",
       "      <td>9.3</td>\n",
       "    </tr>\n",
       "    <tr>\n",
       "      <td>3</td>\n",
       "      <td>57769</td>\n",
       "      <td>F. Meza</td>\n",
       "      <td>Atlanta United FC</td>\n",
       "      <td>D</td>\n",
       "      <td>6.9</td>\n",
       "    </tr>\n",
       "    <tr>\n",
       "      <td>4</td>\n",
       "      <td>193891</td>\n",
       "      <td>F. Escobar</td>\n",
       "      <td>Atlanta United FC</td>\n",
       "      <td>D</td>\n",
       "      <td>6.9</td>\n",
       "    </tr>\n",
       "  </tbody>\n",
       "</table>\n",
       "</div>"
      ],
      "text/plain": [
       "       id         name               team position  salary\n",
       "0  231969     E. Barco  Atlanta United FC        M    10.5\n",
       "1  122342   E. Hyndman  Atlanta United FC        M     9.5\n",
       "2  170797  P. Martinez  Atlanta United FC        M     9.3\n",
       "3   57769      F. Meza  Atlanta United FC        D     6.9\n",
       "4  193891   F. Escobar  Atlanta United FC        D     6.9"
      ]
     },
     "execution_count": 23,
     "metadata": {},
     "output_type": "execute_result"
    }
   ],
   "source": [
    "metadata.head()"
   ]
  },
  {
   "cell_type": "code",
   "execution_count": 25,
   "metadata": {},
   "outputs": [],
   "source": [
    "stats_column = ['ID','NAME',\n",
    " 'TEAM','RD', 'HOME_AWAY', 'OPPONENT', 'PTS', 'MIN', 'GF', 'A', 'CS', 'PS', 'PE', 'PM', 'GA', 'SV', 'Y', 'R', \n",
    "'OG', 'T', 'P', 'KP', 'CRS', 'BC', 'CL', 'BLK', 'INT', 'BR', 'ELG', 'OGA', 'SH', 'WF']"
   ]
  },
  {
   "cell_type": "code",
   "execution_count": 26,
   "metadata": {},
   "outputs": [],
   "source": [
    "stats = pd.read_csv('../data/mls_player_stats_all.csv', names=stats_column)"
   ]
  },
  {
   "cell_type": "code",
   "execution_count": 27,
   "metadata": {},
   "outputs": [
    {
     "data": {
      "text/html": [
       "<div>\n",
       "<style scoped>\n",
       "    .dataframe tbody tr th:only-of-type {\n",
       "        vertical-align: middle;\n",
       "    }\n",
       "\n",
       "    .dataframe tbody tr th {\n",
       "        vertical-align: top;\n",
       "    }\n",
       "\n",
       "    .dataframe thead th {\n",
       "        text-align: right;\n",
       "    }\n",
       "</style>\n",
       "<table border=\"1\" class=\"dataframe\">\n",
       "  <thead>\n",
       "    <tr style=\"text-align: right;\">\n",
       "      <th></th>\n",
       "      <th>ID</th>\n",
       "      <th>NAME</th>\n",
       "      <th>TEAM</th>\n",
       "      <th>RD</th>\n",
       "      <th>HOME_AWAY</th>\n",
       "      <th>OPPONENT</th>\n",
       "      <th>PTS</th>\n",
       "      <th>MIN</th>\n",
       "      <th>GF</th>\n",
       "      <th>A</th>\n",
       "      <th>...</th>\n",
       "      <th>CRS</th>\n",
       "      <th>BC</th>\n",
       "      <th>CL</th>\n",
       "      <th>BLK</th>\n",
       "      <th>INT</th>\n",
       "      <th>BR</th>\n",
       "      <th>ELG</th>\n",
       "      <th>OGA</th>\n",
       "      <th>SH</th>\n",
       "      <th>WF</th>\n",
       "    </tr>\n",
       "  </thead>\n",
       "  <tbody>\n",
       "    <tr>\n",
       "      <td>0</td>\n",
       "      <td>231969</td>\n",
       "      <td>E. Barco</td>\n",
       "      <td>Atlanta United FC</td>\n",
       "      <td>1</td>\n",
       "      <td>@</td>\n",
       "      <td>Nashville SC</td>\n",
       "      <td>7</td>\n",
       "      <td>90</td>\n",
       "      <td>1</td>\n",
       "      <td>0</td>\n",
       "      <td>...</td>\n",
       "      <td>0</td>\n",
       "      <td>0</td>\n",
       "      <td>0</td>\n",
       "      <td>0</td>\n",
       "      <td>0</td>\n",
       "      <td>3</td>\n",
       "      <td>0</td>\n",
       "      <td>0</td>\n",
       "      <td>2</td>\n",
       "      <td>3</td>\n",
       "    </tr>\n",
       "    <tr>\n",
       "      <td>1</td>\n",
       "      <td>231969</td>\n",
       "      <td>E. Barco</td>\n",
       "      <td>Atlanta United FC</td>\n",
       "      <td>2</td>\n",
       "      <td>vs</td>\n",
       "      <td>FC Cincinnati</td>\n",
       "      <td>13</td>\n",
       "      <td>90</td>\n",
       "      <td>1</td>\n",
       "      <td>1</td>\n",
       "      <td>...</td>\n",
       "      <td>0</td>\n",
       "      <td>0</td>\n",
       "      <td>0</td>\n",
       "      <td>0</td>\n",
       "      <td>0</td>\n",
       "      <td>5</td>\n",
       "      <td>0</td>\n",
       "      <td>0</td>\n",
       "      <td>4</td>\n",
       "      <td>5</td>\n",
       "    </tr>\n",
       "    <tr>\n",
       "      <td>2</td>\n",
       "      <td>122342</td>\n",
       "      <td>E. Hyndman</td>\n",
       "      <td>Atlanta United FC</td>\n",
       "      <td>1</td>\n",
       "      <td>@</td>\n",
       "      <td>Nashville SC</td>\n",
       "      <td>8</td>\n",
       "      <td>90</td>\n",
       "      <td>1</td>\n",
       "      <td>0</td>\n",
       "      <td>...</td>\n",
       "      <td>0</td>\n",
       "      <td>0</td>\n",
       "      <td>0</td>\n",
       "      <td>0</td>\n",
       "      <td>1</td>\n",
       "      <td>3</td>\n",
       "      <td>0</td>\n",
       "      <td>0</td>\n",
       "      <td>1</td>\n",
       "      <td>0</td>\n",
       "    </tr>\n",
       "    <tr>\n",
       "      <td>3</td>\n",
       "      <td>122342</td>\n",
       "      <td>E. Hyndman</td>\n",
       "      <td>Atlanta United FC</td>\n",
       "      <td>2</td>\n",
       "      <td>vs</td>\n",
       "      <td>FC Cincinnati</td>\n",
       "      <td>9</td>\n",
       "      <td>90</td>\n",
       "      <td>1</td>\n",
       "      <td>0</td>\n",
       "      <td>...</td>\n",
       "      <td>0</td>\n",
       "      <td>1</td>\n",
       "      <td>0</td>\n",
       "      <td>1</td>\n",
       "      <td>2</td>\n",
       "      <td>4</td>\n",
       "      <td>0</td>\n",
       "      <td>0</td>\n",
       "      <td>1</td>\n",
       "      <td>0</td>\n",
       "    </tr>\n",
       "    <tr>\n",
       "      <td>4</td>\n",
       "      <td>170797</td>\n",
       "      <td>P. Martinez</td>\n",
       "      <td>Atlanta United FC</td>\n",
       "      <td>1</td>\n",
       "      <td>@</td>\n",
       "      <td>Nashville SC</td>\n",
       "      <td>3</td>\n",
       "      <td>81</td>\n",
       "      <td>0</td>\n",
       "      <td>0</td>\n",
       "      <td>...</td>\n",
       "      <td>0</td>\n",
       "      <td>0</td>\n",
       "      <td>1</td>\n",
       "      <td>0</td>\n",
       "      <td>0</td>\n",
       "      <td>3</td>\n",
       "      <td>0</td>\n",
       "      <td>0</td>\n",
       "      <td>1</td>\n",
       "      <td>4</td>\n",
       "    </tr>\n",
       "  </tbody>\n",
       "</table>\n",
       "<p>5 rows × 32 columns</p>\n",
       "</div>"
      ],
      "text/plain": [
       "       ID         NAME               TEAM  RD HOME_AWAY       OPPONENT  PTS  \\\n",
       "0  231969     E. Barco  Atlanta United FC   1         @   Nashville SC    7   \n",
       "1  231969     E. Barco  Atlanta United FC   2        vs  FC Cincinnati   13   \n",
       "2  122342   E. Hyndman  Atlanta United FC   1         @   Nashville SC    8   \n",
       "3  122342   E. Hyndman  Atlanta United FC   2        vs  FC Cincinnati    9   \n",
       "4  170797  P. Martinez  Atlanta United FC   1         @   Nashville SC    3   \n",
       "\n",
       "  MIN GF  A  ... CRS BC CL BLK INT BR ELG OGA SH WF  \n",
       "0  90  1  0  ...   0  0  0   0   0  3   0   0  2  3  \n",
       "1  90  1  1  ...   0  0  0   0   0  5   0   0  4  5  \n",
       "2  90  1  0  ...   0  0  0   0   1  3   0   0  1  0  \n",
       "3  90  1  0  ...   0  1  0   1   2  4   0   0  1  0  \n",
       "4  81  0  0  ...   0  0  1   0   0  3   0   0  1  4  \n",
       "\n",
       "[5 rows x 32 columns]"
      ]
     },
     "execution_count": 27,
     "metadata": {},
     "output_type": "execute_result"
    }
   ],
   "source": [
    "stats.head()"
   ]
  },
  {
   "cell_type": "code",
   "execution_count": null,
   "metadata": {},
   "outputs": [],
   "source": []
  },
  {
   "cell_type": "code",
   "execution_count": 287,
   "metadata": {},
   "outputs": [],
   "source": [
    "#Now get all the player specific data, id, player name, team, position and current salary\n",
    "\n",
    "def get_all_player_meta_data(web_driver: Chrome, \n",
    "                         player_ids: List[List[str]]) -> List[List[str]]:\n",
    "    '''Function to go to the web and pull all players and stats for the players, by week, from the MLS\n",
    "    Fantasy League website. \n",
    "    Must use a driver that is logged in to the site.\n",
    "    Must use the full mls_player_ids which includes ID, player's name, and team for each player.\n",
    "    \n",
    "    For player data, use string 'div.row-table'.\n",
    "    For player metadata, use string 'div.player-info-wrapper'.\n",
    "    For player top stats, use string 'div.profile-top-stats'.'''\n",
    "    \n",
    "    player_data = []\n",
    "    \n",
    "    page_link = 'https://fantasy.mlssoccer.com/#stats-center/player-profile/'\n",
    "\n",
    "    # taking the list of mls_players, and adding the ID to the end of the page_link string in order to navigate to\n",
    "    # that page. Can use this to cycle through all the player pages to amass weekly stats\n",
    "    for player in player_ids:\n",
    "        #print(page_link)\n",
    "        #print(player[0])\n",
    "        web_driver.get(page_link + player[0])\n",
    "        time.sleep(5)\n",
    "        \n",
    "        # on the specific player page, create a page object for beautifulsoup to parse for the content\n",
    "        html = web_driver.page_source\n",
    "        soup = BeautifulSoup(html, 'html.parser')\n",
    "        \n",
    "        # using the beautiful soup object to get the specific player details. will use this over and over to scrape and\n",
    "        # store all the players data\n",
    "        player_metadata = soup.select('div.player-info-wrapper')\n",
    "        metadata_text = [meta.text for meta in player_metadata]\n",
    "        # now we go through and clean up the meta data, and include it in the new table with each player\n",
    "        if len(player_data) % 25 == 0:\n",
    "            print(f\"Scraped {100 * round(len(player_data) / len(player_ids), 2)}% so far\")\n",
    "        player_data.append([player[0]] +\n",
    "                   [player[1]] +\n",
    "                   [player[2]] +\n",
    "                   [pds.get_player_position(pds.clean_data(metadata_text[0]))] +\n",
    "                   [pds.get_player_salary(pds.clean_data(metadata_text[0]))])\n",
    "    return player_data"
   ]
  },
  {
   "cell_type": "code",
   "execution_count": 280,
   "metadata": {},
   "outputs": [
    {
     "name": "stdout",
     "output_type": "stream",
     "text": [
      "Scraped 0.0% so far\n",
      "Scraped 0.67% so far\n",
      "Scraped 1.33% so far\n"
     ]
    }
   ],
   "source": [
    "mls_meta_150 = get_all_player_meta_data(driver, mls_players[:150])"
   ]
  },
  {
   "cell_type": "code",
   "execution_count": 309,
   "metadata": {},
   "outputs": [
    {
     "data": {
      "text/plain": [
       "150"
      ]
     },
     "execution_count": 309,
     "metadata": {},
     "output_type": "execute_result"
    }
   ],
   "source": [
    "len(mls_meta_150)"
   ]
  },
  {
   "cell_type": "code",
   "execution_count": 303,
   "metadata": {},
   "outputs": [
    {
     "data": {
      "text/plain": [
       "[['231969', 'E. Barco', 'Atlanta United FC', 'M', 10.5],\n",
       " ['122342', 'E. Hyndman', 'Atlanta United FC', 'M', 9.5],\n",
       " ['170797', 'P. Martinez', 'Atlanta United FC', 'M', 9.3],\n",
       " ['57769', 'F. Meza', 'Atlanta United FC', 'D', 6.9],\n",
       " ['193891', 'F. Escobar', 'Atlanta United FC', 'D', 6.9]]"
      ]
     },
     "execution_count": 303,
     "metadata": {},
     "output_type": "execute_result"
    }
   ],
   "source": [
    "mls_meta_150[:5]"
   ]
  },
  {
   "cell_type": "code",
   "execution_count": 296,
   "metadata": {},
   "outputs": [
    {
     "name": "stdout",
     "output_type": "stream",
     "text": [
      "Scraped 0.0% so far\n",
      "Scraped 17.0% so far\n",
      "Scraped 33.0% so far\n",
      "Scraped 50.0% so far\n",
      "Scraped 67.0% so far\n",
      "Scraped 83.0% so far\n"
     ]
    }
   ],
   "source": [
    "mls_meta_300 = get_all_player_meta_data(driver, mls_players[150:300])"
   ]
  },
  {
   "cell_type": "code",
   "execution_count": 308,
   "metadata": {},
   "outputs": [
    {
     "data": {
      "text/plain": [
       "150"
      ]
     },
     "execution_count": 308,
     "metadata": {},
     "output_type": "execute_result"
    }
   ],
   "source": [
    "len(mls_meta_300)"
   ]
  },
  {
   "cell_type": "code",
   "execution_count": 304,
   "metadata": {},
   "outputs": [
    {
     "name": "stdout",
     "output_type": "stream",
     "text": [
      "Scraped 0.0% so far\n",
      "Scraped 17.0% so far\n",
      "Scraped 33.0% so far\n",
      "Scraped 50.0% so far\n",
      "Scraped 67.0% so far\n",
      "Scraped 83.0% so far\n"
     ]
    }
   ],
   "source": [
    "mls_meta_450 = get_all_player_meta_data(driver, mls_players[300:450])"
   ]
  },
  {
   "cell_type": "code",
   "execution_count": 305,
   "metadata": {},
   "outputs": [
    {
     "data": {
      "text/plain": [
       "(150,\n",
       " [['223964', 'J. Glesnes', 'Philadelphia Union', 'D', 5.2],\n",
       "  ['163906', 'A. Blake', 'Philadelphia Union', 'G', 6.9],\n",
       "  ['110575', 'W. Creavalle', 'Philadelphia Union', 'M', 5.3],\n",
       "  ['61770', 'A. Bedoya', 'Philadelphia Union', 'M', 6.0],\n",
       "  ['477965', 'J. Martinez', 'Philadelphia Union', 'M', 5.3]])"
      ]
     },
     "execution_count": 305,
     "metadata": {},
     "output_type": "execute_result"
    }
   ],
   "source": [
    "len(mls_meta_450), mls_meta_450[:5]"
   ]
  },
  {
   "cell_type": "code",
   "execution_count": null,
   "metadata": {},
   "outputs": [],
   "source": []
  },
  {
   "cell_type": "code",
   "execution_count": 306,
   "metadata": {},
   "outputs": [
    {
     "name": "stdout",
     "output_type": "stream",
     "text": [
      "Scraped 0.0% so far\n",
      "Scraped 17.0% so far\n",
      "Scraped 33.0% so far\n",
      "Scraped 50.0% so far\n",
      "Scraped 67.0% so far\n",
      "Scraped 83.0% so far\n"
     ]
    }
   ],
   "source": [
    "mls_meta_600 = get_all_player_meta_data(driver, mls_players[450: 600])"
   ]
  },
  {
   "cell_type": "code",
   "execution_count": 307,
   "metadata": {},
   "outputs": [
    {
     "data": {
      "text/plain": [
       "150"
      ]
     },
     "execution_count": 307,
     "metadata": {},
     "output_type": "execute_result"
    }
   ],
   "source": [
    "len(mls_meta_600)"
   ]
  },
  {
   "cell_type": "code",
   "execution_count": 310,
   "metadata": {},
   "outputs": [
    {
     "name": "stdout",
     "output_type": "stream",
     "text": [
      "Scraped 0.0% so far\n",
      "Scraped 22.0% so far\n",
      "Scraped 45.0% so far\n",
      "Scraped 67.0% so far\n",
      "Scraped 89.0% so far\n"
     ]
    }
   ],
   "source": [
    "mls_meta_rest = get_all_player_meta_data(driver, mls_players[600:])"
   ]
  },
  {
   "cell_type": "code",
   "execution_count": 311,
   "metadata": {},
   "outputs": [
    {
     "data": {
      "text/plain": [
       "112"
      ]
     },
     "execution_count": 311,
     "metadata": {},
     "output_type": "execute_result"
    }
   ],
   "source": [
    "len(mls_meta_rest)"
   ]
  },
  {
   "cell_type": "code",
   "execution_count": 312,
   "metadata": {},
   "outputs": [
    {
     "data": {
      "text/plain": [
       "[['427221', 'J. Vazquez', 'Real Salt Lake', 'F', 4.0],\n",
       " ['60862', 'O. Alanis', 'San Jose Earthquakes', 'D', 8.0],\n",
       " ['88940', 'Vako', 'San Jose Earthquakes', 'M', 8.8],\n",
       " ['170799', 'C. Espinoza', 'San Jose Earthquakes', 'M', 9.6],\n",
       " ['55111', 'A. Rios', 'San Jose Earthquakes', 'F', 7.5]]"
      ]
     },
     "execution_count": 312,
     "metadata": {},
     "output_type": "execute_result"
    }
   ],
   "source": [
    "mls_meta_rest[:5]"
   ]
  },
  {
   "cell_type": "code",
   "execution_count": 313,
   "metadata": {},
   "outputs": [],
   "source": [
    "mls_meta_all = mls_meta_150 + mls_meta_300 + mls_meta_450 + mls_meta_600 + mls_meta_rest"
   ]
  },
  {
   "cell_type": "code",
   "execution_count": 317,
   "metadata": {},
   "outputs": [
    {
     "data": {
      "text/plain": [
       "[['231969', 'E. Barco', 'Atlanta United FC', 'M', 10.5],\n",
       " ['122342', 'E. Hyndman', 'Atlanta United FC', 'M', 9.5],\n",
       " ['170797', 'P. Martinez', 'Atlanta United FC', 'M', 9.3],\n",
       " ['57769', 'F. Meza', 'Atlanta United FC', 'D', 6.9],\n",
       " ['193891', 'F. Escobar', 'Atlanta United FC', 'D', 6.9]]"
      ]
     },
     "execution_count": 317,
     "metadata": {},
     "output_type": "execute_result"
    }
   ],
   "source": [
    "mls_meta_all[:5]"
   ]
  },
  {
   "cell_type": "code",
   "execution_count": 318,
   "metadata": {},
   "outputs": [],
   "source": [
    "with open('mls_player_metadata_all.csv', 'w', newline='') as f:\n",
    "    writer = csv.writer(f)\n",
    "    writer.writerows(mls_meta_all)"
   ]
  },
  {
   "cell_type": "code",
   "execution_count": 319,
   "metadata": {},
   "outputs": [
    {
     "data": {
      "text/html": [
       "<div>\n",
       "<style scoped>\n",
       "    .dataframe tbody tr th:only-of-type {\n",
       "        vertical-align: middle;\n",
       "    }\n",
       "\n",
       "    .dataframe tbody tr th {\n",
       "        vertical-align: top;\n",
       "    }\n",
       "\n",
       "    .dataframe thead th {\n",
       "        text-align: right;\n",
       "    }\n",
       "</style>\n",
       "<table border=\"1\" class=\"dataframe\">\n",
       "  <thead>\n",
       "    <tr style=\"text-align: right;\">\n",
       "      <th></th>\n",
       "      <th>ID</th>\n",
       "      <th>name</th>\n",
       "      <th>team</th>\n",
       "      <th>position</th>\n",
       "      <th>salary</th>\n",
       "    </tr>\n",
       "  </thead>\n",
       "  <tbody>\n",
       "    <tr>\n",
       "      <td>0</td>\n",
       "      <td>231969</td>\n",
       "      <td>E. Barco</td>\n",
       "      <td>Atlanta United FC</td>\n",
       "      <td>M</td>\n",
       "      <td>10.5</td>\n",
       "    </tr>\n",
       "    <tr>\n",
       "      <td>1</td>\n",
       "      <td>122342</td>\n",
       "      <td>E. Hyndman</td>\n",
       "      <td>Atlanta United FC</td>\n",
       "      <td>M</td>\n",
       "      <td>9.5</td>\n",
       "    </tr>\n",
       "    <tr>\n",
       "      <td>2</td>\n",
       "      <td>170797</td>\n",
       "      <td>P. Martinez</td>\n",
       "      <td>Atlanta United FC</td>\n",
       "      <td>M</td>\n",
       "      <td>9.3</td>\n",
       "    </tr>\n",
       "    <tr>\n",
       "      <td>3</td>\n",
       "      <td>57769</td>\n",
       "      <td>F. Meza</td>\n",
       "      <td>Atlanta United FC</td>\n",
       "      <td>D</td>\n",
       "      <td>6.9</td>\n",
       "    </tr>\n",
       "    <tr>\n",
       "      <td>4</td>\n",
       "      <td>193891</td>\n",
       "      <td>F. Escobar</td>\n",
       "      <td>Atlanta United FC</td>\n",
       "      <td>D</td>\n",
       "      <td>6.9</td>\n",
       "    </tr>\n",
       "    <tr>\n",
       "      <td>...</td>\n",
       "      <td>...</td>\n",
       "      <td>...</td>\n",
       "      <td>...</td>\n",
       "      <td>...</td>\n",
       "      <td>...</td>\n",
       "    </tr>\n",
       "    <tr>\n",
       "      <td>707</td>\n",
       "      <td>107672</td>\n",
       "      <td>B. Meredith</td>\n",
       "      <td>Vancouver Whitecaps FC</td>\n",
       "      <td>G</td>\n",
       "      <td>4.5</td>\n",
       "    </tr>\n",
       "    <tr>\n",
       "      <td>708</td>\n",
       "      <td>421351</td>\n",
       "      <td>P. Metcalfe</td>\n",
       "      <td>Vancouver Whitecaps FC</td>\n",
       "      <td>M</td>\n",
       "      <td>4.5</td>\n",
       "    </tr>\n",
       "    <tr>\n",
       "      <td>709</td>\n",
       "      <td>424258</td>\n",
       "      <td>G. Mukumbilwa</td>\n",
       "      <td>Vancouver Whitecaps FC</td>\n",
       "      <td>D</td>\n",
       "      <td>4.0</td>\n",
       "    </tr>\n",
       "    <tr>\n",
       "      <td>710</td>\n",
       "      <td>437697</td>\n",
       "      <td>D. Pecile</td>\n",
       "      <td>Vancouver Whitecaps FC</td>\n",
       "      <td>M</td>\n",
       "      <td>4.0</td>\n",
       "    </tr>\n",
       "    <tr>\n",
       "      <td>711</td>\n",
       "      <td>450421</td>\n",
       "      <td>R. Veselinovic</td>\n",
       "      <td>Vancouver Whitecaps FC</td>\n",
       "      <td>D</td>\n",
       "      <td>5.0</td>\n",
       "    </tr>\n",
       "  </tbody>\n",
       "</table>\n",
       "<p>712 rows × 5 columns</p>\n",
       "</div>"
      ],
      "text/plain": [
       "         ID            name                    team position  salary\n",
       "0    231969        E. Barco       Atlanta United FC        M    10.5\n",
       "1    122342      E. Hyndman       Atlanta United FC        M     9.5\n",
       "2    170797     P. Martinez       Atlanta United FC        M     9.3\n",
       "3     57769         F. Meza       Atlanta United FC        D     6.9\n",
       "4    193891      F. Escobar       Atlanta United FC        D     6.9\n",
       "..      ...             ...                     ...      ...     ...\n",
       "707  107672     B. Meredith  Vancouver Whitecaps FC        G     4.5\n",
       "708  421351     P. Metcalfe  Vancouver Whitecaps FC        M     4.5\n",
       "709  424258   G. Mukumbilwa  Vancouver Whitecaps FC        D     4.0\n",
       "710  437697       D. Pecile  Vancouver Whitecaps FC        M     4.0\n",
       "711  450421  R. Veselinovic  Vancouver Whitecaps FC        D     5.0\n",
       "\n",
       "[712 rows x 5 columns]"
      ]
     },
     "execution_count": 319,
     "metadata": {},
     "output_type": "execute_result"
    }
   ],
   "source": [
    "pd.read_csv('../data/mls_player_metadata_all.csv', names=['ID', 'name', 'team', 'position', 'salary'])"
   ]
  },
  {
   "cell_type": "code",
   "execution_count": null,
   "metadata": {},
   "outputs": [],
   "source": []
  },
  {
   "cell_type": "code",
   "execution_count": 193,
   "metadata": {},
   "outputs": [
    {
     "data": {
      "text/html": [
       "<div>\n",
       "<style scoped>\n",
       "    .dataframe tbody tr th:only-of-type {\n",
       "        vertical-align: middle;\n",
       "    }\n",
       "\n",
       "    .dataframe tbody tr th {\n",
       "        vertical-align: top;\n",
       "    }\n",
       "\n",
       "    .dataframe thead th {\n",
       "        text-align: right;\n",
       "    }\n",
       "</style>\n",
       "<table border=\"1\" class=\"dataframe\">\n",
       "  <thead>\n",
       "    <tr style=\"text-align: right;\">\n",
       "      <th></th>\n",
       "      <th>ID</th>\n",
       "      <th>NAME</th>\n",
       "      <th>TEAM</th>\n",
       "      <th>RD</th>\n",
       "      <th>HOME_AWAY</th>\n",
       "      <th>OPPONENT</th>\n",
       "      <th>PTS</th>\n",
       "      <th>MIN</th>\n",
       "      <th>GF</th>\n",
       "      <th>A</th>\n",
       "      <th>...</th>\n",
       "      <th>CRS</th>\n",
       "      <th>BC</th>\n",
       "      <th>CL</th>\n",
       "      <th>BLK</th>\n",
       "      <th>INT</th>\n",
       "      <th>BR</th>\n",
       "      <th>ELG</th>\n",
       "      <th>OGA</th>\n",
       "      <th>SH</th>\n",
       "      <th>WF</th>\n",
       "    </tr>\n",
       "  </thead>\n",
       "  <tbody>\n",
       "    <tr>\n",
       "      <td>0</td>\n",
       "      <td>231969</td>\n",
       "      <td>E. Barco</td>\n",
       "      <td>Atlanta United FC</td>\n",
       "      <td>1</td>\n",
       "      <td>@</td>\n",
       "      <td>Nashville SC</td>\n",
       "      <td>7</td>\n",
       "      <td>90</td>\n",
       "      <td>1</td>\n",
       "      <td>0</td>\n",
       "      <td>...</td>\n",
       "      <td>0</td>\n",
       "      <td>0</td>\n",
       "      <td>0</td>\n",
       "      <td>0</td>\n",
       "      <td>0</td>\n",
       "      <td>3</td>\n",
       "      <td>0</td>\n",
       "      <td>0</td>\n",
       "      <td>2</td>\n",
       "      <td>3</td>\n",
       "    </tr>\n",
       "    <tr>\n",
       "      <td>1</td>\n",
       "      <td>231969</td>\n",
       "      <td>E. Barco</td>\n",
       "      <td>Atlanta United FC</td>\n",
       "      <td>2</td>\n",
       "      <td>vs</td>\n",
       "      <td>FC Cincinnati</td>\n",
       "      <td>13</td>\n",
       "      <td>90</td>\n",
       "      <td>1</td>\n",
       "      <td>1</td>\n",
       "      <td>...</td>\n",
       "      <td>0</td>\n",
       "      <td>0</td>\n",
       "      <td>0</td>\n",
       "      <td>0</td>\n",
       "      <td>0</td>\n",
       "      <td>5</td>\n",
       "      <td>0</td>\n",
       "      <td>0</td>\n",
       "      <td>4</td>\n",
       "      <td>5</td>\n",
       "    </tr>\n",
       "    <tr>\n",
       "      <td>2</td>\n",
       "      <td>122342</td>\n",
       "      <td>E. Hyndman</td>\n",
       "      <td>Atlanta United FC</td>\n",
       "      <td>1</td>\n",
       "      <td>@</td>\n",
       "      <td>Nashville SC</td>\n",
       "      <td>8</td>\n",
       "      <td>90</td>\n",
       "      <td>1</td>\n",
       "      <td>0</td>\n",
       "      <td>...</td>\n",
       "      <td>0</td>\n",
       "      <td>0</td>\n",
       "      <td>0</td>\n",
       "      <td>0</td>\n",
       "      <td>1</td>\n",
       "      <td>3</td>\n",
       "      <td>0</td>\n",
       "      <td>0</td>\n",
       "      <td>1</td>\n",
       "      <td>0</td>\n",
       "    </tr>\n",
       "    <tr>\n",
       "      <td>3</td>\n",
       "      <td>122342</td>\n",
       "      <td>E. Hyndman</td>\n",
       "      <td>Atlanta United FC</td>\n",
       "      <td>2</td>\n",
       "      <td>vs</td>\n",
       "      <td>FC Cincinnati</td>\n",
       "      <td>9</td>\n",
       "      <td>90</td>\n",
       "      <td>1</td>\n",
       "      <td>0</td>\n",
       "      <td>...</td>\n",
       "      <td>0</td>\n",
       "      <td>1</td>\n",
       "      <td>0</td>\n",
       "      <td>1</td>\n",
       "      <td>2</td>\n",
       "      <td>4</td>\n",
       "      <td>0</td>\n",
       "      <td>0</td>\n",
       "      <td>1</td>\n",
       "      <td>0</td>\n",
       "    </tr>\n",
       "    <tr>\n",
       "      <td>4</td>\n",
       "      <td>170797</td>\n",
       "      <td>P. Martinez</td>\n",
       "      <td>Atlanta United FC</td>\n",
       "      <td>1</td>\n",
       "      <td>@</td>\n",
       "      <td>Nashville SC</td>\n",
       "      <td>3</td>\n",
       "      <td>81</td>\n",
       "      <td>0</td>\n",
       "      <td>0</td>\n",
       "      <td>...</td>\n",
       "      <td>0</td>\n",
       "      <td>0</td>\n",
       "      <td>1</td>\n",
       "      <td>0</td>\n",
       "      <td>0</td>\n",
       "      <td>3</td>\n",
       "      <td>0</td>\n",
       "      <td>0</td>\n",
       "      <td>1</td>\n",
       "      <td>4</td>\n",
       "    </tr>\n",
       "  </tbody>\n",
       "</table>\n",
       "<p>5 rows × 32 columns</p>\n",
       "</div>"
      ],
      "text/plain": [
       "       ID         NAME               TEAM  RD HOME_AWAY       OPPONENT  PTS  \\\n",
       "0  231969     E. Barco  Atlanta United FC   1         @   Nashville SC    7   \n",
       "1  231969     E. Barco  Atlanta United FC   2        vs  FC Cincinnati   13   \n",
       "2  122342   E. Hyndman  Atlanta United FC   1         @   Nashville SC    8   \n",
       "3  122342   E. Hyndman  Atlanta United FC   2        vs  FC Cincinnati    9   \n",
       "4  170797  P. Martinez  Atlanta United FC   1         @   Nashville SC    3   \n",
       "\n",
       "  MIN GF  A  ... CRS BC CL BLK INT BR ELG OGA SH WF  \n",
       "0  90  1  0  ...   0  0  0   0   0  3   0   0  2  3  \n",
       "1  90  1  1  ...   0  0  0   0   0  5   0   0  4  5  \n",
       "2  90  1  0  ...   0  0  0   0   1  3   0   0  1  0  \n",
       "3  90  1  0  ...   0  1  0   1   2  4   0   0  1  0  \n",
       "4  81  0  0  ...   0  0  1   0   0  3   0   0  1  4  \n",
       "\n",
       "[5 rows x 32 columns]"
      ]
     },
     "execution_count": 193,
     "metadata": {},
     "output_type": "execute_result"
    }
   ],
   "source": [
    "pd.read_csv('mls_player_stats_100.csv', names=player_columns).head()"
   ]
  },
  {
   "cell_type": "code",
   "execution_count": 210,
   "metadata": {},
   "outputs": [],
   "source": [
    "all_players = mls_player_stats_100 + mls_player_stats_300 + mls_player_stats_500 + mls_player_stats_600 + mls_player_stats_rest"
   ]
  },
  {
   "cell_type": "code",
   "execution_count": 219,
   "metadata": {},
   "outputs": [],
   "source": [
    "with open('mls_player_stats_all.csv', 'w', newline='') as f:\n",
    "    writer = csv.writer(f)\n",
    "    writer.writerows(all_players)"
   ]
  },
  {
   "cell_type": "code",
   "execution_count": 316,
   "metadata": {},
   "outputs": [
    {
     "data": {
      "text/plain": [
       "32"
      ]
     },
     "execution_count": 316,
     "metadata": {},
     "output_type": "execute_result"
    }
   ],
   "source": [
    "len(all_players[0])"
   ]
  },
  {
   "cell_type": "code",
   "execution_count": 220,
   "metadata": {},
   "outputs": [
    {
     "data": {
      "text/html": [
       "<div>\n",
       "<style scoped>\n",
       "    .dataframe tbody tr th:only-of-type {\n",
       "        vertical-align: middle;\n",
       "    }\n",
       "\n",
       "    .dataframe tbody tr th {\n",
       "        vertical-align: top;\n",
       "    }\n",
       "\n",
       "    .dataframe thead th {\n",
       "        text-align: right;\n",
       "    }\n",
       "</style>\n",
       "<table border=\"1\" class=\"dataframe\">\n",
       "  <thead>\n",
       "    <tr style=\"text-align: right;\">\n",
       "      <th></th>\n",
       "      <th>ID</th>\n",
       "      <th>NAME</th>\n",
       "      <th>TEAM</th>\n",
       "      <th>RD</th>\n",
       "      <th>HOME_AWAY</th>\n",
       "      <th>OPPONENT</th>\n",
       "      <th>PTS</th>\n",
       "      <th>MIN</th>\n",
       "      <th>GF</th>\n",
       "      <th>A</th>\n",
       "      <th>...</th>\n",
       "      <th>CRS</th>\n",
       "      <th>BC</th>\n",
       "      <th>CL</th>\n",
       "      <th>BLK</th>\n",
       "      <th>INT</th>\n",
       "      <th>BR</th>\n",
       "      <th>ELG</th>\n",
       "      <th>OGA</th>\n",
       "      <th>SH</th>\n",
       "      <th>WF</th>\n",
       "    </tr>\n",
       "  </thead>\n",
       "  <tbody>\n",
       "    <tr>\n",
       "      <td>0</td>\n",
       "      <td>231969</td>\n",
       "      <td>E. Barco</td>\n",
       "      <td>Atlanta United FC</td>\n",
       "      <td>1</td>\n",
       "      <td>@</td>\n",
       "      <td>Nashville SC</td>\n",
       "      <td>7</td>\n",
       "      <td>90</td>\n",
       "      <td>1</td>\n",
       "      <td>0</td>\n",
       "      <td>...</td>\n",
       "      <td>0</td>\n",
       "      <td>0</td>\n",
       "      <td>0</td>\n",
       "      <td>0</td>\n",
       "      <td>0</td>\n",
       "      <td>3</td>\n",
       "      <td>0</td>\n",
       "      <td>0</td>\n",
       "      <td>2</td>\n",
       "      <td>3</td>\n",
       "    </tr>\n",
       "    <tr>\n",
       "      <td>1</td>\n",
       "      <td>231969</td>\n",
       "      <td>E. Barco</td>\n",
       "      <td>Atlanta United FC</td>\n",
       "      <td>2</td>\n",
       "      <td>vs</td>\n",
       "      <td>FC Cincinnati</td>\n",
       "      <td>13</td>\n",
       "      <td>90</td>\n",
       "      <td>1</td>\n",
       "      <td>1</td>\n",
       "      <td>...</td>\n",
       "      <td>0</td>\n",
       "      <td>0</td>\n",
       "      <td>0</td>\n",
       "      <td>0</td>\n",
       "      <td>0</td>\n",
       "      <td>5</td>\n",
       "      <td>0</td>\n",
       "      <td>0</td>\n",
       "      <td>4</td>\n",
       "      <td>5</td>\n",
       "    </tr>\n",
       "    <tr>\n",
       "      <td>2</td>\n",
       "      <td>122342</td>\n",
       "      <td>E. Hyndman</td>\n",
       "      <td>Atlanta United FC</td>\n",
       "      <td>1</td>\n",
       "      <td>@</td>\n",
       "      <td>Nashville SC</td>\n",
       "      <td>8</td>\n",
       "      <td>90</td>\n",
       "      <td>1</td>\n",
       "      <td>0</td>\n",
       "      <td>...</td>\n",
       "      <td>0</td>\n",
       "      <td>0</td>\n",
       "      <td>0</td>\n",
       "      <td>0</td>\n",
       "      <td>1</td>\n",
       "      <td>3</td>\n",
       "      <td>0</td>\n",
       "      <td>0</td>\n",
       "      <td>1</td>\n",
       "      <td>0</td>\n",
       "    </tr>\n",
       "    <tr>\n",
       "      <td>3</td>\n",
       "      <td>122342</td>\n",
       "      <td>E. Hyndman</td>\n",
       "      <td>Atlanta United FC</td>\n",
       "      <td>2</td>\n",
       "      <td>vs</td>\n",
       "      <td>FC Cincinnati</td>\n",
       "      <td>9</td>\n",
       "      <td>90</td>\n",
       "      <td>1</td>\n",
       "      <td>0</td>\n",
       "      <td>...</td>\n",
       "      <td>0</td>\n",
       "      <td>1</td>\n",
       "      <td>0</td>\n",
       "      <td>1</td>\n",
       "      <td>2</td>\n",
       "      <td>4</td>\n",
       "      <td>0</td>\n",
       "      <td>0</td>\n",
       "      <td>1</td>\n",
       "      <td>0</td>\n",
       "    </tr>\n",
       "    <tr>\n",
       "      <td>4</td>\n",
       "      <td>170797</td>\n",
       "      <td>P. Martinez</td>\n",
       "      <td>Atlanta United FC</td>\n",
       "      <td>1</td>\n",
       "      <td>@</td>\n",
       "      <td>Nashville SC</td>\n",
       "      <td>3</td>\n",
       "      <td>81</td>\n",
       "      <td>0</td>\n",
       "      <td>0</td>\n",
       "      <td>...</td>\n",
       "      <td>0</td>\n",
       "      <td>0</td>\n",
       "      <td>1</td>\n",
       "      <td>0</td>\n",
       "      <td>0</td>\n",
       "      <td>3</td>\n",
       "      <td>0</td>\n",
       "      <td>0</td>\n",
       "      <td>1</td>\n",
       "      <td>4</td>\n",
       "    </tr>\n",
       "    <tr>\n",
       "      <td>...</td>\n",
       "      <td>...</td>\n",
       "      <td>...</td>\n",
       "      <td>...</td>\n",
       "      <td>...</td>\n",
       "      <td>...</td>\n",
       "      <td>...</td>\n",
       "      <td>...</td>\n",
       "      <td>...</td>\n",
       "      <td>...</td>\n",
       "      <td>...</td>\n",
       "      <td>...</td>\n",
       "      <td>...</td>\n",
       "      <td>...</td>\n",
       "      <td>...</td>\n",
       "      <td>...</td>\n",
       "      <td>...</td>\n",
       "      <td>...</td>\n",
       "      <td>...</td>\n",
       "      <td>...</td>\n",
       "      <td>...</td>\n",
       "      <td>...</td>\n",
       "    </tr>\n",
       "    <tr>\n",
       "      <td>1419</td>\n",
       "      <td>437697</td>\n",
       "      <td>D. Pecile</td>\n",
       "      <td>Vancouver Whitecaps FC</td>\n",
       "      <td>2</td>\n",
       "      <td>@</td>\n",
       "      <td>LA Galaxy</td>\n",
       "      <td>0</td>\n",
       "      <td>-</td>\n",
       "      <td>-</td>\n",
       "      <td>-</td>\n",
       "      <td>...</td>\n",
       "      <td>-</td>\n",
       "      <td>-</td>\n",
       "      <td>-</td>\n",
       "      <td>-</td>\n",
       "      <td>-</td>\n",
       "      <td>-</td>\n",
       "      <td>-</td>\n",
       "      <td>-</td>\n",
       "      <td>-</td>\n",
       "      <td>-</td>\n",
       "    </tr>\n",
       "    <tr>\n",
       "      <td>1420</td>\n",
       "      <td>450421</td>\n",
       "      <td>R. Veselinovic</td>\n",
       "      <td>Vancouver Whitecaps FC</td>\n",
       "      <td>1</td>\n",
       "      <td>vs</td>\n",
       "      <td>Sporting Kansas City</td>\n",
       "      <td>0</td>\n",
       "      <td>-</td>\n",
       "      <td>-</td>\n",
       "      <td>-</td>\n",
       "      <td>...</td>\n",
       "      <td>-</td>\n",
       "      <td>-</td>\n",
       "      <td>-</td>\n",
       "      <td>-</td>\n",
       "      <td>-</td>\n",
       "      <td>-</td>\n",
       "      <td>-</td>\n",
       "      <td>-</td>\n",
       "      <td>-</td>\n",
       "      <td>-</td>\n",
       "    </tr>\n",
       "    <tr>\n",
       "      <td>1421</td>\n",
       "      <td>450421</td>\n",
       "      <td>R. Veselinovic</td>\n",
       "      <td>Vancouver Whitecaps FC</td>\n",
       "      <td>2</td>\n",
       "      <td>@</td>\n",
       "      <td>LA Galaxy</td>\n",
       "      <td>0</td>\n",
       "      <td>-</td>\n",
       "      <td>-</td>\n",
       "      <td>-</td>\n",
       "      <td>...</td>\n",
       "      <td>-</td>\n",
       "      <td>-</td>\n",
       "      <td>-</td>\n",
       "      <td>-</td>\n",
       "      <td>-</td>\n",
       "      <td>-</td>\n",
       "      <td>-</td>\n",
       "      <td>-</td>\n",
       "      <td>-</td>\n",
       "      <td>-</td>\n",
       "    </tr>\n",
       "    <tr>\n",
       "      <td>1422</td>\n",
       "      <td>110596</td>\n",
       "      <td>M. Ibarra</td>\n",
       "      <td>Seattle Sounders FC</td>\n",
       "      <td>1</td>\n",
       "      <td>vs</td>\n",
       "      <td>Chicago Fire FC</td>\n",
       "      <td>3</td>\n",
       "      <td>73</td>\n",
       "      <td>0</td>\n",
       "      <td>0</td>\n",
       "      <td>...</td>\n",
       "      <td>0</td>\n",
       "      <td>0</td>\n",
       "      <td>0</td>\n",
       "      <td>0</td>\n",
       "      <td>1</td>\n",
       "      <td>2</td>\n",
       "      <td>0</td>\n",
       "      <td>0</td>\n",
       "      <td>6</td>\n",
       "      <td>0</td>\n",
       "    </tr>\n",
       "    <tr>\n",
       "      <td>1423</td>\n",
       "      <td>110596</td>\n",
       "      <td>M. Ibarra</td>\n",
       "      <td>Seattle Sounders FC</td>\n",
       "      <td>2</td>\n",
       "      <td>vs</td>\n",
       "      <td>Columbus Crew SC</td>\n",
       "      <td>1</td>\n",
       "      <td>59</td>\n",
       "      <td>0</td>\n",
       "      <td>0</td>\n",
       "      <td>...</td>\n",
       "      <td>0</td>\n",
       "      <td>0</td>\n",
       "      <td>1</td>\n",
       "      <td>0</td>\n",
       "      <td>2</td>\n",
       "      <td>2</td>\n",
       "      <td>0</td>\n",
       "      <td>0</td>\n",
       "      <td>0</td>\n",
       "      <td>0</td>\n",
       "    </tr>\n",
       "  </tbody>\n",
       "</table>\n",
       "<p>1424 rows × 32 columns</p>\n",
       "</div>"
      ],
      "text/plain": [
       "          ID            NAME                    TEAM  RD HOME_AWAY  \\\n",
       "0     231969        E. Barco       Atlanta United FC   1         @   \n",
       "1     231969        E. Barco       Atlanta United FC   2        vs   \n",
       "2     122342      E. Hyndman       Atlanta United FC   1         @   \n",
       "3     122342      E. Hyndman       Atlanta United FC   2        vs   \n",
       "4     170797     P. Martinez       Atlanta United FC   1         @   \n",
       "...      ...             ...                     ...  ..       ...   \n",
       "1419  437697       D. Pecile  Vancouver Whitecaps FC   2         @   \n",
       "1420  450421  R. Veselinovic  Vancouver Whitecaps FC   1        vs   \n",
       "1421  450421  R. Veselinovic  Vancouver Whitecaps FC   2         @   \n",
       "1422  110596       M. Ibarra     Seattle Sounders FC   1        vs   \n",
       "1423  110596       M. Ibarra     Seattle Sounders FC   2        vs   \n",
       "\n",
       "                  OPPONENT  PTS MIN GF  A  ... CRS BC CL BLK INT BR ELG OGA  \\\n",
       "0             Nashville SC    7  90  1  0  ...   0  0  0   0   0  3   0   0   \n",
       "1            FC Cincinnati   13  90  1  1  ...   0  0  0   0   0  5   0   0   \n",
       "2             Nashville SC    8  90  1  0  ...   0  0  0   0   1  3   0   0   \n",
       "3            FC Cincinnati    9  90  1  0  ...   0  1  0   1   2  4   0   0   \n",
       "4             Nashville SC    3  81  0  0  ...   0  0  1   0   0  3   0   0   \n",
       "...                    ...  ...  .. .. ..  ...  .. .. ..  ..  .. ..  ..  ..   \n",
       "1419             LA Galaxy    0   -  -  -  ...   -  -  -   -   -  -   -   -   \n",
       "1420  Sporting Kansas City    0   -  -  -  ...   -  -  -   -   -  -   -   -   \n",
       "1421             LA Galaxy    0   -  -  -  ...   -  -  -   -   -  -   -   -   \n",
       "1422       Chicago Fire FC    3  73  0  0  ...   0  0  0   0   1  2   0   0   \n",
       "1423      Columbus Crew SC    1  59  0  0  ...   0  0  1   0   2  2   0   0   \n",
       "\n",
       "     SH WF  \n",
       "0     2  3  \n",
       "1     4  5  \n",
       "2     1  0  \n",
       "3     1  0  \n",
       "4     1  4  \n",
       "...  .. ..  \n",
       "1419  -  -  \n",
       "1420  -  -  \n",
       "1421  -  -  \n",
       "1422  6  0  \n",
       "1423  0  0  \n",
       "\n",
       "[1424 rows x 32 columns]"
      ]
     },
     "execution_count": 220,
     "metadata": {},
     "output_type": "execute_result"
    }
   ],
   "source": [
    "pd.read_csv('mls_player_stats_all.csv', names=player_columns)"
   ]
  },
  {
   "cell_type": "code",
   "execution_count": null,
   "metadata": {},
   "outputs": [],
   "source": []
  },
  {
   "cell_type": "code",
   "execution_count": 92,
   "metadata": {},
   "outputs": [],
   "source": [
    "# to get player ids in a list format\n",
    "with open('../data/mls_player_ids.csv', newline='') as f:\n",
    "    reader = csv.reader(f)\n",
    "    player_ids = list(reader)"
   ]
  },
  {
   "cell_type": "code",
   "execution_count": 101,
   "metadata": {},
   "outputs": [
    {
     "data": {
      "text/plain": [
       "712"
      ]
     },
     "execution_count": 101,
     "metadata": {},
     "output_type": "execute_result"
    }
   ],
   "source": [
    "len(player_ids)"
   ]
  },
  {
   "cell_type": "code",
   "execution_count": 102,
   "metadata": {},
   "outputs": [
    {
     "data": {
      "text/plain": [
       "[['231969', 'E. Barco', 'Atlanta United FC'],\n",
       " ['122342', 'E. Hyndman', 'Atlanta United FC'],\n",
       " ['170797', 'P. Martinez', 'Atlanta United FC'],\n",
       " ['57769', 'F. Meza', 'Atlanta United FC'],\n",
       " ['193891', 'F. Escobar', 'Atlanta United FC']]"
      ]
     },
     "execution_count": 102,
     "metadata": {},
     "output_type": "execute_result"
    }
   ],
   "source": [
    "player_ids[:5]"
   ]
  },
  {
   "cell_type": "code",
   "execution_count": 117,
   "metadata": {},
   "outputs": [],
   "source": [
    "# todo - refactor function to take appropriate div class, based on scraping for weekly data, updated metadata,\n",
    "# or updated top stats data\n",
    "\n",
    "def get_all_player_top_stats(web_driver: Chrome, \n",
    "                         player_ids: List[List[str]]) -> List[List[str]]:\n",
    "    '''Function to go to the web and pull all players and stats for the players, by week, from the MLS\n",
    "    Fantasy League website. \n",
    "    Must use a driver that is logged in to the site.\n",
    "    Must use the full mls_player_ids which includes ID, player's name, and team for each player.\n",
    "    \n",
    "    For player data, use string 'div.row-table'.\n",
    "    For player metadata, use string 'div.player-info-wrapper'.\n",
    "    For player top stats, use string 'div.profile-top-stats'.\n",
    "    '''\n",
    "    player_stats = []\n",
    "    \n",
    "    page_link = 'https://fantasy.mlssoccer.com/#stats-center/player-profile/'\n",
    "\n",
    "    # taking the list of mls_players, and adding the ID to the end of the page_link string in order to navigate to\n",
    "    # that page. Can use this to cycle through all the player pages to amass weekly stats\n",
    "    for player in player_ids:\n",
    "        #print(page_link)\n",
    "        #print(player[0])\n",
    "        web_driver.get(page_link + player[0])\n",
    "        time.sleep(5)\n",
    "        \n",
    "        # on the specific player page, create a page object for beautifulsoup to parse for the content\n",
    "        html = web_driver.page_source\n",
    "        soup = BeautifulSoup(html, 'html.parser')\n",
    "        \n",
    "        # using the beautiful soup object to get the specific player details. will use this over and over to scrape and\n",
    "        # store all the players data\n",
    "        table = soup.select('div.profile-top-stats')\n",
    "        table_text = [stats.text for stats in table]\n",
    "        \n",
    "        if len(player_stats) % 25 == 0:\n",
    "            print(f\"Scraped {round(100 * len(player_stats) / len(player_ids), 2)}% so far\")\n",
    "        player_stats.append([player[0]] +\n",
    "                            [player[1]] +\n",
    "                            [player[2]] +\n",
    "                            pds.clean_data(table_text[0]))\n",
    "\n",
    "    return player_stats"
   ]
  },
  {
   "cell_type": "code",
   "execution_count": 104,
   "metadata": {},
   "outputs": [
    {
     "name": "stdout",
     "output_type": "stream",
     "text": [
      "Scraped 0.0% so far\n"
     ]
    },
    {
     "data": {
      "text/plain": [
       "[['231969',\n",
       "  'E. Barco',\n",
       "  'Atlanta United FC',\n",
       "  'GAMES PLAYED',\n",
       "  '2',\n",
       "  'AVG FANTASY PTS',\n",
       "  '10',\n",
       "  'TOTAL FANTASY PTS',\n",
       "  '20',\n",
       "  'LAST WK FANTASY PTS',\n",
       "  '13',\n",
       "  '3 WK AVG',\n",
       "  '9',\n",
       "  '5 WK AVG',\n",
       "  '7',\n",
       "  'HIGH SCORE',\n",
       "  '13',\n",
       "  'LOW SCORE',\n",
       "  '7',\n",
       "  'OWNED BY',\n",
       "  '23.61',\n",
       "  '$/POINT',\n",
       "  ' $525K',\n",
       "  'RD 2 RANK',\n",
       "  '3',\n",
       "  'SEASON RANK',\n",
       "  '5'],\n",
       " ['122342',\n",
       "  'E. Hyndman',\n",
       "  'Atlanta United FC',\n",
       "  'GAMES PLAYED',\n",
       "  '2',\n",
       "  'AVG FANTASY PTS',\n",
       "  '8.5',\n",
       "  'TOTAL FANTASY PTS',\n",
       "  '17',\n",
       "  'LAST WK FANTASY PTS',\n",
       "  '9',\n",
       "  '3 WK AVG',\n",
       "  '6.33',\n",
       "  '5 WK AVG',\n",
       "  '5.4',\n",
       "  'HIGH SCORE',\n",
       "  '9',\n",
       "  'LOW SCORE',\n",
       "  '8',\n",
       "  'OWNED BY',\n",
       "  '3.96',\n",
       "  '$/POINT',\n",
       "  ' $559K',\n",
       "  'RD 2 RANK',\n",
       "  '21',\n",
       "  'SEASON RANK',\n",
       "  '17'],\n",
       " ['170797',\n",
       "  'P. Martinez',\n",
       "  'Atlanta United FC',\n",
       "  'GAMES PLAYED',\n",
       "  '2',\n",
       "  'AVG FANTASY PTS',\n",
       "  '7',\n",
       "  'TOTAL FANTASY PTS',\n",
       "  '14',\n",
       "  'LAST WK FANTASY PTS',\n",
       "  '11',\n",
       "  '3 WK AVG',\n",
       "  '5.67',\n",
       "  '5 WK AVG',\n",
       "  '7',\n",
       "  'HIGH SCORE',\n",
       "  '11',\n",
       "  'LOW SCORE',\n",
       "  '3',\n",
       "  'OWNED BY',\n",
       "  '20.57',\n",
       "  '$/POINT',\n",
       "  ' $665K',\n",
       "  'RD 2 RANK',\n",
       "  '7',\n",
       "  'SEASON RANK',\n",
       "  '32'],\n",
       " ['57769',\n",
       "  'F. Meza',\n",
       "  'Atlanta United FC',\n",
       "  'GAMES PLAYED',\n",
       "  '2',\n",
       "  'AVG FANTASY PTS',\n",
       "  '5.5',\n",
       "  'TOTAL FANTASY PTS',\n",
       "  '11',\n",
       "  'LAST WK FANTASY PTS',\n",
       "  '7',\n",
       "  '3 WK AVG',\n",
       "  '5.5',\n",
       "  '5 WK AVG',\n",
       "  '5.5',\n",
       "  'HIGH SCORE',\n",
       "  '7',\n",
       "  'LOW SCORE',\n",
       "  '4',\n",
       "  'OWNED BY',\n",
       "  '3.07',\n",
       "  '$/POINT',\n",
       "  ' $628K',\n",
       "  'RD 2 RANK',\n",
       "  '61',\n",
       "  'SEASON RANK',\n",
       "  '88'],\n",
       " ['193891',\n",
       "  'F. Escobar',\n",
       "  'Atlanta United FC',\n",
       "  'GAMES PLAYED',\n",
       "  '1',\n",
       "  'AVG FANTASY PTS',\n",
       "  '5',\n",
       "  'TOTAL FANTASY PTS',\n",
       "  '5',\n",
       "  'LAST WK FANTASY PTS',\n",
       "  'DNP',\n",
       "  '3 WK AVG',\n",
       "  '3.33',\n",
       "  '5 WK AVG',\n",
       "  '4.6',\n",
       "  'HIGH SCORE',\n",
       "  '5',\n",
       "  'LOW SCORE',\n",
       "  '5',\n",
       "  'OWNED BY',\n",
       "  '5.81',\n",
       "  '$/POINT',\n",
       "  ' $1,380K',\n",
       "  'RD 2 RANK',\n",
       "  '0',\n",
       "  'SEASON RANK',\n",
       "  '112']]"
      ]
     },
     "execution_count": 104,
     "metadata": {},
     "output_type": "execute_result"
    }
   ],
   "source": [
    "get_all_player_top_stats(driver, player_ids[:5])"
   ]
  },
  {
   "cell_type": "code",
   "execution_count": 107,
   "metadata": {},
   "outputs": [
    {
     "name": "stdout",
     "output_type": "stream",
     "text": [
      "Scraped 0.0% so far\n",
      "Scraped 12.5% so far\n",
      "Scraped 25.0% so far\n",
      "Scraped 37.5% so far\n"
     ]
    }
   ],
   "source": [
    "top_stats_100 = get_all_player_top_stats(driver, player_ids[:100])"
   ]
  },
  {
   "cell_type": "code",
   "execution_count": 112,
   "metadata": {},
   "outputs": [
    {
     "data": {
      "text/plain": [
       "['231969',\n",
       " 'E. Barco',\n",
       " 'Atlanta United FC',\n",
       " 'GAMES PLAYED',\n",
       " '2',\n",
       " 'AVG FANTASY PTS',\n",
       " '10',\n",
       " 'TOTAL FANTASY PTS',\n",
       " '20',\n",
       " 'LAST WK FANTASY PTS',\n",
       " '13',\n",
       " '3 WK AVG',\n",
       " '9',\n",
       " '5 WK AVG',\n",
       " '7',\n",
       " 'HIGH SCORE',\n",
       " '13',\n",
       " 'LOW SCORE',\n",
       " '7',\n",
       " 'OWNED BY',\n",
       " '23.61',\n",
       " '$/POINT',\n",
       " ' $525K',\n",
       " 'RD 2 RANK',\n",
       " '3',\n",
       " 'SEASON RANK',\n",
       " '5']"
      ]
     },
     "execution_count": 112,
     "metadata": {},
     "output_type": "execute_result"
    }
   ],
   "source": [
    "top_stats_100[0]"
   ]
  },
  {
   "cell_type": "code",
   "execution_count": 113,
   "metadata": {},
   "outputs": [],
   "source": [
    "with open('../data/top_stats/mls_player_top_stats_100.csv', 'w', newline='') as f:\n",
    "    writer = csv.writer(f)\n",
    "    writer.writerows(top_stats_100)"
   ]
  },
  {
   "cell_type": "code",
   "execution_count": 116,
   "metadata": {},
   "outputs": [
    {
     "name": "stdout",
     "output_type": "stream",
     "text": [
      "Scraped 0.0% so far\n",
      "Scraped 6.25% so far\n",
      "Scraped 12.5% so far\n",
      "Scraped 18.75% so far\n"
     ]
    }
   ],
   "source": [
    "top_stats_200 = get_all_player_top_stats(driver, player_ids[100:200])"
   ]
  },
  {
   "cell_type": "code",
   "execution_count": 118,
   "metadata": {},
   "outputs": [
    {
     "name": "stdout",
     "output_type": "stream",
     "text": [
      "Scraped 0.0% so far\n",
      "Scraped 25.0% so far\n",
      "Scraped 50.0% so far\n",
      "Scraped 75.0% so far\n"
     ]
    }
   ],
   "source": [
    "top_stats_300 = get_all_player_top_stats(driver, player_ids[200:300])"
   ]
  },
  {
   "cell_type": "code",
   "execution_count": 120,
   "metadata": {},
   "outputs": [
    {
     "name": "stdout",
     "output_type": "stream",
     "text": [
      "Scraped 0.0% so far\n",
      "Scraped 25.0% so far\n",
      "Scraped 50.0% so far\n",
      "Scraped 75.0% so far\n"
     ]
    }
   ],
   "source": [
    "top_stats_400 = get_all_player_top_stats(driver, player_ids[300:400])"
   ]
  },
  {
   "cell_type": "code",
   "execution_count": 124,
   "metadata": {},
   "outputs": [
    {
     "name": "stdout",
     "output_type": "stream",
     "text": [
      "Scraped 0.0% so far\n",
      "Scraped 25.0% so far\n",
      "Scraped 50.0% so far\n",
      "Scraped 75.0% so far\n"
     ]
    }
   ],
   "source": [
    "top_stats_500 = get_all_player_top_stats(driver, player_ids[400:500])"
   ]
  },
  {
   "cell_type": "code",
   "execution_count": 125,
   "metadata": {},
   "outputs": [
    {
     "name": "stdout",
     "output_type": "stream",
     "text": [
      "Scraped 0.0% so far\n",
      "Scraped 25.0% so far\n",
      "Scraped 50.0% so far\n",
      "Scraped 75.0% so far\n"
     ]
    }
   ],
   "source": [
    "top_stats_600 = get_all_player_top_stats(driver, player_ids[500:600])"
   ]
  },
  {
   "cell_type": "code",
   "execution_count": 127,
   "metadata": {},
   "outputs": [
    {
     "name": "stdout",
     "output_type": "stream",
     "text": [
      "Scraped 0.0% so far\n",
      "Scraped 22.32% so far\n",
      "Scraped 44.64% so far\n",
      "Scraped 66.96% so far\n",
      "Scraped 89.29% so far\n"
     ]
    }
   ],
   "source": [
    "top_stats_rest = get_all_player_top_stats(driver, player_ids[600:])"
   ]
  },
  {
   "cell_type": "code",
   "execution_count": 128,
   "metadata": {},
   "outputs": [],
   "source": [
    "top_stats_all = top_stats_100 + top_stats_200 + top_stats_300 + top_stats_400 + top_stats_500 + top_stats_600 + top_stats_rest"
   ]
  },
  {
   "cell_type": "code",
   "execution_count": 129,
   "metadata": {},
   "outputs": [],
   "source": [
    "with open('../data/top_stats/mls_player_top_stats_all.csv', 'w', newline='') as f:\n",
    "    writer = csv.writer(f)\n",
    "    writer.writerows(top_stats_all)"
   ]
  },
  {
   "cell_type": "code",
   "execution_count": 130,
   "metadata": {},
   "outputs": [
    {
     "data": {
      "text/plain": [
       "712"
      ]
     },
     "execution_count": 130,
     "metadata": {},
     "output_type": "execute_result"
    }
   ],
   "source": [
    "len(top_stats_all)"
   ]
  },
  {
   "cell_type": "code",
   "execution_count": 137,
   "metadata": {},
   "outputs": [
    {
     "data": {
      "text/plain": [
       "['172483',\n",
       " 'J. Morris',\n",
       " 'Seattle Sounders FC',\n",
       " 'GAMES PLAYED',\n",
       " '2',\n",
       " 'AVG FANTASY PTS',\n",
       " '7',\n",
       " 'TOTAL FANTASY PTS',\n",
       " '14',\n",
       " 'LAST WK FANTASY PTS',\n",
       " '2',\n",
       " '3 WK AVG',\n",
       " '5.33',\n",
       " '5 WK AVG',\n",
       " '5.2',\n",
       " 'HIGH SCORE',\n",
       " '12',\n",
       " 'LOW SCORE',\n",
       " '2',\n",
       " 'OWNED BY',\n",
       " '20.14',\n",
       " '$/POINT',\n",
       " ' $729K',\n",
       " 'RD 2 RANK',\n",
       " '216',\n",
       " 'SEASON RANK',\n",
       " '32']"
      ]
     },
     "execution_count": 137,
     "metadata": {},
     "output_type": "execute_result"
    }
   ],
   "source": [
    "top_stats_all[630]"
   ]
  },
  {
   "cell_type": "code",
   "execution_count": null,
   "metadata": {},
   "outputs": [],
   "source": []
  },
  {
   "cell_type": "code",
   "execution_count": null,
   "metadata": {},
   "outputs": [],
   "source": [
    "pds.clean_data(table_text[2])"
   ]
  },
  {
   "cell_type": "code",
   "execution_count": null,
   "metadata": {},
   "outputs": [],
   "source": [
    "pds.update_negative_scores(pds.clean_data(table_text[1]))"
   ]
  },
  {
   "cell_type": "code",
   "execution_count": null,
   "metadata": {},
   "outputs": [],
   "source": [
    "# this will provide the stats for each category for each week, this example is week2\n",
    "[int(stat) for stat in pds.clean_data(table_text[39])[0::2]]"
   ]
  },
  {
   "cell_type": "code",
   "execution_count": null,
   "metadata": {},
   "outputs": [],
   "source": [
    "# this provides the points total based on the stats for each week, this example is week2\n",
    "pds.clean_data(table_text[39])[1::2]"
   ]
  },
  {
   "cell_type": "code",
   "execution_count": null,
   "metadata": {},
   "outputs": [],
   "source": [
    "# game summary headline columns, opponent column split based on home ('vs') or away ('@')\n",
    "pds.clean_data(table_text[0])"
   ]
  },
  {
   "cell_type": "code",
   "execution_count": null,
   "metadata": {},
   "outputs": [],
   "source": [
    "# game 1\n",
    "print(f\"game 1: {pds.clean_data(table_text[1])}\")\n",
    "# game 2\n",
    "print(f\"game 2: {pds.clean_data(table_text[2])}\")\n",
    "# game 34\n",
    "print(f\"game 34: {pds.clean_data(table_text[34])}\")"
   ]
  },
  {
   "cell_type": "code",
   "execution_count": null,
   "metadata": {},
   "outputs": [],
   "source": [
    "# row 35 - summary row at the bottom of the page\n",
    "print(f\"row 35: {pds.clean_data(table_text[35])}\"'\\n')\n",
    "# row 36 this is the header row for columns for the in-game stats\n",
    "print(f\"row 36: {pds.clean_data(table_text[36])}\"'\\n')\n",
    "# row 37 this is the abbreviation header row for columns for the in-game stats\n",
    "print(f\"row 37: {pds.clean_data(table_text[37])}\"'\\n')\n",
    "# row 38, this is in-game stats for game 1\n",
    "print(f\"row 38: {pds.clean_data(table_text[38])}\")"
   ]
  },
  {
   "cell_type": "code",
   "execution_count": null,
   "metadata": {},
   "outputs": [],
   "source": [
    "pds.update_negative_scores(pds.clean_data(table_text[2])) + [int(stat) for stat in pds.clean_data(table_text[39])[0::2]]"
   ]
  },
  {
   "cell_type": "code",
   "execution_count": null,
   "metadata": {},
   "outputs": [],
   "source": []
  },
  {
   "cell_type": "code",
   "execution_count": null,
   "metadata": {},
   "outputs": [],
   "source": []
  },
  {
   "cell_type": "code",
   "execution_count": null,
   "metadata": {},
   "outputs": [],
   "source": [
    "# creates a list of points based on the row \n",
    "[int(point[1:-1]) for point in pds.clean_data(table_text[39])[1::2] if point.strip('-')]"
   ]
  },
  {
   "cell_type": "code",
   "execution_count": null,
   "metadata": {},
   "outputs": [],
   "source": [
    "# this is the sum of the points from the list above\n",
    "sum([int(point[1:-1]) for point in pds.clean_data(table_text[39])[1::2] if point.strip('-')])"
   ]
  },
  {
   "cell_type": "code",
   "execution_count": null,
   "metadata": {},
   "outputs": [],
   "source": [
    "# combining the first part of the table, that shows week number, home ('vs') or away ('@'), and the opponent\n",
    "# next is total points, then the number of minutes followed by all the stats for the week (ex: week 1)\n",
    "pds.update_negative_scores(pds.clean_data(table_text[1])) + [int(entry) for entry in pds.clean_data(table_text[38])[0::2]]"
   ]
  },
  {
   "cell_type": "code",
   "execution_count": null,
   "metadata": {},
   "outputs": [],
   "source": [
    "# combining the first part of the table, that shows week number, home ('vs') or away ('@'), and the opponent\n",
    "# next is total points, then the number of minutes followed by all the stats for the week (ex: week 2)\n",
    "pds.update_negative_scores(pds.clean_data(table_text[2])) + [int(entry) for entry in pds.clean_data(table_text[39])[0::2]]"
   ]
  },
  {
   "cell_type": "code",
   "execution_count": null,
   "metadata": {},
   "outputs": [],
   "source": []
  },
  {
   "cell_type": "code",
   "execution_count": null,
   "metadata": {},
   "outputs": [],
   "source": []
  },
  {
   "cell_type": "code",
   "execution_count": null,
   "metadata": {},
   "outputs": [],
   "source": []
  }
 ],
 "metadata": {
  "kernelspec": {
   "display_name": "Python 3",
   "language": "python",
   "name": "python3"
  },
  "language_info": {
   "codemirror_mode": {
    "name": "ipython",
    "version": 3
   },
   "file_extension": ".py",
   "mimetype": "text/x-python",
   "name": "python",
   "nbconvert_exporter": "python",
   "pygments_lexer": "ipython3",
   "version": "3.7.4"
  }
 },
 "nbformat": 4,
 "nbformat_minor": 2
}
